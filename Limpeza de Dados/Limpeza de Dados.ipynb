{
 "cells": [
  {
   "cell_type": "markdown",
   "id": "27791617",
   "metadata": {},
   "source": [
    "# Limpeza de Dados\n",
    "\n",
    "\n",
    "### Descrição do Conjunto de Dados\n",
    "\n",
    "O conjunto de dados utilizado nesta análise contém informações detalhadas sobre os candidatos aprovados em um processo seletivo do SISU (Sistema de Seleção Unificada). Ele abrange 418 registros, cada um representando um candidato, com as seguintes variáveis:\n",
    "\n",
    "1. **universidade** \n",
    "(*object*): Nome da universidade para a qual o candidato foi aprovado.  \n",
    "2. **campus** \n",
    "(*object*): Identificação do campus associado à universidade.  \n",
    "3. **nota_linguagens** (*float64*): Nota obtida na prova de Linguagens, Códigos e suas Tecnologias.  \n",
    "4. **nota_ciencias_humanas** (*float64*): Nota obtida na prova de Ciências Humanas e suas Tecnologias.  \n",
    "5. **nota_ciencias_natureza** (*float64*): Nota obtida na prova de Ciências da Natureza e suas Tecnologias.  \n",
    "6. **nota_matematica** (*float64*): Nota obtida na prova de Matemática e suas Tecnologias.  \n",
    "7. **nota_redacao** (*float64*): Nota obtida na redação.  \n",
    "8. **nota_final** (*float64*): Média final do candidato, considerando os pesos das notas conforme os critérios do SISU.  \n",
    "9. **sexo** (*object*): Gênero do candidato (masculino ou feminino).  \n",
    "10. **data_nascimento** (*object*): Data de nascimento do candidato.  \n",
    "11. **uf_candidato** (*object*): Unidade federativa de residência do candidato.  \n",
    "12. **modalidade_concorrencia** (*object*): Categoria de concorrência na qual o candidato participou (ex.: ampla concorrência, cotas). "
   ]
  },
  {
   "cell_type": "markdown",
   "id": "e4dccd7d",
   "metadata": {},
   "source": [
    "### 1 - Importação de Dados:\n",
    "Comecei importando as bibliotecas necessárias, como Pandas e Datetime, e configurei as opções de exibição do pandas para facilitar a visualização dos dados. Em seguida, carreguei o arquivo inicial, criando o DataFrame com os registros originais."
   ]
  },
  {
   "cell_type": "code",
   "execution_count": 89,
   "id": "3c1eaf6b",
   "metadata": {},
   "outputs": [],
   "source": [
    "# Importação da bibliteca Pandas para manipulação de dados\n",
    "import pandas as pd\n",
    "\n",
    "# Importação da bibliteca Datetime para manipulação de datas\n",
    "from datetime import datetime"
   ]
  },
  {
   "cell_type": "code",
   "execution_count": 90,
   "id": "03b4c98c",
   "metadata": {},
   "outputs": [],
   "source": [
    "# Formatando saída de dados\n",
    "pd.set_option('display.max_columns', None)\n",
    "pd.set_option('display.max_rows', None)\n",
    "pd.options.display.float_format = '{:.2f}'.format"
   ]
  },
  {
   "cell_type": "code",
   "execution_count": 91,
   "id": "8b8b6283",
   "metadata": {},
   "outputs": [],
   "source": [
    "# Importação de dados\n",
    "df = pd.read_csv('dataframe_sisu.csv')"
   ]
  },
  {
   "cell_type": "markdown",
   "id": "e053bce4",
   "metadata": {},
   "source": [
    "### 2 - Verificação do Consumo de Memória do Conjunto de Dados:\n",
    "Ao analisar o consumo de memória do dataset em gigabytes, identifiquei que as variáveis categóricas do tipo object representavam os maiores consumidores de memória. Em especial, as colunas **`'modalidade_concorrencia'`**, **`'campus'`** e **`'nome_curso'`**, juntas, utilizavam mais de 5 gigabytes de RAM. Com base nessa análise, direcionei os próximos passos do processo de compreensão e limpeza de dados para otimizar o uso de memória de forma eficiente."
   ]
  },
  {
   "cell_type": "code",
   "execution_count": 92,
   "id": "463bfd2f",
   "metadata": {},
   "outputs": [
    {
     "name": "stdout",
     "output_type": "stream",
     "text": [
      "modalidade_concorrencia    81910\n",
      "data_nascimento            28006\n",
      "universidade               25294\n",
      "uf_candidato               24662\n",
      "sexo                       24244\n",
      "nota_linguagens             3344\n",
      "nota_ciencias_humanas       3344\n",
      "nota_ciencias_natureza      3344\n",
      "nota_matematica             3344\n",
      "nota_redacao                3344\n",
      "nota_final                  3344\n",
      "id_municipio_candidato      3344\n",
      "Index                        128\n",
      "dtype: int64\n"
     ]
    }
   ],
   "source": [
    "# Avaliando o consumo de memória RAM em bytes da máquina para cada variávels do conjunto de dados\n",
    "RAM = df.memory_usage(deep = True)\n",
    "# Resultados ordenados\n",
    "RAM_sorted = RAM.sort_values(ascending=False)\n",
    "print(RAM_sorted)"
   ]
  },
  {
   "cell_type": "code",
   "execution_count": 93,
   "id": "52120c19",
   "metadata": {},
   "outputs": [
    {
     "data": {
      "text/plain": [
       "207652"
      ]
     },
     "execution_count": 93,
     "metadata": {},
     "output_type": "execute_result"
    }
   ],
   "source": [
    "# Consumo total em Bytes\n",
    "RAM.sum()"
   ]
  },
  {
   "cell_type": "code",
   "execution_count": 94,
   "id": "7301392b",
   "metadata": {},
   "outputs": [
    {
     "data": {
      "text/plain": [
       "0.00019339099526405334"
      ]
     },
     "execution_count": 94,
     "metadata": {},
     "output_type": "execute_result"
    }
   ],
   "source": [
    "# Convertendo bytes para GigaBytes\n",
    "RAM_GB = RAM.sum() / (1024 ** 3)\n",
    "RAM_GB"
   ]
  },
  {
   "cell_type": "code",
   "execution_count": 95,
   "id": "ccaa5b72",
   "metadata": {},
   "outputs": [
    {
     "data": {
      "text/plain": [
       "modalidade_concorrencia   39.45\n",
       "data_nascimento           13.49\n",
       "universidade              12.18\n",
       "uf_candidato              11.88\n",
       "sexo                      11.68\n",
       "nota_linguagens            1.61\n",
       "nota_ciencias_humanas      1.61\n",
       "nota_ciencias_natureza     1.61\n",
       "nota_matematica            1.61\n",
       "nota_redacao               1.61\n",
       "nota_final                 1.61\n",
       "id_municipio_candidato     1.61\n",
       "Index                      0.06\n",
       "dtype: float64"
      ]
     },
     "execution_count": 95,
     "metadata": {},
     "output_type": "execute_result"
    }
   ],
   "source": [
    "# Consumo de memória por variável em porcentagem\n",
    "RAM_sorted / RAM.sum() * 100"
   ]
  },
  {
   "cell_type": "markdown",
   "id": "a89fd567",
   "metadata": {},
   "source": [
    "### 3 - Compreendendo o Conjunto de Dados:\n",
    "\n",
    "#### Estrutura do Conjunto de Dados:\n",
    "O dataset analisado é composto por 138 linhas e 15 colunas, distribuídas entre diferentes tipos de variáveis:  \n",
    "- 7 variáveis do tipo flutuante **(float)** \n",
    "- 7 variáveis do tipo objeto **(string ou categóricas)**\n",
    "- 1 variável do tipo inteiro **(int)**\n",
    "\n",
    "#### Análise de Valores Nulos e Duplicidades:\n",
    "Uma avaliação preliminar revelou que o conjunto de dados não apresenta valores nulos ou registros duplicados. Essa qualidade garante maior consistência e confiabilidade para as análises subsequentes."
   ]
  },
  {
   "cell_type": "code",
   "execution_count": 96,
   "id": "b18c0320",
   "metadata": {
    "scrolled": true
   },
   "outputs": [
    {
     "name": "stdout",
     "output_type": "stream",
     "text": [
      "O conjunto de dados possui 418 linhas e 12 colunas.\n"
     ]
    }
   ],
   "source": [
    "# Visualizando forma do dataset em número de linhas e colunas\n",
    "sp = df.shape\n",
    "print(f\"O conjunto de dados possui {sp[0]} linhas e {sp[1]} colunas.\")"
   ]
  },
  {
   "cell_type": "code",
   "execution_count": 97,
   "id": "dbd2f2c5",
   "metadata": {
    "scrolled": true
   },
   "outputs": [
    {
     "data": {
      "text/html": [
       "<div>\n",
       "<style scoped>\n",
       "    .dataframe tbody tr th:only-of-type {\n",
       "        vertical-align: middle;\n",
       "    }\n",
       "\n",
       "    .dataframe tbody tr th {\n",
       "        vertical-align: top;\n",
       "    }\n",
       "\n",
       "    .dataframe thead th {\n",
       "        text-align: right;\n",
       "    }\n",
       "</style>\n",
       "<table border=\"1\" class=\"dataframe\">\n",
       "  <thead>\n",
       "    <tr style=\"text-align: right;\">\n",
       "      <th></th>\n",
       "      <th>universidade</th>\n",
       "      <th>nota_linguagens</th>\n",
       "      <th>nota_ciencias_humanas</th>\n",
       "      <th>nota_ciencias_natureza</th>\n",
       "      <th>nota_matematica</th>\n",
       "      <th>nota_redacao</th>\n",
       "      <th>nota_final</th>\n",
       "      <th>sexo</th>\n",
       "      <th>data_nascimento</th>\n",
       "      <th>uf_candidato</th>\n",
       "      <th>id_municipio_candidato</th>\n",
       "      <th>modalidade_concorrencia</th>\n",
       "    </tr>\n",
       "  </thead>\n",
       "  <tbody>\n",
       "    <tr>\n",
       "      <th>0</th>\n",
       "      <td>UFPE</td>\n",
       "      <td>588.50</td>\n",
       "      <td>648.60</td>\n",
       "      <td>547.10</td>\n",
       "      <td>651.00</td>\n",
       "      <td>820.00</td>\n",
       "      <td>657.53</td>\n",
       "      <td>M</td>\n",
       "      <td>2004-12-26</td>\n",
       "      <td>TO</td>\n",
       "      <td>1701002</td>\n",
       "      <td>Candidatos autodeclarados pretos. pardos ou in...</td>\n",
       "    </tr>\n",
       "    <tr>\n",
       "      <th>1</th>\n",
       "      <td>UPE</td>\n",
       "      <td>560.50</td>\n",
       "      <td>551.30</td>\n",
       "      <td>476.50</td>\n",
       "      <td>410.10</td>\n",
       "      <td>580.00</td>\n",
       "      <td>515.68</td>\n",
       "      <td>F</td>\n",
       "      <td>2001-06-01</td>\n",
       "      <td>SP</td>\n",
       "      <td>3550308</td>\n",
       "      <td>egressos de escolas públicas da rede federal. ...</td>\n",
       "    </tr>\n",
       "    <tr>\n",
       "      <th>2</th>\n",
       "      <td>UPE</td>\n",
       "      <td>496.60</td>\n",
       "      <td>355.70</td>\n",
       "      <td>573.40</td>\n",
       "      <td>745.70</td>\n",
       "      <td>720.00</td>\n",
       "      <td>578.28</td>\n",
       "      <td>M</td>\n",
       "      <td>2002-10-19</td>\n",
       "      <td>SP</td>\n",
       "      <td>3547809</td>\n",
       "      <td>Ampla concorrência</td>\n",
       "    </tr>\n",
       "    <tr>\n",
       "      <th>3</th>\n",
       "      <td>UFPE</td>\n",
       "      <td>506.90</td>\n",
       "      <td>579.50</td>\n",
       "      <td>512.60</td>\n",
       "      <td>623.20</td>\n",
       "      <td>580.00</td>\n",
       "      <td>576.44</td>\n",
       "      <td>M</td>\n",
       "      <td>2003-01-21</td>\n",
       "      <td>SP</td>\n",
       "      <td>3509502</td>\n",
       "      <td>Candidatos com renda familiar bruta per capita...</td>\n",
       "    </tr>\n",
       "    <tr>\n",
       "      <th>4</th>\n",
       "      <td>UFPE</td>\n",
       "      <td>592.90</td>\n",
       "      <td>606.60</td>\n",
       "      <td>553.40</td>\n",
       "      <td>689.70</td>\n",
       "      <td>560.00</td>\n",
       "      <td>618.51</td>\n",
       "      <td>M</td>\n",
       "      <td>1997-08-05</td>\n",
       "      <td>MG</td>\n",
       "      <td>3131307</td>\n",
       "      <td>Ampla concorrência</td>\n",
       "    </tr>\n",
       "  </tbody>\n",
       "</table>\n",
       "</div>"
      ],
      "text/plain": [
       "  universidade  nota_linguagens  nota_ciencias_humanas  \\\n",
       "0         UFPE           588.50                 648.60   \n",
       "1          UPE           560.50                 551.30   \n",
       "2          UPE           496.60                 355.70   \n",
       "3         UFPE           506.90                 579.50   \n",
       "4         UFPE           592.90                 606.60   \n",
       "\n",
       "   nota_ciencias_natureza  nota_matematica  nota_redacao  nota_final sexo  \\\n",
       "0                  547.10           651.00        820.00      657.53    M   \n",
       "1                  476.50           410.10        580.00      515.68    F   \n",
       "2                  573.40           745.70        720.00      578.28    M   \n",
       "3                  512.60           623.20        580.00      576.44    M   \n",
       "4                  553.40           689.70        560.00      618.51    M   \n",
       "\n",
       "  data_nascimento uf_candidato  id_municipio_candidato  \\\n",
       "0      2004-12-26           TO                 1701002   \n",
       "1      2001-06-01           SP                 3550308   \n",
       "2      2002-10-19           SP                 3547809   \n",
       "3      2003-01-21           SP                 3509502   \n",
       "4      1997-08-05           MG                 3131307   \n",
       "\n",
       "                             modalidade_concorrencia  \n",
       "0  Candidatos autodeclarados pretos. pardos ou in...  \n",
       "1  egressos de escolas públicas da rede federal. ...  \n",
       "2                                 Ampla concorrência  \n",
       "3  Candidatos com renda familiar bruta per capita...  \n",
       "4                                 Ampla concorrência  "
      ]
     },
     "execution_count": 97,
     "metadata": {},
     "output_type": "execute_result"
    }
   ],
   "source": [
    "# Visualizando cabeçalho do conjunto de dados\n",
    "df.head()"
   ]
  },
  {
   "cell_type": "code",
   "execution_count": 98,
   "id": "c3a8d533",
   "metadata": {
    "scrolled": false
   },
   "outputs": [
    {
     "name": "stdout",
     "output_type": "stream",
     "text": [
      "<class 'pandas.core.frame.DataFrame'>\n",
      "RangeIndex: 418 entries, 0 to 417\n",
      "Data columns (total 12 columns):\n",
      " #   Column                   Non-Null Count  Dtype  \n",
      "---  ------                   --------------  -----  \n",
      " 0   universidade             418 non-null    object \n",
      " 1   nota_linguagens          418 non-null    float64\n",
      " 2   nota_ciencias_humanas    418 non-null    float64\n",
      " 3   nota_ciencias_natureza   418 non-null    float64\n",
      " 4   nota_matematica          418 non-null    float64\n",
      " 5   nota_redacao             418 non-null    float64\n",
      " 6   nota_final               418 non-null    float64\n",
      " 7   sexo                     418 non-null    object \n",
      " 8   data_nascimento          418 non-null    object \n",
      " 9   uf_candidato             418 non-null    object \n",
      " 10  id_municipio_candidato   418 non-null    int64  \n",
      " 11  modalidade_concorrencia  418 non-null    object \n",
      "dtypes: float64(6), int64(1), object(5)\n",
      "memory usage: 39.3+ KB\n"
     ]
    }
   ],
   "source": [
    "# Informações gerais sobre os dados\n",
    "df.info()"
   ]
  },
  {
   "cell_type": "code",
   "execution_count": 99,
   "id": "8205db72",
   "metadata": {
    "scrolled": true
   },
   "outputs": [
    {
     "name": "stdout",
     "output_type": "stream",
     "text": [
      "O conjunto de dados possui 0 linhas duplicadas.\n"
     ]
    }
   ],
   "source": [
    "# Verificação de dados duplicados\n",
    "duplicatas = df.duplicated().sum()\n",
    "print('O conjunto de dados possui', duplicatas, 'linhas duplicadas.')"
   ]
  },
  {
   "cell_type": "code",
   "execution_count": 100,
   "id": "0f815ed2",
   "metadata": {},
   "outputs": [
    {
     "data": {
      "text/plain": [
       "universidade               0\n",
       "nota_linguagens            0\n",
       "nota_ciencias_humanas      0\n",
       "nota_ciencias_natureza     0\n",
       "nota_matematica            0\n",
       "nota_redacao               0\n",
       "nota_final                 0\n",
       "sexo                       0\n",
       "data_nascimento            0\n",
       "uf_candidato               0\n",
       "id_municipio_candidato     0\n",
       "modalidade_concorrencia    0\n",
       "dtype: int64"
      ]
     },
     "execution_count": 100,
     "metadata": {},
     "output_type": "execute_result"
    }
   ],
   "source": [
    "# Verificando valores nulos\n",
    "df.isnull().sum()"
   ]
  },
  {
   "cell_type": "code",
   "execution_count": 101,
   "id": "c3fff034",
   "metadata": {},
   "outputs": [],
   "source": [
    "# Visualizando possíveis linhas com valores nulos\n",
    "\n",
    "# Selecionando linhas com valores nulos\n",
    "linhas_nulas = df[df.isnull().any(axis=1)]\n",
    "\n",
    "# Linhas distintas com nulos (se houver duplicatas)\n",
    "linhas_distintas_nulas = linhas_nulas.drop_duplicates()"
   ]
  },
  {
   "cell_type": "code",
   "execution_count": 102,
   "id": "ce2ad618",
   "metadata": {},
   "outputs": [
    {
     "data": {
      "text/html": [
       "<div>\n",
       "<style scoped>\n",
       "    .dataframe tbody tr th:only-of-type {\n",
       "        vertical-align: middle;\n",
       "    }\n",
       "\n",
       "    .dataframe tbody tr th {\n",
       "        vertical-align: top;\n",
       "    }\n",
       "\n",
       "    .dataframe thead th {\n",
       "        text-align: right;\n",
       "    }\n",
       "</style>\n",
       "<table border=\"1\" class=\"dataframe\">\n",
       "  <thead>\n",
       "    <tr style=\"text-align: right;\">\n",
       "      <th></th>\n",
       "      <th>universidade</th>\n",
       "      <th>nota_linguagens</th>\n",
       "      <th>nota_ciencias_humanas</th>\n",
       "      <th>nota_ciencias_natureza</th>\n",
       "      <th>nota_matematica</th>\n",
       "      <th>nota_redacao</th>\n",
       "      <th>nota_final</th>\n",
       "      <th>sexo</th>\n",
       "      <th>data_nascimento</th>\n",
       "      <th>uf_candidato</th>\n",
       "      <th>id_municipio_candidato</th>\n",
       "      <th>modalidade_concorrencia</th>\n",
       "    </tr>\n",
       "  </thead>\n",
       "  <tbody>\n",
       "  </tbody>\n",
       "</table>\n",
       "</div>"
      ],
      "text/plain": [
       "Empty DataFrame\n",
       "Columns: [universidade, nota_linguagens, nota_ciencias_humanas, nota_ciencias_natureza, nota_matematica, nota_redacao, nota_final, sexo, data_nascimento, uf_candidato, id_municipio_candidato, modalidade_concorrencia]\n",
       "Index: []"
      ]
     },
     "execution_count": 102,
     "metadata": {},
     "output_type": "execute_result"
    }
   ],
   "source": [
    "linhas_distintas_nulas"
   ]
  },
  {
   "cell_type": "markdown",
   "id": "e960d4d6",
   "metadata": {},
   "source": [
    "### 4 - Conversão dos tipos de dados e Otimização de Memória:\n",
    "\n",
    "Após o tratamento de valores faltantes, objetivando facilitar as futuras análises e otimizar memória e capacidade de processamento da máquina local, identifiquei que as colunas categóricas e a quantitativa contínua, como **`'data_nascimento'`**, poderiam ter seus tipos de dados convertidos.\n",
    "\n",
    "**Observação:** Podemos realizar a conversão dos tipos de dados necessários apenas após a compreensão do dataset. Isso ocorre porque, ao tentar converter esses valores para o tipo inteiro, o Python lança um erro, já que o tipo inteiro não é capaz de representar valores indefinidos ou infinitos, o que resulta em falhas na conversão.  "
   ]
  },
  {
   "cell_type": "markdown",
   "id": "3d17e6d4",
   "metadata": {},
   "source": [
    "#### Colunas categóricas:"
   ]
  },
  {
   "cell_type": "code",
   "execution_count": 103,
   "id": "235bb43c",
   "metadata": {},
   "outputs": [],
   "source": [
    "# Convertendo a coluna 'sexo' para o tipo category\n",
    "df['sexo'] = df['sexo'].astype('category')"
   ]
  },
  {
   "cell_type": "code",
   "execution_count": 104,
   "id": "ddef65ca",
   "metadata": {},
   "outputs": [],
   "source": [
    "# Convertendo a coluna 'modalidade_concorrencia' para o tipo category\n",
    "df['modalidade_concorrencia'] = df['modalidade_concorrencia'].astype('category')"
   ]
  },
  {
   "cell_type": "code",
   "execution_count": 105,
   "id": "fea01fd5",
   "metadata": {},
   "outputs": [],
   "source": [
    "# Convertendo a coluna 'uf_candidato' para o tipo category\n",
    "df['uf_candidato'] = df['uf_candidato'].astype('category')"
   ]
  },
  {
   "cell_type": "code",
   "execution_count": 106,
   "id": "5c08b85a",
   "metadata": {},
   "outputs": [],
   "source": [
    "# Convertendo a coluna 'universidade' para o tipo category\n",
    "df['universidade'] = df['universidade'].astype('category')"
   ]
  },
  {
   "cell_type": "code",
   "execution_count": 107,
   "id": "255cded9",
   "metadata": {},
   "outputs": [],
   "source": [
    "# Convertendo a coluna 'id_municipio_candidato' para o tipo category\n",
    "df['id_municipio_candidato'] = df['id_municipio_candidato'].astype('category')"
   ]
  },
  {
   "cell_type": "markdown",
   "id": "aab983ac",
   "metadata": {},
   "source": [
    "#### Coluna de data de nascimento:"
   ]
  },
  {
   "cell_type": "code",
   "execution_count": 108,
   "id": "1bcbf4b2",
   "metadata": {},
   "outputs": [],
   "source": [
    "# Convertendo a coluna 'data_nascimento' para o formato datetime\n",
    "df['data_nascimento'] = pd.to_datetime(df['data_nascimento'])"
   ]
  },
  {
   "cell_type": "markdown",
   "id": "3abeff95",
   "metadata": {},
   "source": [
    "#### Verificando resultados:"
   ]
  },
  {
   "cell_type": "markdown",
   "id": "9fdb39a9",
   "metadata": {},
   "source": [
    "#### Economia: Memória otimizada em 8,10 KB"
   ]
  },
  {
   "cell_type": "code",
   "execution_count": 109,
   "id": "c0f53045",
   "metadata": {},
   "outputs": [
    {
     "name": "stdout",
     "output_type": "stream",
     "text": [
      "<class 'pandas.core.frame.DataFrame'>\n",
      "RangeIndex: 418 entries, 0 to 417\n",
      "Data columns (total 12 columns):\n",
      " #   Column                   Non-Null Count  Dtype         \n",
      "---  ------                   --------------  -----         \n",
      " 0   universidade             418 non-null    category      \n",
      " 1   nota_linguagens          418 non-null    float64       \n",
      " 2   nota_ciencias_humanas    418 non-null    float64       \n",
      " 3   nota_ciencias_natureza   418 non-null    float64       \n",
      " 4   nota_matematica          418 non-null    float64       \n",
      " 5   nota_redacao             418 non-null    float64       \n",
      " 6   nota_final               418 non-null    float64       \n",
      " 7   sexo                     418 non-null    category      \n",
      " 8   data_nascimento          418 non-null    datetime64[ns]\n",
      " 9   uf_candidato             418 non-null    category      \n",
      " 10  id_municipio_candidato   418 non-null    category      \n",
      " 11  modalidade_concorrencia  418 non-null    category      \n",
      "dtypes: category(5), datetime64[ns](1), float64(6)\n",
      "memory usage: 31.2 KB\n"
     ]
    }
   ],
   "source": [
    "df.info()"
   ]
  },
  {
   "cell_type": "code",
   "execution_count": 110,
   "id": "725c5d12",
   "metadata": {},
   "outputs": [
    {
     "data": {
      "text/html": [
       "<div>\n",
       "<style scoped>\n",
       "    .dataframe tbody tr th:only-of-type {\n",
       "        vertical-align: middle;\n",
       "    }\n",
       "\n",
       "    .dataframe tbody tr th {\n",
       "        vertical-align: top;\n",
       "    }\n",
       "\n",
       "    .dataframe thead th {\n",
       "        text-align: right;\n",
       "    }\n",
       "</style>\n",
       "<table border=\"1\" class=\"dataframe\">\n",
       "  <thead>\n",
       "    <tr style=\"text-align: right;\">\n",
       "      <th></th>\n",
       "      <th>universidade</th>\n",
       "      <th>nota_linguagens</th>\n",
       "      <th>nota_ciencias_humanas</th>\n",
       "      <th>nota_ciencias_natureza</th>\n",
       "      <th>nota_matematica</th>\n",
       "      <th>nota_redacao</th>\n",
       "      <th>nota_final</th>\n",
       "      <th>sexo</th>\n",
       "      <th>data_nascimento</th>\n",
       "      <th>uf_candidato</th>\n",
       "      <th>id_municipio_candidato</th>\n",
       "      <th>modalidade_concorrencia</th>\n",
       "    </tr>\n",
       "  </thead>\n",
       "  <tbody>\n",
       "    <tr>\n",
       "      <th>0</th>\n",
       "      <td>UFPE</td>\n",
       "      <td>588.50</td>\n",
       "      <td>648.60</td>\n",
       "      <td>547.10</td>\n",
       "      <td>651.00</td>\n",
       "      <td>820.00</td>\n",
       "      <td>657.53</td>\n",
       "      <td>M</td>\n",
       "      <td>2004-12-26</td>\n",
       "      <td>TO</td>\n",
       "      <td>1701002</td>\n",
       "      <td>Candidatos autodeclarados pretos. pardos ou in...</td>\n",
       "    </tr>\n",
       "    <tr>\n",
       "      <th>1</th>\n",
       "      <td>UPE</td>\n",
       "      <td>560.50</td>\n",
       "      <td>551.30</td>\n",
       "      <td>476.50</td>\n",
       "      <td>410.10</td>\n",
       "      <td>580.00</td>\n",
       "      <td>515.68</td>\n",
       "      <td>F</td>\n",
       "      <td>2001-06-01</td>\n",
       "      <td>SP</td>\n",
       "      <td>3550308</td>\n",
       "      <td>egressos de escolas públicas da rede federal. ...</td>\n",
       "    </tr>\n",
       "    <tr>\n",
       "      <th>2</th>\n",
       "      <td>UPE</td>\n",
       "      <td>496.60</td>\n",
       "      <td>355.70</td>\n",
       "      <td>573.40</td>\n",
       "      <td>745.70</td>\n",
       "      <td>720.00</td>\n",
       "      <td>578.28</td>\n",
       "      <td>M</td>\n",
       "      <td>2002-10-19</td>\n",
       "      <td>SP</td>\n",
       "      <td>3547809</td>\n",
       "      <td>Ampla concorrência</td>\n",
       "    </tr>\n",
       "    <tr>\n",
       "      <th>3</th>\n",
       "      <td>UFPE</td>\n",
       "      <td>506.90</td>\n",
       "      <td>579.50</td>\n",
       "      <td>512.60</td>\n",
       "      <td>623.20</td>\n",
       "      <td>580.00</td>\n",
       "      <td>576.44</td>\n",
       "      <td>M</td>\n",
       "      <td>2003-01-21</td>\n",
       "      <td>SP</td>\n",
       "      <td>3509502</td>\n",
       "      <td>Candidatos com renda familiar bruta per capita...</td>\n",
       "    </tr>\n",
       "    <tr>\n",
       "      <th>4</th>\n",
       "      <td>UFPE</td>\n",
       "      <td>592.90</td>\n",
       "      <td>606.60</td>\n",
       "      <td>553.40</td>\n",
       "      <td>689.70</td>\n",
       "      <td>560.00</td>\n",
       "      <td>618.51</td>\n",
       "      <td>M</td>\n",
       "      <td>1997-08-05</td>\n",
       "      <td>MG</td>\n",
       "      <td>3131307</td>\n",
       "      <td>Ampla concorrência</td>\n",
       "    </tr>\n",
       "  </tbody>\n",
       "</table>\n",
       "</div>"
      ],
      "text/plain": [
       "  universidade  nota_linguagens  nota_ciencias_humanas  \\\n",
       "0         UFPE           588.50                 648.60   \n",
       "1          UPE           560.50                 551.30   \n",
       "2          UPE           496.60                 355.70   \n",
       "3         UFPE           506.90                 579.50   \n",
       "4         UFPE           592.90                 606.60   \n",
       "\n",
       "   nota_ciencias_natureza  nota_matematica  nota_redacao  nota_final sexo  \\\n",
       "0                  547.10           651.00        820.00      657.53    M   \n",
       "1                  476.50           410.10        580.00      515.68    F   \n",
       "2                  573.40           745.70        720.00      578.28    M   \n",
       "3                  512.60           623.20        580.00      576.44    M   \n",
       "4                  553.40           689.70        560.00      618.51    M   \n",
       "\n",
       "  data_nascimento uf_candidato id_municipio_candidato  \\\n",
       "0      2004-12-26           TO                1701002   \n",
       "1      2001-06-01           SP                3550308   \n",
       "2      2002-10-19           SP                3547809   \n",
       "3      2003-01-21           SP                3509502   \n",
       "4      1997-08-05           MG                3131307   \n",
       "\n",
       "                             modalidade_concorrencia  \n",
       "0  Candidatos autodeclarados pretos. pardos ou in...  \n",
       "1  egressos de escolas públicas da rede federal. ...  \n",
       "2                                 Ampla concorrência  \n",
       "3  Candidatos com renda familiar bruta per capita...  \n",
       "4                                 Ampla concorrência  "
      ]
     },
     "execution_count": 110,
     "metadata": {},
     "output_type": "execute_result"
    }
   ],
   "source": [
    "df.head()"
   ]
  },
  {
   "cell_type": "markdown",
   "id": "d966b562",
   "metadata": {},
   "source": [
    "### 5 - Limpeza de Dados:\n",
    "\n",
    "Substituí os IDs dos municípios pelos nomes correspondentes, utilizando dados do IBGE, e padronizei valores textuais em colunas como **`'nome_curso'`**, **`'modalidade_concorrencia'`** e **`'campus'`**, removendo espaços extras e uniformizando o formato. Adicionei também uma nova coluna, idade, calculada a partir da data de nascimento, posicionando-a logo após a coluna data_nascimento."
   ]
  },
  {
   "cell_type": "markdown",
   "id": "ebf43417",
   "metadata": {},
   "source": [
    "#### Importando tabela de códigos de município do IBGE:"
   ]
  },
  {
   "cell_type": "code",
   "execution_count": 111,
   "id": "fe437574",
   "metadata": {},
   "outputs": [],
   "source": [
    "# Carregando o DataFrame com os dados dos municípios do IBGE em Excel\n",
    "df_municipios = pd.read_excel('codigos_municipios_ibge.xlsx', usecols=['Código Município Completo', 'Nome_Município'])"
   ]
  },
  {
   "cell_type": "code",
   "execution_count": 112,
   "id": "ea28dc92",
   "metadata": {},
   "outputs": [
    {
     "data": {
      "text/html": [
       "<div>\n",
       "<style scoped>\n",
       "    .dataframe tbody tr th:only-of-type {\n",
       "        vertical-align: middle;\n",
       "    }\n",
       "\n",
       "    .dataframe tbody tr th {\n",
       "        vertical-align: top;\n",
       "    }\n",
       "\n",
       "    .dataframe thead th {\n",
       "        text-align: right;\n",
       "    }\n",
       "</style>\n",
       "<table border=\"1\" class=\"dataframe\">\n",
       "  <thead>\n",
       "    <tr style=\"text-align: right;\">\n",
       "      <th></th>\n",
       "      <th>Código Município Completo</th>\n",
       "      <th>Nome_Município</th>\n",
       "    </tr>\n",
       "  </thead>\n",
       "  <tbody>\n",
       "    <tr>\n",
       "      <th>0</th>\n",
       "      <td>1100015</td>\n",
       "      <td>Alta Floresta D'Oeste</td>\n",
       "    </tr>\n",
       "    <tr>\n",
       "      <th>1</th>\n",
       "      <td>1100379</td>\n",
       "      <td>Alto Alegre dos Parecis</td>\n",
       "    </tr>\n",
       "    <tr>\n",
       "      <th>2</th>\n",
       "      <td>1100403</td>\n",
       "      <td>Alto Paraíso</td>\n",
       "    </tr>\n",
       "    <tr>\n",
       "      <th>3</th>\n",
       "      <td>1100346</td>\n",
       "      <td>Alvorada D'Oeste</td>\n",
       "    </tr>\n",
       "    <tr>\n",
       "      <th>4</th>\n",
       "      <td>1100023</td>\n",
       "      <td>Ariquemes</td>\n",
       "    </tr>\n",
       "  </tbody>\n",
       "</table>\n",
       "</div>"
      ],
      "text/plain": [
       "   Código Município Completo           Nome_Município\n",
       "0                    1100015    Alta Floresta D'Oeste\n",
       "1                    1100379  Alto Alegre dos Parecis\n",
       "2                    1100403             Alto Paraíso\n",
       "3                    1100346         Alvorada D'Oeste\n",
       "4                    1100023                Ariquemes"
      ]
     },
     "execution_count": 112,
     "metadata": {},
     "output_type": "execute_result"
    }
   ],
   "source": [
    "# Visualizando a tabela de municípios\n",
    "df_municipios.head()"
   ]
  },
  {
   "cell_type": "markdown",
   "id": "5cfb4a44",
   "metadata": {},
   "source": [
    "#### Substituindo ids do município dos candidatos pelo nome do município:"
   ]
  },
  {
   "cell_type": "code",
   "execution_count": 113,
   "id": "ab773cd3",
   "metadata": {},
   "outputs": [],
   "source": [
    "# Realizando a mesclagem dos DataFrames com base na coluna de IDs\n",
    "df_com_nomes = df.merge(df_municipios, left_on='id_municipio_candidato', right_on='Código Município Completo', how='left')"
   ]
  },
  {
   "cell_type": "code",
   "execution_count": 114,
   "id": "191938fd",
   "metadata": {},
   "outputs": [],
   "source": [
    "# Substituindo a coluna de ID pelo nome do município\n",
    "df_com_nomes['id_municipio_candidato'] = df_com_nomes['Nome_Município']"
   ]
  },
  {
   "cell_type": "code",
   "execution_count": 115,
   "id": "329df30c",
   "metadata": {},
   "outputs": [],
   "source": [
    "# Renomeando coluna 'id_municipio_candidato' para 'municipio_candidato'\n",
    "df_com_nomes = df_com_nomes.rename(columns={'id_municipio_candidato': 'municipio_candidato'})"
   ]
  },
  {
   "cell_type": "markdown",
   "id": "8d8c8e3e",
   "metadata": {},
   "source": [
    "#### Verificando resultados:"
   ]
  },
  {
   "cell_type": "code",
   "execution_count": 116,
   "id": "74b3c449",
   "metadata": {},
   "outputs": [
    {
     "data": {
      "text/html": [
       "<div>\n",
       "<style scoped>\n",
       "    .dataframe tbody tr th:only-of-type {\n",
       "        vertical-align: middle;\n",
       "    }\n",
       "\n",
       "    .dataframe tbody tr th {\n",
       "        vertical-align: top;\n",
       "    }\n",
       "\n",
       "    .dataframe thead th {\n",
       "        text-align: right;\n",
       "    }\n",
       "</style>\n",
       "<table border=\"1\" class=\"dataframe\">\n",
       "  <thead>\n",
       "    <tr style=\"text-align: right;\">\n",
       "      <th></th>\n",
       "      <th>universidade</th>\n",
       "      <th>nota_linguagens</th>\n",
       "      <th>nota_ciencias_humanas</th>\n",
       "      <th>nota_ciencias_natureza</th>\n",
       "      <th>nota_matematica</th>\n",
       "      <th>nota_redacao</th>\n",
       "      <th>nota_final</th>\n",
       "      <th>sexo</th>\n",
       "      <th>data_nascimento</th>\n",
       "      <th>uf_candidato</th>\n",
       "      <th>municipio_candidato</th>\n",
       "      <th>modalidade_concorrencia</th>\n",
       "      <th>Código Município Completo</th>\n",
       "      <th>Nome_Município</th>\n",
       "    </tr>\n",
       "  </thead>\n",
       "  <tbody>\n",
       "    <tr>\n",
       "      <th>0</th>\n",
       "      <td>UFPE</td>\n",
       "      <td>588.50</td>\n",
       "      <td>648.60</td>\n",
       "      <td>547.10</td>\n",
       "      <td>651.00</td>\n",
       "      <td>820.00</td>\n",
       "      <td>657.53</td>\n",
       "      <td>M</td>\n",
       "      <td>2004-12-26</td>\n",
       "      <td>TO</td>\n",
       "      <td>Ananás</td>\n",
       "      <td>Candidatos autodeclarados pretos. pardos ou in...</td>\n",
       "      <td>1701002</td>\n",
       "      <td>Ananás</td>\n",
       "    </tr>\n",
       "    <tr>\n",
       "      <th>1</th>\n",
       "      <td>UPE</td>\n",
       "      <td>560.50</td>\n",
       "      <td>551.30</td>\n",
       "      <td>476.50</td>\n",
       "      <td>410.10</td>\n",
       "      <td>580.00</td>\n",
       "      <td>515.68</td>\n",
       "      <td>F</td>\n",
       "      <td>2001-06-01</td>\n",
       "      <td>SP</td>\n",
       "      <td>São Paulo</td>\n",
       "      <td>egressos de escolas públicas da rede federal. ...</td>\n",
       "      <td>3550308</td>\n",
       "      <td>São Paulo</td>\n",
       "    </tr>\n",
       "    <tr>\n",
       "      <th>2</th>\n",
       "      <td>UPE</td>\n",
       "      <td>496.60</td>\n",
       "      <td>355.70</td>\n",
       "      <td>573.40</td>\n",
       "      <td>745.70</td>\n",
       "      <td>720.00</td>\n",
       "      <td>578.28</td>\n",
       "      <td>M</td>\n",
       "      <td>2002-10-19</td>\n",
       "      <td>SP</td>\n",
       "      <td>Santo André</td>\n",
       "      <td>Ampla concorrência</td>\n",
       "      <td>3547809</td>\n",
       "      <td>Santo André</td>\n",
       "    </tr>\n",
       "    <tr>\n",
       "      <th>3</th>\n",
       "      <td>UFPE</td>\n",
       "      <td>506.90</td>\n",
       "      <td>579.50</td>\n",
       "      <td>512.60</td>\n",
       "      <td>623.20</td>\n",
       "      <td>580.00</td>\n",
       "      <td>576.44</td>\n",
       "      <td>M</td>\n",
       "      <td>2003-01-21</td>\n",
       "      <td>SP</td>\n",
       "      <td>Campinas</td>\n",
       "      <td>Candidatos com renda familiar bruta per capita...</td>\n",
       "      <td>3509502</td>\n",
       "      <td>Campinas</td>\n",
       "    </tr>\n",
       "    <tr>\n",
       "      <th>4</th>\n",
       "      <td>UFPE</td>\n",
       "      <td>592.90</td>\n",
       "      <td>606.60</td>\n",
       "      <td>553.40</td>\n",
       "      <td>689.70</td>\n",
       "      <td>560.00</td>\n",
       "      <td>618.51</td>\n",
       "      <td>M</td>\n",
       "      <td>1997-08-05</td>\n",
       "      <td>MG</td>\n",
       "      <td>Ipatinga</td>\n",
       "      <td>Ampla concorrência</td>\n",
       "      <td>3131307</td>\n",
       "      <td>Ipatinga</td>\n",
       "    </tr>\n",
       "  </tbody>\n",
       "</table>\n",
       "</div>"
      ],
      "text/plain": [
       "  universidade  nota_linguagens  nota_ciencias_humanas  \\\n",
       "0         UFPE           588.50                 648.60   \n",
       "1          UPE           560.50                 551.30   \n",
       "2          UPE           496.60                 355.70   \n",
       "3         UFPE           506.90                 579.50   \n",
       "4         UFPE           592.90                 606.60   \n",
       "\n",
       "   nota_ciencias_natureza  nota_matematica  nota_redacao  nota_final sexo  \\\n",
       "0                  547.10           651.00        820.00      657.53    M   \n",
       "1                  476.50           410.10        580.00      515.68    F   \n",
       "2                  573.40           745.70        720.00      578.28    M   \n",
       "3                  512.60           623.20        580.00      576.44    M   \n",
       "4                  553.40           689.70        560.00      618.51    M   \n",
       "\n",
       "  data_nascimento uf_candidato municipio_candidato  \\\n",
       "0      2004-12-26           TO              Ananás   \n",
       "1      2001-06-01           SP           São Paulo   \n",
       "2      2002-10-19           SP         Santo André   \n",
       "3      2003-01-21           SP            Campinas   \n",
       "4      1997-08-05           MG            Ipatinga   \n",
       "\n",
       "                             modalidade_concorrencia  \\\n",
       "0  Candidatos autodeclarados pretos. pardos ou in...   \n",
       "1  egressos de escolas públicas da rede federal. ...   \n",
       "2                                 Ampla concorrência   \n",
       "3  Candidatos com renda familiar bruta per capita...   \n",
       "4                                 Ampla concorrência   \n",
       "\n",
       "   Código Município Completo Nome_Município  \n",
       "0                    1701002         Ananás  \n",
       "1                    3550308      São Paulo  \n",
       "2                    3547809    Santo André  \n",
       "3                    3509502       Campinas  \n",
       "4                    3131307       Ipatinga  "
      ]
     },
     "execution_count": 116,
     "metadata": {},
     "output_type": "execute_result"
    }
   ],
   "source": [
    "df_com_nomes.head()"
   ]
  },
  {
   "cell_type": "markdown",
   "id": "1677293a",
   "metadata": {},
   "source": [
    "#### Limpeza e padronização de variáveis categóricas:"
   ]
  },
  {
   "cell_type": "code",
   "execution_count": 117,
   "id": "78f261ae",
   "metadata": {},
   "outputs": [],
   "source": [
    "# Substituindo 'M' por 'Masculino' na coluna 'sexo'\n",
    "df_com_nomes['sexo'] = df_com_nomes['sexo'].replace('M', 'Masculino')"
   ]
  },
  {
   "cell_type": "code",
   "execution_count": 118,
   "id": "ef626c3d",
   "metadata": {},
   "outputs": [],
   "source": [
    "# Substituindo 'F' por 'Feminino' na coluna 'sexo'\n",
    "df_com_nomes['sexo'] = df_com_nomes['sexo'].replace('F', 'Feminino')"
   ]
  },
  {
   "cell_type": "code",
   "execution_count": 119,
   "id": "21e1d459",
   "metadata": {},
   "outputs": [],
   "source": [
    "# Alterando letras maiúsculas e minúsculas e removendo espaços em brancos nas extremidades\n",
    "df_com_nomes['modalidade_concorrencia'] = df_com_nomes['modalidade_concorrencia'].str.strip().str.title()"
   ]
  },
  {
   "cell_type": "code",
   "execution_count": 120,
   "id": "c82eaf05",
   "metadata": {},
   "outputs": [],
   "source": [
    "# Padronizando nomenclatura das modalidades de concorrência\n",
    "\n",
    "# Dicionário para mapeamento\n",
    "mapa_modalidade = {\n",
    "    \"Ampla Concorrência\": \"Ampla Concorrência\",\n",
    "    \"Egressos De Escolas Públicas Da Rede Federal. Estadual Ou Municipal. Que Cursaram Os Anos Finais Do Ensino Fundamental (6º Ao 9º Anos) E Todo O Ensino Médio (1º Ao 3º Anos). Com Renda Familiar Bruta Per Capita Igual Ou Inferior A 1.5 Salário Mínimo. Devendo Essa Condição Ser Comprovada No Ato Da Matrícula.\": \"Cota - Escola Pública, Renda ≤ 1.5 SM\",\n",
    "    \"Egressos De Escolas Públicas Da Rede Federal. Estadual Ou Municipal. Que Cursaram Os Anos Finais Do Ensino Fundamental (6º Ao 9º Anos) E Todo O Ensino Médio (1º Ao 3º Anos). Com Qualquer Renda Renda Per Capita Bruta. Devendo Essa Condição Ser Comprovada No Ato Da Matrícula.\": \"Cota - Escola Pública, Qualquer Renda\",\n",
    "    \"Candidatos Autodeclarados Pretos. Pardos Ou Indígenas. Com Renda Familiar Bruta Per Capita Igual Ou Inferior A 1.5 Salário Mínimo E Que Tenham Cursado Integralmente O Ensino Médio Em Escolas Públicas (Lei Nº 12.711/2012).\": \"Cota - PPI, Escola Pública, Renda ≤ 1.5 SM\",\n",
    "    \"Candidatos Autodeclarados Pretos. Pardos Ou Indígenas Que. Independentemente Da Renda (Art. 14. Ii. Portaria Normativa Nº 18/2012). Tenham Cursado Integralmente O Ensino Médio Em Escolas Públicas (Lei Nº 12.711/2012).\": \"Cota - PPI, Escola Pública, Qualquer Renda\",\n",
    "    \"Candidatos Com Renda Familiar Bruta Per Capita Igual Ou Inferior A 1.5 Salário Mínimo Que Tenham Cursado Integralmente O Ensino Médio Em Escolas Públicas (Lei Nº 12.711/2012).\": \"Cota - Escola Pública, Renda ≤ 1.5 SM\",\n",
    "    \"Candidatos Que. Independentemente Da Renda (Art. 14. Ii. Portaria Normativa Nº 18/2012). Tenham Cursado Integralmente O Ensino Médio Em Escolas Públicas (Lei Nº 12.711/2012).\": \"Cota - Escola Pública, Qualquer Renda\",\n",
    "    \"Candidatos Com Deficiência Autodeclarados Pretos. Pardos Ou Indígenas Que. Independentemente Da Renda (Art. 14. Ii. Portaria Normativa Nº 18/2012). Tenham Cursado Integralmente O Ensino Médio Em Escolas Públicas (Lei Nº 12.711/2012).\": \"Cota - Deficiência, PPI, Escola Pública, Qualquer Renda\",\n",
    "    \"Candidatos Com Deficiência Que Tenham Renda Familiar Bruta Per Capita Igual Ou Inferior A 1.5 Salário Mínimo E Que Tenham Cursado Integralmente O Ensino Médio Em Escolas Públicas (Lei Nº 12.711/2012).\": \"Cota - Deficiência, Escola Pública, Renda ≤ 1.5 SM\",\n",
    "}\n",
    "\n",
    "# Aplicando a padronização no DataFrame\n",
    "df_com_nomes['modalidade_concorrencia'] = df_com_nomes['modalidade_concorrencia'].replace(mapa_modalidade)\n"
   ]
  },
  {
   "cell_type": "code",
   "execution_count": 122,
   "id": "c9ab95f5",
   "metadata": {},
   "outputs": [],
   "source": [
    "# Alterando letras maiúsculas e minúsculas e removendo espaços em brancos nas extremidades\n",
    "df_com_nomes['uf_candidato'] = df_com_nomes['uf_candidato'].str.strip().str.upper()"
   ]
  },
  {
   "cell_type": "markdown",
   "id": "085bbe33",
   "metadata": {},
   "source": [
    "#### Renomeando o conjunto de dados:"
   ]
  },
  {
   "cell_type": "code",
   "execution_count": 123,
   "id": "da1e5590",
   "metadata": {},
   "outputs": [],
   "source": [
    "df = df_com_nomes.copy()"
   ]
  },
  {
   "cell_type": "markdown",
   "id": "9aa96ede",
   "metadata": {},
   "source": [
    "#### Criando coluna de idade"
   ]
  },
  {
   "cell_type": "code",
   "execution_count": 124,
   "id": "0e6faaf1",
   "metadata": {},
   "outputs": [
    {
     "name": "stdout",
     "output_type": "stream",
     "text": [
      "  data_nascimento  idade\n",
      "0      2004-12-26     18\n",
      "1      2001-06-01     21\n",
      "2      2002-10-19     20\n",
      "3      2003-01-21     19\n",
      "4      1997-08-05     25\n"
     ]
    }
   ],
   "source": [
    "# Calculando a idade dos candidatos com base na data de referência (31 de dezembro de 2022)\n",
    "data_referencia = datetime(2022, 12, 31)\n",
    "df['idade'] = df['data_nascimento'].apply(lambda x: data_referencia.year - x.year - ((data_referencia.month, data_referencia.day) < (x.month, x.day)))\n",
    "\n",
    "# Exibindo as primeiras linhas para verificar a nova coluna\n",
    "print(df[['data_nascimento', 'idade']].head())"
   ]
  },
  {
   "cell_type": "code",
   "execution_count": 125,
   "id": "50c60a86",
   "metadata": {},
   "outputs": [],
   "source": [
    "# Calculando a idade dos candidatos com base na data de referência (31 de dezembro de 2022)\n",
    "data_referencia = datetime(2022, 12, 31)\n",
    "df['idade'] = df['data_nascimento'].apply(lambda x: data_referencia.year - x.year - ((data_referencia.month, data_referencia.day) < (x.month, x.day)))"
   ]
  },
  {
   "cell_type": "code",
   "execution_count": 126,
   "id": "3ea2e83f",
   "metadata": {},
   "outputs": [],
   "source": [
    "# Reposicionando a coluna 'idade' logo após 'data_nascimento'\n",
    "posicao = df.columns.get_loc('data_nascimento') + 1\n",
    "df.insert(posicao, 'idade', df.pop('idade'))"
   ]
  },
  {
   "cell_type": "markdown",
   "id": "7ef8bde5",
   "metadata": {},
   "source": [
    "#### Verificando resultados:"
   ]
  },
  {
   "cell_type": "code",
   "execution_count": 127,
   "id": "c3c56a08",
   "metadata": {
    "scrolled": false
   },
   "outputs": [
    {
     "data": {
      "text/html": [
       "<div>\n",
       "<style scoped>\n",
       "    .dataframe tbody tr th:only-of-type {\n",
       "        vertical-align: middle;\n",
       "    }\n",
       "\n",
       "    .dataframe tbody tr th {\n",
       "        vertical-align: top;\n",
       "    }\n",
       "\n",
       "    .dataframe thead th {\n",
       "        text-align: right;\n",
       "    }\n",
       "</style>\n",
       "<table border=\"1\" class=\"dataframe\">\n",
       "  <thead>\n",
       "    <tr style=\"text-align: right;\">\n",
       "      <th></th>\n",
       "      <th>universidade</th>\n",
       "      <th>nota_linguagens</th>\n",
       "      <th>nota_ciencias_humanas</th>\n",
       "      <th>nota_ciencias_natureza</th>\n",
       "      <th>nota_matematica</th>\n",
       "      <th>nota_redacao</th>\n",
       "      <th>nota_final</th>\n",
       "      <th>sexo</th>\n",
       "      <th>data_nascimento</th>\n",
       "      <th>idade</th>\n",
       "      <th>uf_candidato</th>\n",
       "      <th>municipio_candidato</th>\n",
       "      <th>modalidade_concorrencia</th>\n",
       "      <th>Código Município Completo</th>\n",
       "      <th>Nome_Município</th>\n",
       "    </tr>\n",
       "  </thead>\n",
       "  <tbody>\n",
       "    <tr>\n",
       "      <th>0</th>\n",
       "      <td>UFPE</td>\n",
       "      <td>588.50</td>\n",
       "      <td>648.60</td>\n",
       "      <td>547.10</td>\n",
       "      <td>651.00</td>\n",
       "      <td>820.00</td>\n",
       "      <td>657.53</td>\n",
       "      <td>Masculino</td>\n",
       "      <td>2004-12-26</td>\n",
       "      <td>18</td>\n",
       "      <td>TO</td>\n",
       "      <td>Ananás</td>\n",
       "      <td>Cota - PPI, Escola Pública, Renda ≤ 1.5 SM</td>\n",
       "      <td>1701002</td>\n",
       "      <td>Ananás</td>\n",
       "    </tr>\n",
       "    <tr>\n",
       "      <th>1</th>\n",
       "      <td>UPE</td>\n",
       "      <td>560.50</td>\n",
       "      <td>551.30</td>\n",
       "      <td>476.50</td>\n",
       "      <td>410.10</td>\n",
       "      <td>580.00</td>\n",
       "      <td>515.68</td>\n",
       "      <td>Feminino</td>\n",
       "      <td>2001-06-01</td>\n",
       "      <td>21</td>\n",
       "      <td>SP</td>\n",
       "      <td>São Paulo</td>\n",
       "      <td>Cota - Escola Pública, Renda ≤ 1.5 SM</td>\n",
       "      <td>3550308</td>\n",
       "      <td>São Paulo</td>\n",
       "    </tr>\n",
       "    <tr>\n",
       "      <th>2</th>\n",
       "      <td>UPE</td>\n",
       "      <td>496.60</td>\n",
       "      <td>355.70</td>\n",
       "      <td>573.40</td>\n",
       "      <td>745.70</td>\n",
       "      <td>720.00</td>\n",
       "      <td>578.28</td>\n",
       "      <td>Masculino</td>\n",
       "      <td>2002-10-19</td>\n",
       "      <td>20</td>\n",
       "      <td>SP</td>\n",
       "      <td>Santo André</td>\n",
       "      <td>Ampla Concorrência</td>\n",
       "      <td>3547809</td>\n",
       "      <td>Santo André</td>\n",
       "    </tr>\n",
       "    <tr>\n",
       "      <th>3</th>\n",
       "      <td>UFPE</td>\n",
       "      <td>506.90</td>\n",
       "      <td>579.50</td>\n",
       "      <td>512.60</td>\n",
       "      <td>623.20</td>\n",
       "      <td>580.00</td>\n",
       "      <td>576.44</td>\n",
       "      <td>Masculino</td>\n",
       "      <td>2003-01-21</td>\n",
       "      <td>19</td>\n",
       "      <td>SP</td>\n",
       "      <td>Campinas</td>\n",
       "      <td>Cota - Escola Pública, Renda ≤ 1.5 SM</td>\n",
       "      <td>3509502</td>\n",
       "      <td>Campinas</td>\n",
       "    </tr>\n",
       "    <tr>\n",
       "      <th>4</th>\n",
       "      <td>UFPE</td>\n",
       "      <td>592.90</td>\n",
       "      <td>606.60</td>\n",
       "      <td>553.40</td>\n",
       "      <td>689.70</td>\n",
       "      <td>560.00</td>\n",
       "      <td>618.51</td>\n",
       "      <td>Masculino</td>\n",
       "      <td>1997-08-05</td>\n",
       "      <td>25</td>\n",
       "      <td>MG</td>\n",
       "      <td>Ipatinga</td>\n",
       "      <td>Ampla Concorrência</td>\n",
       "      <td>3131307</td>\n",
       "      <td>Ipatinga</td>\n",
       "    </tr>\n",
       "  </tbody>\n",
       "</table>\n",
       "</div>"
      ],
      "text/plain": [
       "  universidade  nota_linguagens  nota_ciencias_humanas  \\\n",
       "0         UFPE           588.50                 648.60   \n",
       "1          UPE           560.50                 551.30   \n",
       "2          UPE           496.60                 355.70   \n",
       "3         UFPE           506.90                 579.50   \n",
       "4         UFPE           592.90                 606.60   \n",
       "\n",
       "   nota_ciencias_natureza  nota_matematica  nota_redacao  nota_final  \\\n",
       "0                  547.10           651.00        820.00      657.53   \n",
       "1                  476.50           410.10        580.00      515.68   \n",
       "2                  573.40           745.70        720.00      578.28   \n",
       "3                  512.60           623.20        580.00      576.44   \n",
       "4                  553.40           689.70        560.00      618.51   \n",
       "\n",
       "        sexo data_nascimento  idade uf_candidato municipio_candidato  \\\n",
       "0  Masculino      2004-12-26     18           TO              Ananás   \n",
       "1   Feminino      2001-06-01     21           SP           São Paulo   \n",
       "2  Masculino      2002-10-19     20           SP         Santo André   \n",
       "3  Masculino      2003-01-21     19           SP            Campinas   \n",
       "4  Masculino      1997-08-05     25           MG            Ipatinga   \n",
       "\n",
       "                      modalidade_concorrencia  Código Município Completo  \\\n",
       "0  Cota - PPI, Escola Pública, Renda ≤ 1.5 SM                    1701002   \n",
       "1       Cota - Escola Pública, Renda ≤ 1.5 SM                    3550308   \n",
       "2                          Ampla Concorrência                    3547809   \n",
       "3       Cota - Escola Pública, Renda ≤ 1.5 SM                    3509502   \n",
       "4                          Ampla Concorrência                    3131307   \n",
       "\n",
       "  Nome_Município  \n",
       "0         Ananás  \n",
       "1      São Paulo  \n",
       "2    Santo André  \n",
       "3       Campinas  \n",
       "4       Ipatinga  "
      ]
     },
     "execution_count": 127,
     "metadata": {},
     "output_type": "execute_result"
    }
   ],
   "source": [
    "df.head()"
   ]
  },
  {
   "cell_type": "markdown",
   "id": "903f6a54",
   "metadata": {},
   "source": [
    "#### Remoção de colunas:\n",
    "Removi as colunas **`'Código Município Completo'`** e **`'Nome_Município'`** obtidas através da mesclagem entre a tabela de municípios e o dataframe original."
   ]
  },
  {
   "cell_type": "code",
   "execution_count": 128,
   "id": "ee4adb07",
   "metadata": {
    "scrolled": false
   },
   "outputs": [],
   "source": [
    "# Removendo colunas 'Código Município Completo' e 'Nome_Município'\n",
    "df = df.drop(columns=['Código Município Completo', 'Nome_Município'])"
   ]
  },
  {
   "cell_type": "markdown",
   "id": "ab3365a1",
   "metadata": {},
   "source": [
    "#### Verificando resultados:"
   ]
  },
  {
   "cell_type": "code",
   "execution_count": 129,
   "id": "3e11afea",
   "metadata": {},
   "outputs": [
    {
     "data": {
      "text/html": [
       "<div>\n",
       "<style scoped>\n",
       "    .dataframe tbody tr th:only-of-type {\n",
       "        vertical-align: middle;\n",
       "    }\n",
       "\n",
       "    .dataframe tbody tr th {\n",
       "        vertical-align: top;\n",
       "    }\n",
       "\n",
       "    .dataframe thead th {\n",
       "        text-align: right;\n",
       "    }\n",
       "</style>\n",
       "<table border=\"1\" class=\"dataframe\">\n",
       "  <thead>\n",
       "    <tr style=\"text-align: right;\">\n",
       "      <th></th>\n",
       "      <th>universidade</th>\n",
       "      <th>nota_linguagens</th>\n",
       "      <th>nota_ciencias_humanas</th>\n",
       "      <th>nota_ciencias_natureza</th>\n",
       "      <th>nota_matematica</th>\n",
       "      <th>nota_redacao</th>\n",
       "      <th>nota_final</th>\n",
       "      <th>sexo</th>\n",
       "      <th>data_nascimento</th>\n",
       "      <th>idade</th>\n",
       "      <th>uf_candidato</th>\n",
       "      <th>municipio_candidato</th>\n",
       "      <th>modalidade_concorrencia</th>\n",
       "    </tr>\n",
       "  </thead>\n",
       "  <tbody>\n",
       "    <tr>\n",
       "      <th>0</th>\n",
       "      <td>UFPE</td>\n",
       "      <td>588.50</td>\n",
       "      <td>648.60</td>\n",
       "      <td>547.10</td>\n",
       "      <td>651.00</td>\n",
       "      <td>820.00</td>\n",
       "      <td>657.53</td>\n",
       "      <td>Masculino</td>\n",
       "      <td>2004-12-26</td>\n",
       "      <td>18</td>\n",
       "      <td>TO</td>\n",
       "      <td>Ananás</td>\n",
       "      <td>Cota - PPI, Escola Pública, Renda ≤ 1.5 SM</td>\n",
       "    </tr>\n",
       "    <tr>\n",
       "      <th>1</th>\n",
       "      <td>UPE</td>\n",
       "      <td>560.50</td>\n",
       "      <td>551.30</td>\n",
       "      <td>476.50</td>\n",
       "      <td>410.10</td>\n",
       "      <td>580.00</td>\n",
       "      <td>515.68</td>\n",
       "      <td>Feminino</td>\n",
       "      <td>2001-06-01</td>\n",
       "      <td>21</td>\n",
       "      <td>SP</td>\n",
       "      <td>São Paulo</td>\n",
       "      <td>Cota - Escola Pública, Renda ≤ 1.5 SM</td>\n",
       "    </tr>\n",
       "    <tr>\n",
       "      <th>2</th>\n",
       "      <td>UPE</td>\n",
       "      <td>496.60</td>\n",
       "      <td>355.70</td>\n",
       "      <td>573.40</td>\n",
       "      <td>745.70</td>\n",
       "      <td>720.00</td>\n",
       "      <td>578.28</td>\n",
       "      <td>Masculino</td>\n",
       "      <td>2002-10-19</td>\n",
       "      <td>20</td>\n",
       "      <td>SP</td>\n",
       "      <td>Santo André</td>\n",
       "      <td>Ampla Concorrência</td>\n",
       "    </tr>\n",
       "    <tr>\n",
       "      <th>3</th>\n",
       "      <td>UFPE</td>\n",
       "      <td>506.90</td>\n",
       "      <td>579.50</td>\n",
       "      <td>512.60</td>\n",
       "      <td>623.20</td>\n",
       "      <td>580.00</td>\n",
       "      <td>576.44</td>\n",
       "      <td>Masculino</td>\n",
       "      <td>2003-01-21</td>\n",
       "      <td>19</td>\n",
       "      <td>SP</td>\n",
       "      <td>Campinas</td>\n",
       "      <td>Cota - Escola Pública, Renda ≤ 1.5 SM</td>\n",
       "    </tr>\n",
       "    <tr>\n",
       "      <th>4</th>\n",
       "      <td>UFPE</td>\n",
       "      <td>592.90</td>\n",
       "      <td>606.60</td>\n",
       "      <td>553.40</td>\n",
       "      <td>689.70</td>\n",
       "      <td>560.00</td>\n",
       "      <td>618.51</td>\n",
       "      <td>Masculino</td>\n",
       "      <td>1997-08-05</td>\n",
       "      <td>25</td>\n",
       "      <td>MG</td>\n",
       "      <td>Ipatinga</td>\n",
       "      <td>Ampla Concorrência</td>\n",
       "    </tr>\n",
       "  </tbody>\n",
       "</table>\n",
       "</div>"
      ],
      "text/plain": [
       "  universidade  nota_linguagens  nota_ciencias_humanas  \\\n",
       "0         UFPE           588.50                 648.60   \n",
       "1          UPE           560.50                 551.30   \n",
       "2          UPE           496.60                 355.70   \n",
       "3         UFPE           506.90                 579.50   \n",
       "4         UFPE           592.90                 606.60   \n",
       "\n",
       "   nota_ciencias_natureza  nota_matematica  nota_redacao  nota_final  \\\n",
       "0                  547.10           651.00        820.00      657.53   \n",
       "1                  476.50           410.10        580.00      515.68   \n",
       "2                  573.40           745.70        720.00      578.28   \n",
       "3                  512.60           623.20        580.00      576.44   \n",
       "4                  553.40           689.70        560.00      618.51   \n",
       "\n",
       "        sexo data_nascimento  idade uf_candidato municipio_candidato  \\\n",
       "0  Masculino      2004-12-26     18           TO              Ananás   \n",
       "1   Feminino      2001-06-01     21           SP           São Paulo   \n",
       "2  Masculino      2002-10-19     20           SP         Santo André   \n",
       "3  Masculino      2003-01-21     19           SP            Campinas   \n",
       "4  Masculino      1997-08-05     25           MG            Ipatinga   \n",
       "\n",
       "                      modalidade_concorrencia  \n",
       "0  Cota - PPI, Escola Pública, Renda ≤ 1.5 SM  \n",
       "1       Cota - Escola Pública, Renda ≤ 1.5 SM  \n",
       "2                          Ampla Concorrência  \n",
       "3       Cota - Escola Pública, Renda ≤ 1.5 SM  \n",
       "4                          Ampla Concorrência  "
      ]
     },
     "execution_count": 129,
     "metadata": {},
     "output_type": "execute_result"
    }
   ],
   "source": [
    "df.head()"
   ]
  },
  {
   "cell_type": "markdown",
   "id": "023cd303",
   "metadata": {},
   "source": [
    "  ### 6 - Exportação do Conjunto de Dados Limpo:\n",
    "Após a limpeza, o DataFrame final foi salvo em um arquivo CSV chamado **`'dataframe_sisu_limpo.csv'`**, pronto para as etapas de análise exploratória e estatística."
   ]
  },
  {
   "cell_type": "code",
   "execution_count": 130,
   "id": "e1c2649d",
   "metadata": {},
   "outputs": [],
   "source": [
    "# Salvar o DataFrame limpo em um arquivo CSV\n",
    "df.to_csv('dataframe_sisu_limpo.csv', index=False)"
   ]
  },
  {
   "cell_type": "code",
   "execution_count": 131,
   "id": "77021ca9",
   "metadata": {},
   "outputs": [],
   "source": [
    "df_limpo = pd.read_csv(\"dataframe_sisu_limpo.csv\")"
   ]
  },
  {
   "cell_type": "code",
   "execution_count": 132,
   "id": "e9979f31",
   "metadata": {},
   "outputs": [
    {
     "data": {
      "text/html": [
       "<div>\n",
       "<style scoped>\n",
       "    .dataframe tbody tr th:only-of-type {\n",
       "        vertical-align: middle;\n",
       "    }\n",
       "\n",
       "    .dataframe tbody tr th {\n",
       "        vertical-align: top;\n",
       "    }\n",
       "\n",
       "    .dataframe thead th {\n",
       "        text-align: right;\n",
       "    }\n",
       "</style>\n",
       "<table border=\"1\" class=\"dataframe\">\n",
       "  <thead>\n",
       "    <tr style=\"text-align: right;\">\n",
       "      <th></th>\n",
       "      <th>universidade</th>\n",
       "      <th>nota_linguagens</th>\n",
       "      <th>nota_ciencias_humanas</th>\n",
       "      <th>nota_ciencias_natureza</th>\n",
       "      <th>nota_matematica</th>\n",
       "      <th>nota_redacao</th>\n",
       "      <th>nota_final</th>\n",
       "      <th>sexo</th>\n",
       "      <th>data_nascimento</th>\n",
       "      <th>idade</th>\n",
       "      <th>uf_candidato</th>\n",
       "      <th>municipio_candidato</th>\n",
       "      <th>modalidade_concorrencia</th>\n",
       "    </tr>\n",
       "  </thead>\n",
       "  <tbody>\n",
       "    <tr>\n",
       "      <th>0</th>\n",
       "      <td>UFPE</td>\n",
       "      <td>588.50</td>\n",
       "      <td>648.60</td>\n",
       "      <td>547.10</td>\n",
       "      <td>651.00</td>\n",
       "      <td>820.00</td>\n",
       "      <td>657.53</td>\n",
       "      <td>Masculino</td>\n",
       "      <td>2004-12-26</td>\n",
       "      <td>18</td>\n",
       "      <td>TO</td>\n",
       "      <td>Ananás</td>\n",
       "      <td>Cota - PPI, Escola Pública, Renda ≤ 1.5 SM</td>\n",
       "    </tr>\n",
       "    <tr>\n",
       "      <th>1</th>\n",
       "      <td>UPE</td>\n",
       "      <td>560.50</td>\n",
       "      <td>551.30</td>\n",
       "      <td>476.50</td>\n",
       "      <td>410.10</td>\n",
       "      <td>580.00</td>\n",
       "      <td>515.68</td>\n",
       "      <td>Feminino</td>\n",
       "      <td>2001-06-01</td>\n",
       "      <td>21</td>\n",
       "      <td>SP</td>\n",
       "      <td>São Paulo</td>\n",
       "      <td>Cota - Escola Pública, Renda ≤ 1.5 SM</td>\n",
       "    </tr>\n",
       "    <tr>\n",
       "      <th>2</th>\n",
       "      <td>UPE</td>\n",
       "      <td>496.60</td>\n",
       "      <td>355.70</td>\n",
       "      <td>573.40</td>\n",
       "      <td>745.70</td>\n",
       "      <td>720.00</td>\n",
       "      <td>578.28</td>\n",
       "      <td>Masculino</td>\n",
       "      <td>2002-10-19</td>\n",
       "      <td>20</td>\n",
       "      <td>SP</td>\n",
       "      <td>Santo André</td>\n",
       "      <td>Ampla Concorrência</td>\n",
       "    </tr>\n",
       "    <tr>\n",
       "      <th>3</th>\n",
       "      <td>UFPE</td>\n",
       "      <td>506.90</td>\n",
       "      <td>579.50</td>\n",
       "      <td>512.60</td>\n",
       "      <td>623.20</td>\n",
       "      <td>580.00</td>\n",
       "      <td>576.44</td>\n",
       "      <td>Masculino</td>\n",
       "      <td>2003-01-21</td>\n",
       "      <td>19</td>\n",
       "      <td>SP</td>\n",
       "      <td>Campinas</td>\n",
       "      <td>Cota - Escola Pública, Renda ≤ 1.5 SM</td>\n",
       "    </tr>\n",
       "    <tr>\n",
       "      <th>4</th>\n",
       "      <td>UFPE</td>\n",
       "      <td>592.90</td>\n",
       "      <td>606.60</td>\n",
       "      <td>553.40</td>\n",
       "      <td>689.70</td>\n",
       "      <td>560.00</td>\n",
       "      <td>618.51</td>\n",
       "      <td>Masculino</td>\n",
       "      <td>1997-08-05</td>\n",
       "      <td>25</td>\n",
       "      <td>MG</td>\n",
       "      <td>Ipatinga</td>\n",
       "      <td>Ampla Concorrência</td>\n",
       "    </tr>\n",
       "  </tbody>\n",
       "</table>\n",
       "</div>"
      ],
      "text/plain": [
       "  universidade  nota_linguagens  nota_ciencias_humanas  \\\n",
       "0         UFPE           588.50                 648.60   \n",
       "1          UPE           560.50                 551.30   \n",
       "2          UPE           496.60                 355.70   \n",
       "3         UFPE           506.90                 579.50   \n",
       "4         UFPE           592.90                 606.60   \n",
       "\n",
       "   nota_ciencias_natureza  nota_matematica  nota_redacao  nota_final  \\\n",
       "0                  547.10           651.00        820.00      657.53   \n",
       "1                  476.50           410.10        580.00      515.68   \n",
       "2                  573.40           745.70        720.00      578.28   \n",
       "3                  512.60           623.20        580.00      576.44   \n",
       "4                  553.40           689.70        560.00      618.51   \n",
       "\n",
       "        sexo data_nascimento  idade uf_candidato municipio_candidato  \\\n",
       "0  Masculino      2004-12-26     18           TO              Ananás   \n",
       "1   Feminino      2001-06-01     21           SP           São Paulo   \n",
       "2  Masculino      2002-10-19     20           SP         Santo André   \n",
       "3  Masculino      2003-01-21     19           SP            Campinas   \n",
       "4  Masculino      1997-08-05     25           MG            Ipatinga   \n",
       "\n",
       "                      modalidade_concorrencia  \n",
       "0  Cota - PPI, Escola Pública, Renda ≤ 1.5 SM  \n",
       "1       Cota - Escola Pública, Renda ≤ 1.5 SM  \n",
       "2                          Ampla Concorrência  \n",
       "3       Cota - Escola Pública, Renda ≤ 1.5 SM  \n",
       "4                          Ampla Concorrência  "
      ]
     },
     "execution_count": 132,
     "metadata": {},
     "output_type": "execute_result"
    }
   ],
   "source": [
    "df_limpo.head()"
   ]
  },
  {
   "cell_type": "code",
   "execution_count": null,
   "id": "14c3cc5b",
   "metadata": {},
   "outputs": [],
   "source": []
  }
 ],
 "metadata": {
  "kernelspec": {
   "display_name": "Python 3 (ipykernel)",
   "language": "python",
   "name": "python3"
  },
  "language_info": {
   "codemirror_mode": {
    "name": "ipython",
    "version": 3
   },
   "file_extension": ".py",
   "mimetype": "text/x-python",
   "name": "python",
   "nbconvert_exporter": "python",
   "pygments_lexer": "ipython3",
   "version": "3.9.13"
  }
 },
 "nbformat": 4,
 "nbformat_minor": 5
}
