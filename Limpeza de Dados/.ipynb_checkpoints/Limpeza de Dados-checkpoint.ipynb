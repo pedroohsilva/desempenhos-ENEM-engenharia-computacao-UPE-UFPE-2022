{
 "cells": [
  {
   "cell_type": "markdown",
   "id": "27791617",
   "metadata": {},
   "source": [
    "# Etapa 1 - Limpeza de Dados\n",
    "\n",
    "\n",
    "### Descrição do Conjunto de Dados\n",
    "\n",
    "O conjunto de dados utilizado nesta análise contém informações detalhadas sobre os candidatos aprovados em um processo seletivo do SISU (Sistema de Seleção Unificada). Ele abrange 418 registros, cada um representando um candidato, com as seguintes variáveis:\n",
    "\n",
    "1. **universidade** \n",
    "(*object*): Nome da universidade para a qual o candidato foi aprovado.  \n",
    "2. **campus** \n",
    "(*object*): Identificação do campus associado à universidade.  \n",
    "3. **nota_linguagens** (*float64*): Nota obtida na prova de Linguagens, Códigos e suas Tecnologias.  \n",
    "4. **nota_ciencias_humanas** (*float64*): Nota obtida na prova de Ciências Humanas e suas Tecnologias.  \n",
    "5. **nota_ciencias_natureza** (*float64*): Nota obtida na prova de Ciências da Natureza e suas Tecnologias.  \n",
    "6. **nota_matematica** (*float64*): Nota obtida na prova de Matemática e suas Tecnologias.  \n",
    "7. **nota_redacao** (*float64*): Nota obtida na redação.  \n",
    "8. **nota_final** (*float64*): Média final do candidato, considerando os pesos das notas conforme os critérios do SISU.  \n",
    "9. **sexo** (*object*): Gênero do candidato (masculino ou feminino).  \n",
    "10. **data_nascimento** (*object*): Data de nascimento do candidato.  \n",
    "11. **uf_candidato** (*object*): Unidade federativa de residência do candidato.  \n",
    "12. **modalidade_concorrencia** (*object*): Categoria de concorrência na qual o candidato participou (ex.: ampla concorrência, cotas). "
   ]
  },
  {
   "cell_type": "markdown",
   "id": "e4dccd7d",
   "metadata": {},
   "source": [
    "### 1 - Importação de Dados:\n",
    "Comecei importando as bibliotecas necessárias, como Pandas e Datetime, e configurei as opções de exibição do pandas para facilitar a visualização dos dados. Em seguida, carreguei o arquivo inicial, criando o DataFrame com os registros originais."
   ]
  },
  {
   "cell_type": "code",
   "execution_count": 47,
   "id": "3c1eaf6b",
   "metadata": {},
   "outputs": [],
   "source": [
    "# Importação da bibliteca Pandas para manipulação de dados\n",
    "import pandas as pd\n",
    "\n",
    "# Importação da bibliteca Datetime para manipulação de datas\n",
    "from datetime import datetime"
   ]
  },
  {
   "cell_type": "code",
   "execution_count": 48,
   "id": "03b4c98c",
   "metadata": {},
   "outputs": [],
   "source": [
    "# Formatando saída de dados\n",
    "pd.set_option('display.max_columns', None)\n",
    "pd.set_option('display.max_rows', None)\n",
    "pd.options.display.float_format = '{:.2f}'.format"
   ]
  },
  {
   "cell_type": "code",
   "execution_count": 49,
   "id": "8b8b6283",
   "metadata": {},
   "outputs": [],
   "source": [
    "# Importação de dados\n",
    "df = pd.read_csv('dataframe_sisu.csv')"
   ]
  },
  {
   "cell_type": "markdown",
   "id": "e053bce4",
   "metadata": {},
   "source": [
    "### 2 - Verificação do Consumo de Memória do Conjunto de Dados:\n",
    "Ao analisar o consumo de memória do dataset em gigabytes, identifiquei que as variáveis categóricas do tipo object representavam os maiores consumidores de memória. Em especial, as colunas **`'modalidade_concorrencia'`**, **`'campus'`** e **`'nome_curso'`**, juntas, utilizavam mais de 5 gigabytes de RAM. Com base nessa análise, direcionei os próximos passos do processo de compreensão e limpeza de dados para otimizar o uso de memória de forma eficiente."
   ]
  },
  {
   "cell_type": "code",
   "execution_count": 50,
   "id": "463bfd2f",
   "metadata": {},
   "outputs": [
    {
     "name": "stdout",
     "output_type": "stream",
     "text": [
      "modalidade_concorrencia    25892\n",
      "campus                     15581\n",
      "nome_curso                 14490\n",
      "data_nascimento             9246\n",
      "universidade                8381\n",
      "uf_candidato                8142\n",
      "sexo                        8004\n",
      "id_municipio_candidato      1104\n",
      "nota_linguagens             1104\n",
      "nota_ciencias_humanas       1104\n",
      "nota_ciencias_natureza      1104\n",
      "nota_matematica             1104\n",
      "nota_redacao                1104\n",
      "nota_corte                  1104\n",
      "nota                        1104\n",
      "Index                        128\n",
      "dtype: int64\n"
     ]
    }
   ],
   "source": [
    "# Avaliando o consumo de memória RAM em bytes da máquina para cada variávels do conjunto de dados\n",
    "RAM = df.memory_usage(deep = True)\n",
    "# Resultados ordenados\n",
    "RAM_sorted = RAM.sort_values(ascending=False)\n",
    "print(RAM_sorted)"
   ]
  },
  {
   "cell_type": "code",
   "execution_count": 51,
   "id": "52120c19",
   "metadata": {},
   "outputs": [
    {
     "data": {
      "text/plain": [
       "98696"
      ]
     },
     "execution_count": 51,
     "metadata": {},
     "output_type": "execute_result"
    }
   ],
   "source": [
    "# Consumo total em Bytes\n",
    "RAM.sum()"
   ]
  },
  {
   "cell_type": "code",
   "execution_count": 52,
   "id": "7301392b",
   "metadata": {},
   "outputs": [
    {
     "data": {
      "text/plain": [
       "9.191781282424927e-05"
      ]
     },
     "execution_count": 52,
     "metadata": {},
     "output_type": "execute_result"
    }
   ],
   "source": [
    "# Convertendo bytes para GigaBytes\n",
    "RAM_GB = RAM.sum() / (1024 ** 3)\n",
    "RAM_GB"
   ]
  },
  {
   "cell_type": "code",
   "execution_count": 53,
   "id": "ccaa5b72",
   "metadata": {},
   "outputs": [
    {
     "data": {
      "text/plain": [
       "modalidade_concorrencia   26.23\n",
       "campus                    15.79\n",
       "nome_curso                14.68\n",
       "data_nascimento            9.37\n",
       "universidade               8.49\n",
       "uf_candidato               8.25\n",
       "sexo                       8.11\n",
       "id_municipio_candidato     1.12\n",
       "nota_linguagens            1.12\n",
       "nota_ciencias_humanas      1.12\n",
       "nota_ciencias_natureza     1.12\n",
       "nota_matematica            1.12\n",
       "nota_redacao               1.12\n",
       "nota_corte                 1.12\n",
       "nota                       1.12\n",
       "Index                      0.13\n",
       "dtype: float64"
      ]
     },
     "execution_count": 53,
     "metadata": {},
     "output_type": "execute_result"
    }
   ],
   "source": [
    "# Consumo de memória por variável em porcentagem\n",
    "RAM_sorted / RAM.sum() * 100"
   ]
  },
  {
   "cell_type": "markdown",
   "id": "a89fd567",
   "metadata": {},
   "source": [
    "### 3 - Compreendendo o Conjunto de Dados:\n",
    "\n",
    "#### Estrutura do Conjunto de Dados:\n",
    "O dataset analisado é composto por 138 linhas e 15 colunas, distribuídas entre diferentes tipos de variáveis:  \n",
    "- 7 variáveis do tipo flutuante **(float)** \n",
    "- 7 variáveis do tipo objeto **(string ou categóricas)**\n",
    "- 1 variável do tipo inteiro **(int)**\n",
    "\n",
    "#### Análise de Valores Nulos e Duplicidades:\n",
    "Uma avaliação preliminar revelou que o conjunto de dados não apresenta valores nulos ou registros duplicados. Essa qualidade garante maior consistência e confiabilidade para as análises subsequentes."
   ]
  },
  {
   "cell_type": "code",
   "execution_count": 54,
   "id": "b18c0320",
   "metadata": {
    "scrolled": true
   },
   "outputs": [
    {
     "name": "stdout",
     "output_type": "stream",
     "text": [
      "O conjunto de dados possui 138 linhas e 15 colunas.\n"
     ]
    }
   ],
   "source": [
    "# Visualizando forma do dataset em número de linhas e colunas\n",
    "sp = df.shape\n",
    "print(f\"O conjunto de dados possui {sp[0]} linhas e {sp[1]} colunas.\")"
   ]
  },
  {
   "cell_type": "code",
   "execution_count": 55,
   "id": "dbd2f2c5",
   "metadata": {
    "scrolled": true
   },
   "outputs": [
    {
     "data": {
      "text/html": [
       "<div>\n",
       "<style scoped>\n",
       "    .dataframe tbody tr th:only-of-type {\n",
       "        vertical-align: middle;\n",
       "    }\n",
       "\n",
       "    .dataframe tbody tr th {\n",
       "        vertical-align: top;\n",
       "    }\n",
       "\n",
       "    .dataframe thead th {\n",
       "        text-align: right;\n",
       "    }\n",
       "</style>\n",
       "<table border=\"1\" class=\"dataframe\">\n",
       "  <thead>\n",
       "    <tr style=\"text-align: right;\">\n",
       "      <th></th>\n",
       "      <th>data_nascimento</th>\n",
       "      <th>sexo</th>\n",
       "      <th>modalidade_concorrencia</th>\n",
       "      <th>id_municipio_candidato</th>\n",
       "      <th>uf_candidato</th>\n",
       "      <th>nota_linguagens</th>\n",
       "      <th>nota_ciencias_humanas</th>\n",
       "      <th>nota_ciencias_natureza</th>\n",
       "      <th>nota_matematica</th>\n",
       "      <th>nota_redacao</th>\n",
       "      <th>nota_corte</th>\n",
       "      <th>nota</th>\n",
       "      <th>nome_curso</th>\n",
       "      <th>universidade</th>\n",
       "      <th>campus</th>\n",
       "    </tr>\n",
       "  </thead>\n",
       "  <tbody>\n",
       "    <tr>\n",
       "      <th>0</th>\n",
       "      <td>2003-02-07</td>\n",
       "      <td>M</td>\n",
       "      <td>Ampla concorrência</td>\n",
       "      <td>1501402</td>\n",
       "      <td>PA</td>\n",
       "      <td>635.80</td>\n",
       "      <td>714.80</td>\n",
       "      <td>693.30</td>\n",
       "      <td>803.20</td>\n",
       "      <td>900.00</td>\n",
       "      <td>770.26</td>\n",
       "      <td>775.00</td>\n",
       "      <td>ENGENHARIA DA COMPUTAÇÃO</td>\n",
       "      <td>UFPE</td>\n",
       "      <td>Campus Universitário Cidade do Recife</td>\n",
       "    </tr>\n",
       "    <tr>\n",
       "      <th>1</th>\n",
       "      <td>1996-07-03</td>\n",
       "      <td>F</td>\n",
       "      <td>egressos de escolas públicas da rede federal. ...</td>\n",
       "      <td>2927408</td>\n",
       "      <td>BA</td>\n",
       "      <td>634.80</td>\n",
       "      <td>677.10</td>\n",
       "      <td>672.90</td>\n",
       "      <td>648.90</td>\n",
       "      <td>880.00</td>\n",
       "      <td>677.24</td>\n",
       "      <td>702.74</td>\n",
       "      <td>ENGENHARIA DA COMPUTAÇÃO</td>\n",
       "      <td>UPE</td>\n",
       "      <td>ESCOLA POLITÉCNICA</td>\n",
       "    </tr>\n",
       "    <tr>\n",
       "      <th>2</th>\n",
       "      <td>2004-05-19</td>\n",
       "      <td>M</td>\n",
       "      <td>Ampla concorrência</td>\n",
       "      <td>2211001</td>\n",
       "      <td>PI</td>\n",
       "      <td>641.50</td>\n",
       "      <td>679.60</td>\n",
       "      <td>682.20</td>\n",
       "      <td>826.30</td>\n",
       "      <td>780.00</td>\n",
       "      <td>721.92</td>\n",
       "      <td>721.92</td>\n",
       "      <td>ENGENHARIA DA COMPUTAÇÃO</td>\n",
       "      <td>UPE</td>\n",
       "      <td>ESCOLA POLITÉCNICA</td>\n",
       "    </tr>\n",
       "    <tr>\n",
       "      <th>3</th>\n",
       "      <td>2002-01-12</td>\n",
       "      <td>F</td>\n",
       "      <td>Ampla concorrência</td>\n",
       "      <td>2211001</td>\n",
       "      <td>PI</td>\n",
       "      <td>697.40</td>\n",
       "      <td>667.50</td>\n",
       "      <td>704.10</td>\n",
       "      <td>823.80</td>\n",
       "      <td>960.00</td>\n",
       "      <td>770.26</td>\n",
       "      <td>798.83</td>\n",
       "      <td>ENGENHARIA DA COMPUTAÇÃO</td>\n",
       "      <td>UFPE</td>\n",
       "      <td>Campus Universitário Cidade do Recife</td>\n",
       "    </tr>\n",
       "    <tr>\n",
       "      <th>4</th>\n",
       "      <td>1999-01-09</td>\n",
       "      <td>M</td>\n",
       "      <td>Ampla concorrência</td>\n",
       "      <td>2211001</td>\n",
       "      <td>PI</td>\n",
       "      <td>630.50</td>\n",
       "      <td>651.60</td>\n",
       "      <td>677.60</td>\n",
       "      <td>797.20</td>\n",
       "      <td>940.00</td>\n",
       "      <td>770.26</td>\n",
       "      <td>770.61</td>\n",
       "      <td>ENGENHARIA DA COMPUTAÇÃO</td>\n",
       "      <td>UFPE</td>\n",
       "      <td>Campus Universitário Cidade do Recife</td>\n",
       "    </tr>\n",
       "  </tbody>\n",
       "</table>\n",
       "</div>"
      ],
      "text/plain": [
       "  data_nascimento sexo                            modalidade_concorrencia  \\\n",
       "0      2003-02-07    M                                 Ampla concorrência   \n",
       "1      1996-07-03    F  egressos de escolas públicas da rede federal. ...   \n",
       "2      2004-05-19    M                                 Ampla concorrência   \n",
       "3      2002-01-12    F                                 Ampla concorrência   \n",
       "4      1999-01-09    M                                 Ampla concorrência   \n",
       "\n",
       "   id_municipio_candidato uf_candidato  nota_linguagens  \\\n",
       "0                 1501402           PA           635.80   \n",
       "1                 2927408           BA           634.80   \n",
       "2                 2211001           PI           641.50   \n",
       "3                 2211001           PI           697.40   \n",
       "4                 2211001           PI           630.50   \n",
       "\n",
       "   nota_ciencias_humanas  nota_ciencias_natureza  nota_matematica  \\\n",
       "0                 714.80                  693.30           803.20   \n",
       "1                 677.10                  672.90           648.90   \n",
       "2                 679.60                  682.20           826.30   \n",
       "3                 667.50                  704.10           823.80   \n",
       "4                 651.60                  677.60           797.20   \n",
       "\n",
       "   nota_redacao  nota_corte   nota                nome_curso universidade  \\\n",
       "0        900.00      770.26 775.00  ENGENHARIA DA COMPUTAÇÃO         UFPE   \n",
       "1        880.00      677.24 702.74  ENGENHARIA DA COMPUTAÇÃO          UPE   \n",
       "2        780.00      721.92 721.92  ENGENHARIA DA COMPUTAÇÃO          UPE   \n",
       "3        960.00      770.26 798.83  ENGENHARIA DA COMPUTAÇÃO         UFPE   \n",
       "4        940.00      770.26 770.61  ENGENHARIA DA COMPUTAÇÃO         UFPE   \n",
       "\n",
       "                                  campus  \n",
       "0  Campus Universitário Cidade do Recife  \n",
       "1                     ESCOLA POLITÉCNICA  \n",
       "2                     ESCOLA POLITÉCNICA  \n",
       "3  Campus Universitário Cidade do Recife  \n",
       "4  Campus Universitário Cidade do Recife  "
      ]
     },
     "execution_count": 55,
     "metadata": {},
     "output_type": "execute_result"
    }
   ],
   "source": [
    "# Visualizando cabeçalho do conjunto de dados\n",
    "df.head()"
   ]
  },
  {
   "cell_type": "code",
   "execution_count": 56,
   "id": "c3a8d533",
   "metadata": {
    "scrolled": false
   },
   "outputs": [
    {
     "name": "stdout",
     "output_type": "stream",
     "text": [
      "<class 'pandas.core.frame.DataFrame'>\n",
      "RangeIndex: 138 entries, 0 to 137\n",
      "Data columns (total 15 columns):\n",
      " #   Column                   Non-Null Count  Dtype  \n",
      "---  ------                   --------------  -----  \n",
      " 0   data_nascimento          138 non-null    object \n",
      " 1   sexo                     138 non-null    object \n",
      " 2   modalidade_concorrencia  138 non-null    object \n",
      " 3   id_municipio_candidato   138 non-null    int64  \n",
      " 4   uf_candidato             138 non-null    object \n",
      " 5   nota_linguagens          138 non-null    float64\n",
      " 6   nota_ciencias_humanas    138 non-null    float64\n",
      " 7   nota_ciencias_natureza   138 non-null    float64\n",
      " 8   nota_matematica          138 non-null    float64\n",
      " 9   nota_redacao             138 non-null    float64\n",
      " 10  nota_corte               138 non-null    float64\n",
      " 11  nota                     138 non-null    float64\n",
      " 12  nome_curso               138 non-null    object \n",
      " 13  universidade             138 non-null    object \n",
      " 14  campus                   138 non-null    object \n",
      "dtypes: float64(7), int64(1), object(7)\n",
      "memory usage: 16.3+ KB\n"
     ]
    }
   ],
   "source": [
    "# Informações gerais sobre os dados\n",
    "df.info()"
   ]
  },
  {
   "cell_type": "code",
   "execution_count": 57,
   "id": "8205db72",
   "metadata": {
    "scrolled": true
   },
   "outputs": [
    {
     "name": "stdout",
     "output_type": "stream",
     "text": [
      "O conjunto de dados possui 0 linhas duplicadas.\n"
     ]
    }
   ],
   "source": [
    "# Verificação de dados duplicados\n",
    "duplicatas = df.duplicated().sum()\n",
    "print('O conjunto de dados possui', duplicatas, 'linhas duplicadas.')"
   ]
  },
  {
   "cell_type": "code",
   "execution_count": 58,
   "id": "0f815ed2",
   "metadata": {},
   "outputs": [
    {
     "data": {
      "text/plain": [
       "data_nascimento            0\n",
       "sexo                       0\n",
       "modalidade_concorrencia    0\n",
       "id_municipio_candidato     0\n",
       "uf_candidato               0\n",
       "nota_linguagens            0\n",
       "nota_ciencias_humanas      0\n",
       "nota_ciencias_natureza     0\n",
       "nota_matematica            0\n",
       "nota_redacao               0\n",
       "nota_corte                 0\n",
       "nota                       0\n",
       "nome_curso                 0\n",
       "universidade               0\n",
       "campus                     0\n",
       "dtype: int64"
      ]
     },
     "execution_count": 58,
     "metadata": {},
     "output_type": "execute_result"
    }
   ],
   "source": [
    "# Verificando valores nulos\n",
    "df.isnull().sum()"
   ]
  },
  {
   "cell_type": "code",
   "execution_count": 59,
   "id": "c3fff034",
   "metadata": {},
   "outputs": [],
   "source": [
    "# Visualizando possíveis linhas com valores nulos\n",
    "\n",
    "# Selecionando linhas com valores nulos\n",
    "linhas_nulas = df[df.isnull().any(axis=1)]\n",
    "\n",
    "# Linhas distintas com nulos (se houver duplicatas)\n",
    "linhas_distintas_nulas = linhas_nulas.drop_duplicates()"
   ]
  },
  {
   "cell_type": "code",
   "execution_count": 60,
   "id": "ce2ad618",
   "metadata": {},
   "outputs": [
    {
     "data": {
      "text/html": [
       "<div>\n",
       "<style scoped>\n",
       "    .dataframe tbody tr th:only-of-type {\n",
       "        vertical-align: middle;\n",
       "    }\n",
       "\n",
       "    .dataframe tbody tr th {\n",
       "        vertical-align: top;\n",
       "    }\n",
       "\n",
       "    .dataframe thead th {\n",
       "        text-align: right;\n",
       "    }\n",
       "</style>\n",
       "<table border=\"1\" class=\"dataframe\">\n",
       "  <thead>\n",
       "    <tr style=\"text-align: right;\">\n",
       "      <th></th>\n",
       "      <th>data_nascimento</th>\n",
       "      <th>sexo</th>\n",
       "      <th>modalidade_concorrencia</th>\n",
       "      <th>id_municipio_candidato</th>\n",
       "      <th>uf_candidato</th>\n",
       "      <th>nota_linguagens</th>\n",
       "      <th>nota_ciencias_humanas</th>\n",
       "      <th>nota_ciencias_natureza</th>\n",
       "      <th>nota_matematica</th>\n",
       "      <th>nota_redacao</th>\n",
       "      <th>nota_corte</th>\n",
       "      <th>nota</th>\n",
       "      <th>nome_curso</th>\n",
       "      <th>universidade</th>\n",
       "      <th>campus</th>\n",
       "    </tr>\n",
       "  </thead>\n",
       "  <tbody>\n",
       "  </tbody>\n",
       "</table>\n",
       "</div>"
      ],
      "text/plain": [
       "Empty DataFrame\n",
       "Columns: [data_nascimento, sexo, modalidade_concorrencia, id_municipio_candidato, uf_candidato, nota_linguagens, nota_ciencias_humanas, nota_ciencias_natureza, nota_matematica, nota_redacao, nota_corte, nota, nome_curso, universidade, campus]\n",
       "Index: []"
      ]
     },
     "execution_count": 60,
     "metadata": {},
     "output_type": "execute_result"
    }
   ],
   "source": [
    "linhas_distintas_nulas"
   ]
  },
  {
   "cell_type": "markdown",
   "id": "e960d4d6",
   "metadata": {},
   "source": [
    "### 4 - Conversão dos tipos de dados e Otimização de Memória:\n",
    "\n",
    "Após o tratamento de valores faltantes, objetivando facilitar as futuras análises e otimizar memória e capacidade de processamento da máquina local, identifiquei que as colunas categóricas e a quantitativa contínua, como **`'data_nascimento'`**, poderiam ter seus tipos de dados convertidos.\n",
    "\n",
    "**Observação:** Podemos realizar a conversão dos tipos de dados necessários apenas após a compreensão do dataset. Isso ocorre porque, ao tentar converter esses valores para o tipo inteiro, o Python lança um erro, já que o tipo inteiro não é capaz de representar valores indefinidos ou infinitos, o que resulta em falhas na conversão.  "
   ]
  },
  {
   "cell_type": "markdown",
   "id": "3d17e6d4",
   "metadata": {},
   "source": [
    "#### Colunas categóricas:"
   ]
  },
  {
   "cell_type": "code",
   "execution_count": 61,
   "id": "a001fd01",
   "metadata": {},
   "outputs": [],
   "source": [
    "# Convertendo a coluna 'nome_curso' para o tipo category\n",
    "df['nome_curso'] = df['nome_curso'].astype('category')"
   ]
  },
  {
   "cell_type": "code",
   "execution_count": 62,
   "id": "235bb43c",
   "metadata": {},
   "outputs": [],
   "source": [
    "# Convertendo a coluna 'sexo' para o tipo category\n",
    "df['sexo'] = df['sexo'].astype('category')"
   ]
  },
  {
   "cell_type": "code",
   "execution_count": 63,
   "id": "ddef65ca",
   "metadata": {},
   "outputs": [],
   "source": [
    "# Convertendo a coluna 'modalidade_concorrencia' para o tipo category\n",
    "df['modalidade_concorrencia'] = df['modalidade_concorrencia'].astype('category')"
   ]
  },
  {
   "cell_type": "code",
   "execution_count": 64,
   "id": "fea01fd5",
   "metadata": {},
   "outputs": [],
   "source": [
    "# Convertendo a coluna 'uf_candidato' para o tipo category\n",
    "df['uf_candidato'] = df['uf_candidato'].astype('category')"
   ]
  },
  {
   "cell_type": "code",
   "execution_count": 65,
   "id": "5c08b85a",
   "metadata": {},
   "outputs": [],
   "source": [
    "# Convertendo a coluna 'universidade' para o tipo category\n",
    "df['universidade'] = df['universidade'].astype('category')"
   ]
  },
  {
   "cell_type": "code",
   "execution_count": 66,
   "id": "53e8582d",
   "metadata": {},
   "outputs": [],
   "source": [
    "# Convertendo a coluna 'campus' para o tipo category\n",
    "df['campus'] = df['campus'].astype('category')"
   ]
  },
  {
   "cell_type": "code",
   "execution_count": 67,
   "id": "255cded9",
   "metadata": {},
   "outputs": [],
   "source": [
    "# Convertendo a coluna 'id_municipio_candidato' para o tipo category\n",
    "df['id_municipio_candidato'] = df['id_municipio_candidato'].astype('category')"
   ]
  },
  {
   "cell_type": "markdown",
   "id": "aab983ac",
   "metadata": {},
   "source": [
    "#### Coluna de data de nascimento:"
   ]
  },
  {
   "cell_type": "code",
   "execution_count": 68,
   "id": "1bcbf4b2",
   "metadata": {},
   "outputs": [],
   "source": [
    "# Convertendo a coluna 'data_nascimento' para o formato datetime\n",
    "df['data_nascimento'] = pd.to_datetime(df['data_nascimento'])"
   ]
  },
  {
   "cell_type": "markdown",
   "id": "3abeff95",
   "metadata": {},
   "source": [
    "#### Verificando resultados:"
   ]
  },
  {
   "cell_type": "code",
   "execution_count": 69,
   "id": "c0f53045",
   "metadata": {},
   "outputs": [
    {
     "name": "stdout",
     "output_type": "stream",
     "text": [
      "<class 'pandas.core.frame.DataFrame'>\n",
      "RangeIndex: 138 entries, 0 to 137\n",
      "Data columns (total 15 columns):\n",
      " #   Column                   Non-Null Count  Dtype         \n",
      "---  ------                   --------------  -----         \n",
      " 0   data_nascimento          138 non-null    datetime64[ns]\n",
      " 1   sexo                     138 non-null    category      \n",
      " 2   modalidade_concorrencia  138 non-null    category      \n",
      " 3   id_municipio_candidato   138 non-null    category      \n",
      " 4   uf_candidato             138 non-null    category      \n",
      " 5   nota_linguagens          138 non-null    float64       \n",
      " 6   nota_ciencias_humanas    138 non-null    float64       \n",
      " 7   nota_ciencias_natureza   138 non-null    float64       \n",
      " 8   nota_matematica          138 non-null    float64       \n",
      " 9   nota_redacao             138 non-null    float64       \n",
      " 10  nota_corte               138 non-null    float64       \n",
      " 11  nota                     138 non-null    float64       \n",
      " 12  nome_curso               138 non-null    category      \n",
      " 13  universidade             138 non-null    category      \n",
      " 14  campus                   138 non-null    category      \n",
      "dtypes: category(7), datetime64[ns](1), float64(7)\n",
      "memory usage: 12.2 KB\n"
     ]
    }
   ],
   "source": [
    "df.info()"
   ]
  },
  {
   "cell_type": "code",
   "execution_count": 70,
   "id": "725c5d12",
   "metadata": {},
   "outputs": [
    {
     "data": {
      "text/html": [
       "<div>\n",
       "<style scoped>\n",
       "    .dataframe tbody tr th:only-of-type {\n",
       "        vertical-align: middle;\n",
       "    }\n",
       "\n",
       "    .dataframe tbody tr th {\n",
       "        vertical-align: top;\n",
       "    }\n",
       "\n",
       "    .dataframe thead th {\n",
       "        text-align: right;\n",
       "    }\n",
       "</style>\n",
       "<table border=\"1\" class=\"dataframe\">\n",
       "  <thead>\n",
       "    <tr style=\"text-align: right;\">\n",
       "      <th></th>\n",
       "      <th>data_nascimento</th>\n",
       "      <th>sexo</th>\n",
       "      <th>modalidade_concorrencia</th>\n",
       "      <th>id_municipio_candidato</th>\n",
       "      <th>uf_candidato</th>\n",
       "      <th>nota_linguagens</th>\n",
       "      <th>nota_ciencias_humanas</th>\n",
       "      <th>nota_ciencias_natureza</th>\n",
       "      <th>nota_matematica</th>\n",
       "      <th>nota_redacao</th>\n",
       "      <th>nota_corte</th>\n",
       "      <th>nota</th>\n",
       "      <th>nome_curso</th>\n",
       "      <th>universidade</th>\n",
       "      <th>campus</th>\n",
       "    </tr>\n",
       "  </thead>\n",
       "  <tbody>\n",
       "    <tr>\n",
       "      <th>0</th>\n",
       "      <td>2003-02-07</td>\n",
       "      <td>M</td>\n",
       "      <td>Ampla concorrência</td>\n",
       "      <td>1501402</td>\n",
       "      <td>PA</td>\n",
       "      <td>635.80</td>\n",
       "      <td>714.80</td>\n",
       "      <td>693.30</td>\n",
       "      <td>803.20</td>\n",
       "      <td>900.00</td>\n",
       "      <td>770.26</td>\n",
       "      <td>775.00</td>\n",
       "      <td>ENGENHARIA DA COMPUTAÇÃO</td>\n",
       "      <td>UFPE</td>\n",
       "      <td>Campus Universitário Cidade do Recife</td>\n",
       "    </tr>\n",
       "    <tr>\n",
       "      <th>1</th>\n",
       "      <td>1996-07-03</td>\n",
       "      <td>F</td>\n",
       "      <td>egressos de escolas públicas da rede federal. ...</td>\n",
       "      <td>2927408</td>\n",
       "      <td>BA</td>\n",
       "      <td>634.80</td>\n",
       "      <td>677.10</td>\n",
       "      <td>672.90</td>\n",
       "      <td>648.90</td>\n",
       "      <td>880.00</td>\n",
       "      <td>677.24</td>\n",
       "      <td>702.74</td>\n",
       "      <td>ENGENHARIA DA COMPUTAÇÃO</td>\n",
       "      <td>UPE</td>\n",
       "      <td>ESCOLA POLITÉCNICA</td>\n",
       "    </tr>\n",
       "    <tr>\n",
       "      <th>2</th>\n",
       "      <td>2004-05-19</td>\n",
       "      <td>M</td>\n",
       "      <td>Ampla concorrência</td>\n",
       "      <td>2211001</td>\n",
       "      <td>PI</td>\n",
       "      <td>641.50</td>\n",
       "      <td>679.60</td>\n",
       "      <td>682.20</td>\n",
       "      <td>826.30</td>\n",
       "      <td>780.00</td>\n",
       "      <td>721.92</td>\n",
       "      <td>721.92</td>\n",
       "      <td>ENGENHARIA DA COMPUTAÇÃO</td>\n",
       "      <td>UPE</td>\n",
       "      <td>ESCOLA POLITÉCNICA</td>\n",
       "    </tr>\n",
       "    <tr>\n",
       "      <th>3</th>\n",
       "      <td>2002-01-12</td>\n",
       "      <td>F</td>\n",
       "      <td>Ampla concorrência</td>\n",
       "      <td>2211001</td>\n",
       "      <td>PI</td>\n",
       "      <td>697.40</td>\n",
       "      <td>667.50</td>\n",
       "      <td>704.10</td>\n",
       "      <td>823.80</td>\n",
       "      <td>960.00</td>\n",
       "      <td>770.26</td>\n",
       "      <td>798.83</td>\n",
       "      <td>ENGENHARIA DA COMPUTAÇÃO</td>\n",
       "      <td>UFPE</td>\n",
       "      <td>Campus Universitário Cidade do Recife</td>\n",
       "    </tr>\n",
       "    <tr>\n",
       "      <th>4</th>\n",
       "      <td>1999-01-09</td>\n",
       "      <td>M</td>\n",
       "      <td>Ampla concorrência</td>\n",
       "      <td>2211001</td>\n",
       "      <td>PI</td>\n",
       "      <td>630.50</td>\n",
       "      <td>651.60</td>\n",
       "      <td>677.60</td>\n",
       "      <td>797.20</td>\n",
       "      <td>940.00</td>\n",
       "      <td>770.26</td>\n",
       "      <td>770.61</td>\n",
       "      <td>ENGENHARIA DA COMPUTAÇÃO</td>\n",
       "      <td>UFPE</td>\n",
       "      <td>Campus Universitário Cidade do Recife</td>\n",
       "    </tr>\n",
       "  </tbody>\n",
       "</table>\n",
       "</div>"
      ],
      "text/plain": [
       "  data_nascimento sexo                            modalidade_concorrencia  \\\n",
       "0      2003-02-07    M                                 Ampla concorrência   \n",
       "1      1996-07-03    F  egressos de escolas públicas da rede federal. ...   \n",
       "2      2004-05-19    M                                 Ampla concorrência   \n",
       "3      2002-01-12    F                                 Ampla concorrência   \n",
       "4      1999-01-09    M                                 Ampla concorrência   \n",
       "\n",
       "  id_municipio_candidato uf_candidato  nota_linguagens  nota_ciencias_humanas  \\\n",
       "0                1501402           PA           635.80                 714.80   \n",
       "1                2927408           BA           634.80                 677.10   \n",
       "2                2211001           PI           641.50                 679.60   \n",
       "3                2211001           PI           697.40                 667.50   \n",
       "4                2211001           PI           630.50                 651.60   \n",
       "\n",
       "   nota_ciencias_natureza  nota_matematica  nota_redacao  nota_corte   nota  \\\n",
       "0                  693.30           803.20        900.00      770.26 775.00   \n",
       "1                  672.90           648.90        880.00      677.24 702.74   \n",
       "2                  682.20           826.30        780.00      721.92 721.92   \n",
       "3                  704.10           823.80        960.00      770.26 798.83   \n",
       "4                  677.60           797.20        940.00      770.26 770.61   \n",
       "\n",
       "                 nome_curso universidade  \\\n",
       "0  ENGENHARIA DA COMPUTAÇÃO         UFPE   \n",
       "1  ENGENHARIA DA COMPUTAÇÃO          UPE   \n",
       "2  ENGENHARIA DA COMPUTAÇÃO          UPE   \n",
       "3  ENGENHARIA DA COMPUTAÇÃO         UFPE   \n",
       "4  ENGENHARIA DA COMPUTAÇÃO         UFPE   \n",
       "\n",
       "                                  campus  \n",
       "0  Campus Universitário Cidade do Recife  \n",
       "1                     ESCOLA POLITÉCNICA  \n",
       "2                     ESCOLA POLITÉCNICA  \n",
       "3  Campus Universitário Cidade do Recife  \n",
       "4  Campus Universitário Cidade do Recife  "
      ]
     },
     "execution_count": 70,
     "metadata": {},
     "output_type": "execute_result"
    }
   ],
   "source": [
    "df.head()"
   ]
  },
  {
   "cell_type": "markdown",
   "id": "d966b562",
   "metadata": {},
   "source": [
    "### 5 - Normalização de Dados:\n",
    "\n",
    "Substituí os IDs dos municípios pelos nomes correspondentes, utilizando dados do IBGE, e padronizei valores textuais em colunas como **`'nome_curso'`**, **`'modalidade_concorrencia'`** e **`'campus'`**, removendo espaços extras e uniformizando o formato. Adicionei também uma nova coluna, idade, calculada a partir da data de nascimento, posicionando-a logo após a coluna data_nascimento."
   ]
  },
  {
   "cell_type": "markdown",
   "id": "ebf43417",
   "metadata": {},
   "source": [
    "#### Importando tabela de códigos de município do IBGE:"
   ]
  },
  {
   "cell_type": "code",
   "execution_count": 71,
   "id": "fe437574",
   "metadata": {},
   "outputs": [],
   "source": [
    "# Carregando o DataFrame com os dados dos municípios do IBGE em Excel\n",
    "df_municipios = pd.read_excel('codigos_municipios_ibge.xlsx', usecols=['Código Município Completo', 'Nome_Município'])"
   ]
  },
  {
   "cell_type": "code",
   "execution_count": 72,
   "id": "ea28dc92",
   "metadata": {},
   "outputs": [
    {
     "data": {
      "text/html": [
       "<div>\n",
       "<style scoped>\n",
       "    .dataframe tbody tr th:only-of-type {\n",
       "        vertical-align: middle;\n",
       "    }\n",
       "\n",
       "    .dataframe tbody tr th {\n",
       "        vertical-align: top;\n",
       "    }\n",
       "\n",
       "    .dataframe thead th {\n",
       "        text-align: right;\n",
       "    }\n",
       "</style>\n",
       "<table border=\"1\" class=\"dataframe\">\n",
       "  <thead>\n",
       "    <tr style=\"text-align: right;\">\n",
       "      <th></th>\n",
       "      <th>Código Município Completo</th>\n",
       "      <th>Nome_Município</th>\n",
       "    </tr>\n",
       "  </thead>\n",
       "  <tbody>\n",
       "    <tr>\n",
       "      <th>0</th>\n",
       "      <td>1100015</td>\n",
       "      <td>Alta Floresta D'Oeste</td>\n",
       "    </tr>\n",
       "    <tr>\n",
       "      <th>1</th>\n",
       "      <td>1100379</td>\n",
       "      <td>Alto Alegre dos Parecis</td>\n",
       "    </tr>\n",
       "    <tr>\n",
       "      <th>2</th>\n",
       "      <td>1100403</td>\n",
       "      <td>Alto Paraíso</td>\n",
       "    </tr>\n",
       "    <tr>\n",
       "      <th>3</th>\n",
       "      <td>1100346</td>\n",
       "      <td>Alvorada D'Oeste</td>\n",
       "    </tr>\n",
       "    <tr>\n",
       "      <th>4</th>\n",
       "      <td>1100023</td>\n",
       "      <td>Ariquemes</td>\n",
       "    </tr>\n",
       "  </tbody>\n",
       "</table>\n",
       "</div>"
      ],
      "text/plain": [
       "   Código Município Completo           Nome_Município\n",
       "0                    1100015    Alta Floresta D'Oeste\n",
       "1                    1100379  Alto Alegre dos Parecis\n",
       "2                    1100403             Alto Paraíso\n",
       "3                    1100346         Alvorada D'Oeste\n",
       "4                    1100023                Ariquemes"
      ]
     },
     "execution_count": 72,
     "metadata": {},
     "output_type": "execute_result"
    }
   ],
   "source": [
    "# Visualizando a tabela de municípios\n",
    "df_municipios.head()"
   ]
  },
  {
   "cell_type": "markdown",
   "id": "5cfb4a44",
   "metadata": {},
   "source": [
    "#### Substituindo ids do município dos candidatos pelo nome do município:"
   ]
  },
  {
   "cell_type": "code",
   "execution_count": 73,
   "id": "ab773cd3",
   "metadata": {},
   "outputs": [],
   "source": [
    "# Realizando a mesclagem dos DataFrames com base na coluna de IDs\n",
    "df_com_nomes = df.merge(df_municipios, left_on='id_municipio_candidato', right_on='Código Município Completo', how='left')"
   ]
  },
  {
   "cell_type": "code",
   "execution_count": 74,
   "id": "191938fd",
   "metadata": {},
   "outputs": [],
   "source": [
    "# Substituindo a coluna de ID pelo nome do município\n",
    "df_com_nomes['id_municipio_candidato'] = df_com_nomes['Nome_Município']"
   ]
  },
  {
   "cell_type": "code",
   "execution_count": 75,
   "id": "329df30c",
   "metadata": {},
   "outputs": [],
   "source": [
    "# Renomeando coluna 'id_municipio_candidato' para 'municipio_candidato'\n",
    "df_com_nomes = df_com_nomes.rename(columns={'id_municipio_candidato': 'municipio_candidato'})"
   ]
  },
  {
   "cell_type": "markdown",
   "id": "8d8c8e3e",
   "metadata": {},
   "source": [
    "#### Verificando resultados:"
   ]
  },
  {
   "cell_type": "code",
   "execution_count": 76,
   "id": "74b3c449",
   "metadata": {},
   "outputs": [
    {
     "data": {
      "text/html": [
       "<div>\n",
       "<style scoped>\n",
       "    .dataframe tbody tr th:only-of-type {\n",
       "        vertical-align: middle;\n",
       "    }\n",
       "\n",
       "    .dataframe tbody tr th {\n",
       "        vertical-align: top;\n",
       "    }\n",
       "\n",
       "    .dataframe thead th {\n",
       "        text-align: right;\n",
       "    }\n",
       "</style>\n",
       "<table border=\"1\" class=\"dataframe\">\n",
       "  <thead>\n",
       "    <tr style=\"text-align: right;\">\n",
       "      <th></th>\n",
       "      <th>data_nascimento</th>\n",
       "      <th>sexo</th>\n",
       "      <th>modalidade_concorrencia</th>\n",
       "      <th>municipio_candidato</th>\n",
       "      <th>uf_candidato</th>\n",
       "      <th>nota_linguagens</th>\n",
       "      <th>nota_ciencias_humanas</th>\n",
       "      <th>nota_ciencias_natureza</th>\n",
       "      <th>nota_matematica</th>\n",
       "      <th>nota_redacao</th>\n",
       "      <th>nota_corte</th>\n",
       "      <th>nota</th>\n",
       "      <th>nome_curso</th>\n",
       "      <th>universidade</th>\n",
       "      <th>campus</th>\n",
       "      <th>Código Município Completo</th>\n",
       "      <th>Nome_Município</th>\n",
       "    </tr>\n",
       "  </thead>\n",
       "  <tbody>\n",
       "    <tr>\n",
       "      <th>0</th>\n",
       "      <td>2003-02-07</td>\n",
       "      <td>M</td>\n",
       "      <td>Ampla concorrência</td>\n",
       "      <td>Belém</td>\n",
       "      <td>PA</td>\n",
       "      <td>635.80</td>\n",
       "      <td>714.80</td>\n",
       "      <td>693.30</td>\n",
       "      <td>803.20</td>\n",
       "      <td>900.00</td>\n",
       "      <td>770.26</td>\n",
       "      <td>775.00</td>\n",
       "      <td>ENGENHARIA DA COMPUTAÇÃO</td>\n",
       "      <td>UFPE</td>\n",
       "      <td>Campus Universitário Cidade do Recife</td>\n",
       "      <td>1501402</td>\n",
       "      <td>Belém</td>\n",
       "    </tr>\n",
       "    <tr>\n",
       "      <th>1</th>\n",
       "      <td>1996-07-03</td>\n",
       "      <td>F</td>\n",
       "      <td>egressos de escolas públicas da rede federal. ...</td>\n",
       "      <td>Salvador</td>\n",
       "      <td>BA</td>\n",
       "      <td>634.80</td>\n",
       "      <td>677.10</td>\n",
       "      <td>672.90</td>\n",
       "      <td>648.90</td>\n",
       "      <td>880.00</td>\n",
       "      <td>677.24</td>\n",
       "      <td>702.74</td>\n",
       "      <td>ENGENHARIA DA COMPUTAÇÃO</td>\n",
       "      <td>UPE</td>\n",
       "      <td>ESCOLA POLITÉCNICA</td>\n",
       "      <td>2927408</td>\n",
       "      <td>Salvador</td>\n",
       "    </tr>\n",
       "    <tr>\n",
       "      <th>2</th>\n",
       "      <td>2004-05-19</td>\n",
       "      <td>M</td>\n",
       "      <td>Ampla concorrência</td>\n",
       "      <td>Teresina</td>\n",
       "      <td>PI</td>\n",
       "      <td>641.50</td>\n",
       "      <td>679.60</td>\n",
       "      <td>682.20</td>\n",
       "      <td>826.30</td>\n",
       "      <td>780.00</td>\n",
       "      <td>721.92</td>\n",
       "      <td>721.92</td>\n",
       "      <td>ENGENHARIA DA COMPUTAÇÃO</td>\n",
       "      <td>UPE</td>\n",
       "      <td>ESCOLA POLITÉCNICA</td>\n",
       "      <td>2211001</td>\n",
       "      <td>Teresina</td>\n",
       "    </tr>\n",
       "    <tr>\n",
       "      <th>3</th>\n",
       "      <td>2002-01-12</td>\n",
       "      <td>F</td>\n",
       "      <td>Ampla concorrência</td>\n",
       "      <td>Teresina</td>\n",
       "      <td>PI</td>\n",
       "      <td>697.40</td>\n",
       "      <td>667.50</td>\n",
       "      <td>704.10</td>\n",
       "      <td>823.80</td>\n",
       "      <td>960.00</td>\n",
       "      <td>770.26</td>\n",
       "      <td>798.83</td>\n",
       "      <td>ENGENHARIA DA COMPUTAÇÃO</td>\n",
       "      <td>UFPE</td>\n",
       "      <td>Campus Universitário Cidade do Recife</td>\n",
       "      <td>2211001</td>\n",
       "      <td>Teresina</td>\n",
       "    </tr>\n",
       "    <tr>\n",
       "      <th>4</th>\n",
       "      <td>1999-01-09</td>\n",
       "      <td>M</td>\n",
       "      <td>Ampla concorrência</td>\n",
       "      <td>Teresina</td>\n",
       "      <td>PI</td>\n",
       "      <td>630.50</td>\n",
       "      <td>651.60</td>\n",
       "      <td>677.60</td>\n",
       "      <td>797.20</td>\n",
       "      <td>940.00</td>\n",
       "      <td>770.26</td>\n",
       "      <td>770.61</td>\n",
       "      <td>ENGENHARIA DA COMPUTAÇÃO</td>\n",
       "      <td>UFPE</td>\n",
       "      <td>Campus Universitário Cidade do Recife</td>\n",
       "      <td>2211001</td>\n",
       "      <td>Teresina</td>\n",
       "    </tr>\n",
       "  </tbody>\n",
       "</table>\n",
       "</div>"
      ],
      "text/plain": [
       "  data_nascimento sexo                            modalidade_concorrencia  \\\n",
       "0      2003-02-07    M                                 Ampla concorrência   \n",
       "1      1996-07-03    F  egressos de escolas públicas da rede federal. ...   \n",
       "2      2004-05-19    M                                 Ampla concorrência   \n",
       "3      2002-01-12    F                                 Ampla concorrência   \n",
       "4      1999-01-09    M                                 Ampla concorrência   \n",
       "\n",
       "  municipio_candidato uf_candidato  nota_linguagens  nota_ciencias_humanas  \\\n",
       "0               Belém           PA           635.80                 714.80   \n",
       "1            Salvador           BA           634.80                 677.10   \n",
       "2            Teresina           PI           641.50                 679.60   \n",
       "3            Teresina           PI           697.40                 667.50   \n",
       "4            Teresina           PI           630.50                 651.60   \n",
       "\n",
       "   nota_ciencias_natureza  nota_matematica  nota_redacao  nota_corte   nota  \\\n",
       "0                  693.30           803.20        900.00      770.26 775.00   \n",
       "1                  672.90           648.90        880.00      677.24 702.74   \n",
       "2                  682.20           826.30        780.00      721.92 721.92   \n",
       "3                  704.10           823.80        960.00      770.26 798.83   \n",
       "4                  677.60           797.20        940.00      770.26 770.61   \n",
       "\n",
       "                 nome_curso universidade  \\\n",
       "0  ENGENHARIA DA COMPUTAÇÃO         UFPE   \n",
       "1  ENGENHARIA DA COMPUTAÇÃO          UPE   \n",
       "2  ENGENHARIA DA COMPUTAÇÃO          UPE   \n",
       "3  ENGENHARIA DA COMPUTAÇÃO         UFPE   \n",
       "4  ENGENHARIA DA COMPUTAÇÃO         UFPE   \n",
       "\n",
       "                                  campus  Código Município Completo  \\\n",
       "0  Campus Universitário Cidade do Recife                    1501402   \n",
       "1                     ESCOLA POLITÉCNICA                    2927408   \n",
       "2                     ESCOLA POLITÉCNICA                    2211001   \n",
       "3  Campus Universitário Cidade do Recife                    2211001   \n",
       "4  Campus Universitário Cidade do Recife                    2211001   \n",
       "\n",
       "  Nome_Município  \n",
       "0          Belém  \n",
       "1       Salvador  \n",
       "2       Teresina  \n",
       "3       Teresina  \n",
       "4       Teresina  "
      ]
     },
     "execution_count": 76,
     "metadata": {},
     "output_type": "execute_result"
    }
   ],
   "source": [
    "df_com_nomes.head()"
   ]
  },
  {
   "cell_type": "markdown",
   "id": "1677293a",
   "metadata": {},
   "source": [
    "#### Limpeza de colunas categóricas:"
   ]
  },
  {
   "cell_type": "code",
   "execution_count": 77,
   "id": "78f261ae",
   "metadata": {},
   "outputs": [],
   "source": [
    "# Substituindo 'M' por 'Masculino' na coluna 'sexo'\n",
    "df_com_nomes['sexo'] = df_com_nomes['sexo'].replace('M', 'Masculino')"
   ]
  },
  {
   "cell_type": "code",
   "execution_count": 78,
   "id": "ef626c3d",
   "metadata": {},
   "outputs": [],
   "source": [
    "# Substituindo 'F' por 'Feminino' na coluna 'sexo'\n",
    "df_com_nomes['sexo'] = df_com_nomes['sexo'].replace('F', 'Feminino')"
   ]
  },
  {
   "cell_type": "code",
   "execution_count": 79,
   "id": "21e1d459",
   "metadata": {},
   "outputs": [],
   "source": [
    "df_com_nomes['modalidade_concorrencia'] = df_com_nomes['modalidade_concorrencia'].str.strip().str.title()"
   ]
  },
  {
   "cell_type": "code",
   "execution_count": 80,
   "id": "e2ccc0b9",
   "metadata": {},
   "outputs": [],
   "source": [
    "df_com_nomes['nome_curso'] = df_com_nomes['nome_curso'].str.strip().str.title()"
   ]
  },
  {
   "cell_type": "code",
   "execution_count": 81,
   "id": "dea3cd4f",
   "metadata": {},
   "outputs": [],
   "source": [
    "df_com_nomes['campus'] = df_com_nomes['campus'].str.strip().str.title()"
   ]
  },
  {
   "cell_type": "code",
   "execution_count": 82,
   "id": "c9ab95f5",
   "metadata": {},
   "outputs": [],
   "source": [
    "df_com_nomes['uf_candidato'] = df_com_nomes['uf_candidato'].str.strip().str.upper()"
   ]
  },
  {
   "cell_type": "markdown",
   "id": "085bbe33",
   "metadata": {},
   "source": [
    "#### Renomeando o conjunto de dados:"
   ]
  },
  {
   "cell_type": "code",
   "execution_count": 83,
   "id": "da1e5590",
   "metadata": {},
   "outputs": [],
   "source": [
    "df = df_com_nomes.copy()"
   ]
  },
  {
   "cell_type": "markdown",
   "id": "9aa96ede",
   "metadata": {},
   "source": [
    "#### Criando coluna de idade"
   ]
  },
  {
   "cell_type": "code",
   "execution_count": 84,
   "id": "0e6faaf1",
   "metadata": {},
   "outputs": [
    {
     "name": "stdout",
     "output_type": "stream",
     "text": [
      "  data_nascimento  idade\n",
      "0      2003-02-07     19\n",
      "1      1996-07-03     26\n",
      "2      2004-05-19     18\n",
      "3      2002-01-12     20\n",
      "4      1999-01-09     23\n"
     ]
    }
   ],
   "source": [
    "# Calculando a idade dos candidatos com base na data de referência (31 de dezembro de 2022)\n",
    "data_referencia = datetime(2022, 12, 31)\n",
    "df['idade'] = df['data_nascimento'].apply(lambda x: data_referencia.year - x.year - ((data_referencia.month, data_referencia.day) < (x.month, x.day)))\n",
    "\n",
    "# Exibindo as primeiras linhas para verificar a nova coluna\n",
    "print(df[['data_nascimento', 'idade']].head())"
   ]
  },
  {
   "cell_type": "code",
   "execution_count": 85,
   "id": "50c60a86",
   "metadata": {},
   "outputs": [],
   "source": [
    "# Calculando a idade dos candidatos com base na data de referência (31 de dezembro de 2022)\n",
    "data_referencia = datetime(2022, 12, 31)\n",
    "df['idade'] = df['data_nascimento'].apply(lambda x: data_referencia.year - x.year - ((data_referencia.month, data_referencia.day) < (x.month, x.day)))"
   ]
  },
  {
   "cell_type": "code",
   "execution_count": 86,
   "id": "3ea2e83f",
   "metadata": {},
   "outputs": [],
   "source": [
    "# Reposicionando a coluna 'idade' logo após 'data_nascimento'\n",
    "posicao = df.columns.get_loc('data_nascimento') + 1\n",
    "df.insert(posicao, 'idade', df.pop('idade'))"
   ]
  },
  {
   "cell_type": "markdown",
   "id": "7ef8bde5",
   "metadata": {},
   "source": [
    "#### Verificando resultados:"
   ]
  },
  {
   "cell_type": "code",
   "execution_count": 87,
   "id": "c3c56a08",
   "metadata": {
    "scrolled": false
   },
   "outputs": [
    {
     "data": {
      "text/html": [
       "<div>\n",
       "<style scoped>\n",
       "    .dataframe tbody tr th:only-of-type {\n",
       "        vertical-align: middle;\n",
       "    }\n",
       "\n",
       "    .dataframe tbody tr th {\n",
       "        vertical-align: top;\n",
       "    }\n",
       "\n",
       "    .dataframe thead th {\n",
       "        text-align: right;\n",
       "    }\n",
       "</style>\n",
       "<table border=\"1\" class=\"dataframe\">\n",
       "  <thead>\n",
       "    <tr style=\"text-align: right;\">\n",
       "      <th></th>\n",
       "      <th>data_nascimento</th>\n",
       "      <th>idade</th>\n",
       "      <th>sexo</th>\n",
       "      <th>modalidade_concorrencia</th>\n",
       "      <th>municipio_candidato</th>\n",
       "      <th>uf_candidato</th>\n",
       "      <th>nota_linguagens</th>\n",
       "      <th>nota_ciencias_humanas</th>\n",
       "      <th>nota_ciencias_natureza</th>\n",
       "      <th>nota_matematica</th>\n",
       "      <th>nota_redacao</th>\n",
       "      <th>nota_corte</th>\n",
       "      <th>nota</th>\n",
       "      <th>nome_curso</th>\n",
       "      <th>universidade</th>\n",
       "      <th>campus</th>\n",
       "      <th>Código Município Completo</th>\n",
       "      <th>Nome_Município</th>\n",
       "    </tr>\n",
       "  </thead>\n",
       "  <tbody>\n",
       "    <tr>\n",
       "      <th>0</th>\n",
       "      <td>2003-02-07</td>\n",
       "      <td>19</td>\n",
       "      <td>Masculino</td>\n",
       "      <td>Ampla Concorrência</td>\n",
       "      <td>Belém</td>\n",
       "      <td>PA</td>\n",
       "      <td>635.80</td>\n",
       "      <td>714.80</td>\n",
       "      <td>693.30</td>\n",
       "      <td>803.20</td>\n",
       "      <td>900.00</td>\n",
       "      <td>770.26</td>\n",
       "      <td>775.00</td>\n",
       "      <td>Engenharia Da Computação</td>\n",
       "      <td>UFPE</td>\n",
       "      <td>Campus Universitário Cidade Do Recife</td>\n",
       "      <td>1501402</td>\n",
       "      <td>Belém</td>\n",
       "    </tr>\n",
       "    <tr>\n",
       "      <th>1</th>\n",
       "      <td>1996-07-03</td>\n",
       "      <td>26</td>\n",
       "      <td>Feminino</td>\n",
       "      <td>Egressos De Escolas Públicas Da Rede Federal. ...</td>\n",
       "      <td>Salvador</td>\n",
       "      <td>BA</td>\n",
       "      <td>634.80</td>\n",
       "      <td>677.10</td>\n",
       "      <td>672.90</td>\n",
       "      <td>648.90</td>\n",
       "      <td>880.00</td>\n",
       "      <td>677.24</td>\n",
       "      <td>702.74</td>\n",
       "      <td>Engenharia Da Computação</td>\n",
       "      <td>UPE</td>\n",
       "      <td>Escola Politécnica</td>\n",
       "      <td>2927408</td>\n",
       "      <td>Salvador</td>\n",
       "    </tr>\n",
       "    <tr>\n",
       "      <th>2</th>\n",
       "      <td>2004-05-19</td>\n",
       "      <td>18</td>\n",
       "      <td>Masculino</td>\n",
       "      <td>Ampla Concorrência</td>\n",
       "      <td>Teresina</td>\n",
       "      <td>PI</td>\n",
       "      <td>641.50</td>\n",
       "      <td>679.60</td>\n",
       "      <td>682.20</td>\n",
       "      <td>826.30</td>\n",
       "      <td>780.00</td>\n",
       "      <td>721.92</td>\n",
       "      <td>721.92</td>\n",
       "      <td>Engenharia Da Computação</td>\n",
       "      <td>UPE</td>\n",
       "      <td>Escola Politécnica</td>\n",
       "      <td>2211001</td>\n",
       "      <td>Teresina</td>\n",
       "    </tr>\n",
       "    <tr>\n",
       "      <th>3</th>\n",
       "      <td>2002-01-12</td>\n",
       "      <td>20</td>\n",
       "      <td>Feminino</td>\n",
       "      <td>Ampla Concorrência</td>\n",
       "      <td>Teresina</td>\n",
       "      <td>PI</td>\n",
       "      <td>697.40</td>\n",
       "      <td>667.50</td>\n",
       "      <td>704.10</td>\n",
       "      <td>823.80</td>\n",
       "      <td>960.00</td>\n",
       "      <td>770.26</td>\n",
       "      <td>798.83</td>\n",
       "      <td>Engenharia Da Computação</td>\n",
       "      <td>UFPE</td>\n",
       "      <td>Campus Universitário Cidade Do Recife</td>\n",
       "      <td>2211001</td>\n",
       "      <td>Teresina</td>\n",
       "    </tr>\n",
       "    <tr>\n",
       "      <th>4</th>\n",
       "      <td>1999-01-09</td>\n",
       "      <td>23</td>\n",
       "      <td>Masculino</td>\n",
       "      <td>Ampla Concorrência</td>\n",
       "      <td>Teresina</td>\n",
       "      <td>PI</td>\n",
       "      <td>630.50</td>\n",
       "      <td>651.60</td>\n",
       "      <td>677.60</td>\n",
       "      <td>797.20</td>\n",
       "      <td>940.00</td>\n",
       "      <td>770.26</td>\n",
       "      <td>770.61</td>\n",
       "      <td>Engenharia Da Computação</td>\n",
       "      <td>UFPE</td>\n",
       "      <td>Campus Universitário Cidade Do Recife</td>\n",
       "      <td>2211001</td>\n",
       "      <td>Teresina</td>\n",
       "    </tr>\n",
       "  </tbody>\n",
       "</table>\n",
       "</div>"
      ],
      "text/plain": [
       "  data_nascimento  idade       sexo  \\\n",
       "0      2003-02-07     19  Masculino   \n",
       "1      1996-07-03     26   Feminino   \n",
       "2      2004-05-19     18  Masculino   \n",
       "3      2002-01-12     20   Feminino   \n",
       "4      1999-01-09     23  Masculino   \n",
       "\n",
       "                             modalidade_concorrencia municipio_candidato  \\\n",
       "0                                 Ampla Concorrência               Belém   \n",
       "1  Egressos De Escolas Públicas Da Rede Federal. ...            Salvador   \n",
       "2                                 Ampla Concorrência            Teresina   \n",
       "3                                 Ampla Concorrência            Teresina   \n",
       "4                                 Ampla Concorrência            Teresina   \n",
       "\n",
       "  uf_candidato  nota_linguagens  nota_ciencias_humanas  \\\n",
       "0           PA           635.80                 714.80   \n",
       "1           BA           634.80                 677.10   \n",
       "2           PI           641.50                 679.60   \n",
       "3           PI           697.40                 667.50   \n",
       "4           PI           630.50                 651.60   \n",
       "\n",
       "   nota_ciencias_natureza  nota_matematica  nota_redacao  nota_corte   nota  \\\n",
       "0                  693.30           803.20        900.00      770.26 775.00   \n",
       "1                  672.90           648.90        880.00      677.24 702.74   \n",
       "2                  682.20           826.30        780.00      721.92 721.92   \n",
       "3                  704.10           823.80        960.00      770.26 798.83   \n",
       "4                  677.60           797.20        940.00      770.26 770.61   \n",
       "\n",
       "                 nome_curso universidade  \\\n",
       "0  Engenharia Da Computação         UFPE   \n",
       "1  Engenharia Da Computação          UPE   \n",
       "2  Engenharia Da Computação          UPE   \n",
       "3  Engenharia Da Computação         UFPE   \n",
       "4  Engenharia Da Computação         UFPE   \n",
       "\n",
       "                                  campus  Código Município Completo  \\\n",
       "0  Campus Universitário Cidade Do Recife                    1501402   \n",
       "1                     Escola Politécnica                    2927408   \n",
       "2                     Escola Politécnica                    2211001   \n",
       "3  Campus Universitário Cidade Do Recife                    2211001   \n",
       "4  Campus Universitário Cidade Do Recife                    2211001   \n",
       "\n",
       "  Nome_Município  \n",
       "0          Belém  \n",
       "1       Salvador  \n",
       "2       Teresina  \n",
       "3       Teresina  \n",
       "4       Teresina  "
      ]
     },
     "execution_count": 87,
     "metadata": {},
     "output_type": "execute_result"
    }
   ],
   "source": [
    "df.head()"
   ]
  },
  {
   "cell_type": "markdown",
   "id": "903f6a54",
   "metadata": {},
   "source": [
    "#### Remoção de colunas:\n",
    "Removi as colunas **`'Código Município Completo'`** e **`'Nome_Município'`** obtidas através da mesclagem entre a tabela de municípios e o dataframe original."
   ]
  },
  {
   "cell_type": "code",
   "execution_count": 88,
   "id": "ee4adb07",
   "metadata": {
    "scrolled": false
   },
   "outputs": [],
   "source": [
    "# Removendo colunas 'Código Município Completo' e 'Nome_Município'\n",
    "df = df.drop(columns=['Código Município Completo', 'Nome_Município'])"
   ]
  },
  {
   "cell_type": "markdown",
   "id": "ab3365a1",
   "metadata": {},
   "source": [
    "#### Verificando resultados:"
   ]
  },
  {
   "cell_type": "code",
   "execution_count": 89,
   "id": "3e11afea",
   "metadata": {},
   "outputs": [
    {
     "data": {
      "text/html": [
       "<div>\n",
       "<style scoped>\n",
       "    .dataframe tbody tr th:only-of-type {\n",
       "        vertical-align: middle;\n",
       "    }\n",
       "\n",
       "    .dataframe tbody tr th {\n",
       "        vertical-align: top;\n",
       "    }\n",
       "\n",
       "    .dataframe thead th {\n",
       "        text-align: right;\n",
       "    }\n",
       "</style>\n",
       "<table border=\"1\" class=\"dataframe\">\n",
       "  <thead>\n",
       "    <tr style=\"text-align: right;\">\n",
       "      <th></th>\n",
       "      <th>data_nascimento</th>\n",
       "      <th>idade</th>\n",
       "      <th>sexo</th>\n",
       "      <th>modalidade_concorrencia</th>\n",
       "      <th>municipio_candidato</th>\n",
       "      <th>uf_candidato</th>\n",
       "      <th>nota_linguagens</th>\n",
       "      <th>nota_ciencias_humanas</th>\n",
       "      <th>nota_ciencias_natureza</th>\n",
       "      <th>nota_matematica</th>\n",
       "      <th>nota_redacao</th>\n",
       "      <th>nota_corte</th>\n",
       "      <th>nota</th>\n",
       "      <th>nome_curso</th>\n",
       "      <th>universidade</th>\n",
       "      <th>campus</th>\n",
       "    </tr>\n",
       "  </thead>\n",
       "  <tbody>\n",
       "    <tr>\n",
       "      <th>0</th>\n",
       "      <td>2003-02-07</td>\n",
       "      <td>19</td>\n",
       "      <td>Masculino</td>\n",
       "      <td>Ampla Concorrência</td>\n",
       "      <td>Belém</td>\n",
       "      <td>PA</td>\n",
       "      <td>635.80</td>\n",
       "      <td>714.80</td>\n",
       "      <td>693.30</td>\n",
       "      <td>803.20</td>\n",
       "      <td>900.00</td>\n",
       "      <td>770.26</td>\n",
       "      <td>775.00</td>\n",
       "      <td>Engenharia Da Computação</td>\n",
       "      <td>UFPE</td>\n",
       "      <td>Campus Universitário Cidade Do Recife</td>\n",
       "    </tr>\n",
       "    <tr>\n",
       "      <th>1</th>\n",
       "      <td>1996-07-03</td>\n",
       "      <td>26</td>\n",
       "      <td>Feminino</td>\n",
       "      <td>Egressos De Escolas Públicas Da Rede Federal. ...</td>\n",
       "      <td>Salvador</td>\n",
       "      <td>BA</td>\n",
       "      <td>634.80</td>\n",
       "      <td>677.10</td>\n",
       "      <td>672.90</td>\n",
       "      <td>648.90</td>\n",
       "      <td>880.00</td>\n",
       "      <td>677.24</td>\n",
       "      <td>702.74</td>\n",
       "      <td>Engenharia Da Computação</td>\n",
       "      <td>UPE</td>\n",
       "      <td>Escola Politécnica</td>\n",
       "    </tr>\n",
       "    <tr>\n",
       "      <th>2</th>\n",
       "      <td>2004-05-19</td>\n",
       "      <td>18</td>\n",
       "      <td>Masculino</td>\n",
       "      <td>Ampla Concorrência</td>\n",
       "      <td>Teresina</td>\n",
       "      <td>PI</td>\n",
       "      <td>641.50</td>\n",
       "      <td>679.60</td>\n",
       "      <td>682.20</td>\n",
       "      <td>826.30</td>\n",
       "      <td>780.00</td>\n",
       "      <td>721.92</td>\n",
       "      <td>721.92</td>\n",
       "      <td>Engenharia Da Computação</td>\n",
       "      <td>UPE</td>\n",
       "      <td>Escola Politécnica</td>\n",
       "    </tr>\n",
       "    <tr>\n",
       "      <th>3</th>\n",
       "      <td>2002-01-12</td>\n",
       "      <td>20</td>\n",
       "      <td>Feminino</td>\n",
       "      <td>Ampla Concorrência</td>\n",
       "      <td>Teresina</td>\n",
       "      <td>PI</td>\n",
       "      <td>697.40</td>\n",
       "      <td>667.50</td>\n",
       "      <td>704.10</td>\n",
       "      <td>823.80</td>\n",
       "      <td>960.00</td>\n",
       "      <td>770.26</td>\n",
       "      <td>798.83</td>\n",
       "      <td>Engenharia Da Computação</td>\n",
       "      <td>UFPE</td>\n",
       "      <td>Campus Universitário Cidade Do Recife</td>\n",
       "    </tr>\n",
       "    <tr>\n",
       "      <th>4</th>\n",
       "      <td>1999-01-09</td>\n",
       "      <td>23</td>\n",
       "      <td>Masculino</td>\n",
       "      <td>Ampla Concorrência</td>\n",
       "      <td>Teresina</td>\n",
       "      <td>PI</td>\n",
       "      <td>630.50</td>\n",
       "      <td>651.60</td>\n",
       "      <td>677.60</td>\n",
       "      <td>797.20</td>\n",
       "      <td>940.00</td>\n",
       "      <td>770.26</td>\n",
       "      <td>770.61</td>\n",
       "      <td>Engenharia Da Computação</td>\n",
       "      <td>UFPE</td>\n",
       "      <td>Campus Universitário Cidade Do Recife</td>\n",
       "    </tr>\n",
       "  </tbody>\n",
       "</table>\n",
       "</div>"
      ],
      "text/plain": [
       "  data_nascimento  idade       sexo  \\\n",
       "0      2003-02-07     19  Masculino   \n",
       "1      1996-07-03     26   Feminino   \n",
       "2      2004-05-19     18  Masculino   \n",
       "3      2002-01-12     20   Feminino   \n",
       "4      1999-01-09     23  Masculino   \n",
       "\n",
       "                             modalidade_concorrencia municipio_candidato  \\\n",
       "0                                 Ampla Concorrência               Belém   \n",
       "1  Egressos De Escolas Públicas Da Rede Federal. ...            Salvador   \n",
       "2                                 Ampla Concorrência            Teresina   \n",
       "3                                 Ampla Concorrência            Teresina   \n",
       "4                                 Ampla Concorrência            Teresina   \n",
       "\n",
       "  uf_candidato  nota_linguagens  nota_ciencias_humanas  \\\n",
       "0           PA           635.80                 714.80   \n",
       "1           BA           634.80                 677.10   \n",
       "2           PI           641.50                 679.60   \n",
       "3           PI           697.40                 667.50   \n",
       "4           PI           630.50                 651.60   \n",
       "\n",
       "   nota_ciencias_natureza  nota_matematica  nota_redacao  nota_corte   nota  \\\n",
       "0                  693.30           803.20        900.00      770.26 775.00   \n",
       "1                  672.90           648.90        880.00      677.24 702.74   \n",
       "2                  682.20           826.30        780.00      721.92 721.92   \n",
       "3                  704.10           823.80        960.00      770.26 798.83   \n",
       "4                  677.60           797.20        940.00      770.26 770.61   \n",
       "\n",
       "                 nome_curso universidade  \\\n",
       "0  Engenharia Da Computação         UFPE   \n",
       "1  Engenharia Da Computação          UPE   \n",
       "2  Engenharia Da Computação          UPE   \n",
       "3  Engenharia Da Computação         UFPE   \n",
       "4  Engenharia Da Computação         UFPE   \n",
       "\n",
       "                                  campus  \n",
       "0  Campus Universitário Cidade Do Recife  \n",
       "1                     Escola Politécnica  \n",
       "2                     Escola Politécnica  \n",
       "3  Campus Universitário Cidade Do Recife  \n",
       "4  Campus Universitário Cidade Do Recife  "
      ]
     },
     "execution_count": 89,
     "metadata": {},
     "output_type": "execute_result"
    }
   ],
   "source": [
    "df.head()"
   ]
  },
  {
   "cell_type": "markdown",
   "id": "023cd303",
   "metadata": {},
   "source": [
    "  ### 6 - Exportação do Conjunto de Dados Limpo:\n",
    "Após a limpeza, o DataFrame final foi salvo em um arquivo CSV chamado **`'dataframe_sisu_limpo.csv'`**, pronto para as etapas de análise exploratória e estatística."
   ]
  },
  {
   "cell_type": "code",
   "execution_count": 90,
   "id": "e1c2649d",
   "metadata": {},
   "outputs": [],
   "source": [
    "# Salvar o DataFrame limpo em um arquivo CSV\n",
    "df.to_csv('dataframe_sisu_limpo.csv', index=False)"
   ]
  },
  {
   "cell_type": "code",
   "execution_count": null,
   "id": "da92f618",
   "metadata": {},
   "outputs": [],
   "source": []
  }
 ],
 "metadata": {
  "kernelspec": {
   "display_name": "Python 3 (ipykernel)",
   "language": "python",
   "name": "python3"
  },
  "language_info": {
   "codemirror_mode": {
    "name": "ipython",
    "version": 3
   },
   "file_extension": ".py",
   "mimetype": "text/x-python",
   "name": "python",
   "nbconvert_exporter": "python",
   "pygments_lexer": "ipython3",
   "version": "3.9.13"
  }
 },
 "nbformat": 4,
 "nbformat_minor": 5
}
