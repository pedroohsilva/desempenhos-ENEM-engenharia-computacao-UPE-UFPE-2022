{
 "cells": [
  {
   "cell_type": "markdown",
   "id": "56f7e9f5",
   "metadata": {},
   "source": [
    "# Etapa 2 - Análise Exploratória de Dados e Formulação de Hipóteses"
   ]
  },
  {
   "cell_type": "markdown",
   "id": "bc08470f",
   "metadata": {},
   "source": [
    "### Descrição do Conjunto de Dados\n",
    "\n",
    "O conjunto de dados utilizado nesta análise contém informações detalhadas sobre os candidatos aprovados em um processo seletivo do SISU (Sistema de Seleção Unificada). Ele abrange 418 registros, cada um representando um candidato, com as seguintes variáveis:\n",
    "\n",
    "1. **universidade** \n",
    "(*object*): Nome da universidade para a qual o candidato foi aprovado.  \n",
    "2. **campus** \n",
    "(*object*): Identificação do campus associado à universidade.  \n",
    "3. **nota_linguagens** (*float64*): Nota obtida na prova de Linguagens, Códigos e suas Tecnologias.  \n",
    "4. **nota_ciencias_humanas** (*float64*): Nota obtida na prova de Ciências Humanas e suas Tecnologias.  \n",
    "5. **nota_ciencias_natureza** (*float64*): Nota obtida na prova de Ciências da Natureza e suas Tecnologias.  \n",
    "6. **nota_matematica** (*float64*): Nota obtida na prova de Matemática e suas Tecnologias.  \n",
    "7. **nota_redacao** (*float64*): Nota obtida na redação.  \n",
    "8. **nota_final** (*float64*): Média final do candidato, considerando os pesos das notas conforme os critérios do SISU.  \n",
    "9. **sexo** (*object*): Gênero do candidato (masculino ou feminino).  \n",
    "10. **data_nascimento** (*object*): Data de nascimento do candidato.  \n",
    "11. **uf_candidato** (*object*): Unidade federativa de residência do candidato.  \n",
    "12. **modalidade_concorrencia** (*object*): Categoria de concorrência na qual o candidato participou (ex.: ampla concorrência, cotas). \n",
    "\n",
    "### Observação importante:\n",
    "Embora a análise exploratória e estatística atual utilize principalmente as colunas **`'universidade'`** e **`'nota_final'`**, é importante ressaltar o potencial de exploração dos demais dados do dataset em futuras versões do projeto. Informações como as notas específicas por área do conhecimento, o perfil demográfico dos candidatos (sexo, UF de origem, data de nascimento) e as modalidades de concorrência oferecem oportunidades para análises mais amplas e aprofundadas. Esses dados poderão ser utilizados para investigar padrões de desempenho por região, disparidades entre categorias de concorrência e outras questões relacionadas à educação superior no Brasil. \n",
    "\n",
    "**Assim, este dataset não apenas atende ao objetivo inicial, mas também proporciona uma base rica para extensões analíticas no futuro.**"
   ]
  },
  {
   "cell_type": "markdown",
   "id": "433dc06a",
   "metadata": {},
   "source": [
    "### 1 - Importação de Dados:\n",
    "Comecei importando as bibliotecas necessárias, como Pandas e Datetime, e configurei as opções de exibição do pandas para facilitar a visualização dos dados. Em seguida, carreguei o arquivo inicial, criando o DataFrame com os registros originais."
   ]
  },
  {
   "cell_type": "code",
   "execution_count": 1,
   "id": "4cd104ed",
   "metadata": {},
   "outputs": [],
   "source": [
    "# Importação da bibliteca Pandas para manipulação de dados\n",
    "import pandas as pd"
   ]
  },
  {
   "cell_type": "code",
   "execution_count": 2,
   "id": "acb98d75",
   "metadata": {},
   "outputs": [],
   "source": [
    "# Formatando saída de dados\n",
    "pd.set_option('display.max_columns', None)\n",
    "pd.set_option('display.max_rows', None)\n",
    "pd.options.display.float_format = '{:.2f}'.format"
   ]
  },
  {
   "cell_type": "code",
   "execution_count": 3,
   "id": "82c34f66",
   "metadata": {},
   "outputs": [],
   "source": [
    "# Importação de dados\n",
    "df = pd.read_csv(\"dataframe_sisu_limpo.csv\")"
   ]
  },
  {
   "cell_type": "markdown",
   "id": "ef2d4773",
   "metadata": {},
   "source": [
    "### 2 - Análise Descritiva dos Dados:\n",
    "Esta fase de análise representa uma continuidade aprimorada da etapa anterior de limpeza de dados, na qual foram realizados os ajustes necessários para assegurar a qualidade do conjunto de dados. Com isso, quaisquer tratamentos adicionais tornam-se desnecessários nesta etapa, permitindo que o foco seja direcionado exclusivamente à análise descritiva dos dados."
   ]
  },
  {
   "cell_type": "markdown",
   "id": "c1fc4ea5",
   "metadata": {},
   "source": [
    "### 2.1 - Seleção de Variáveis para a Análise Descritiva:\n",
    "Para a primeira versão da análise descritiva, foram selecionadas apenas duas variáveis: **`'nota'`** dos candidatos e **`'universidade'`**. Essa escolha foi feita com o objetivo de manter o foco na comparação de desempenho entre as instituições, que é a essência da primeira pergunta do projeto.\n",
    "\n",
    "\n",
    "Essas variáveis são suficientes para responder à questão inicial, pois permitem calcular e interpretar estatísticas descritivas, como média, mediana, e dispersão das notas, separadas por universidade. Essa abordagem inicial facilita uma compreensão clara e direta da diferença no desempenho acadêmico entre as instituições, sem adicionar complexidade desnecessária à análise nesta etapa."
   ]
  },
  {
   "cell_type": "code",
   "execution_count": 17,
   "id": "176d8519",
   "metadata": {
    "scrolled": true
   },
   "outputs": [],
   "source": [
    "# Criando o dataframe\n",
    "df = df[['nota', 'universidade']]"
   ]
  },
  {
   "cell_type": "code",
   "execution_count": 21,
   "id": "66026161",
   "metadata": {
    "scrolled": true
   },
   "outputs": [
    {
     "data": {
      "text/html": [
       "<div>\n",
       "<style scoped>\n",
       "    .dataframe tbody tr th:only-of-type {\n",
       "        vertical-align: middle;\n",
       "    }\n",
       "\n",
       "    .dataframe tbody tr th {\n",
       "        vertical-align: top;\n",
       "    }\n",
       "\n",
       "    .dataframe thead th {\n",
       "        text-align: right;\n",
       "    }\n",
       "</style>\n",
       "<table border=\"1\" class=\"dataframe\">\n",
       "  <thead>\n",
       "    <tr style=\"text-align: right;\">\n",
       "      <th></th>\n",
       "      <th>nota</th>\n",
       "      <th>universidade</th>\n",
       "    </tr>\n",
       "  </thead>\n",
       "  <tbody>\n",
       "    <tr>\n",
       "      <th>0</th>\n",
       "      <td>775.00</td>\n",
       "      <td>UFPE</td>\n",
       "    </tr>\n",
       "    <tr>\n",
       "      <th>1</th>\n",
       "      <td>702.74</td>\n",
       "      <td>UPE</td>\n",
       "    </tr>\n",
       "    <tr>\n",
       "      <th>2</th>\n",
       "      <td>721.92</td>\n",
       "      <td>UPE</td>\n",
       "    </tr>\n",
       "    <tr>\n",
       "      <th>3</th>\n",
       "      <td>798.83</td>\n",
       "      <td>UFPE</td>\n",
       "    </tr>\n",
       "    <tr>\n",
       "      <th>4</th>\n",
       "      <td>770.61</td>\n",
       "      <td>UFPE</td>\n",
       "    </tr>\n",
       "  </tbody>\n",
       "</table>\n",
       "</div>"
      ],
      "text/plain": [
       "    nota universidade\n",
       "0 775.00         UFPE\n",
       "1 702.74          UPE\n",
       "2 721.92          UPE\n",
       "3 798.83         UFPE\n",
       "4 770.61         UFPE"
      ]
     },
     "execution_count": 21,
     "metadata": {},
     "output_type": "execute_result"
    }
   ],
   "source": [
    "# Pré-visualização do dataframe\n",
    "df.head()"
   ]
  },
  {
   "cell_type": "markdown",
   "id": "da550848",
   "metadata": {},
   "source": [
    "### 2.2 - Analisando Estatísticas das Notas:\n",
    "\n",
    "Durante a etapa de análise estatística das notas no projeto de análise de dados, com o objetivo de compreender o desempenho acadêmico entre duas universidades presentes no conjunto de dados, foram selecionadas as seguintes medidas descritivas para observação:"
   ]
  },
  {
   "cell_type": "markdown",
   "id": "ced1955f",
   "metadata": {},
   "source": [
    "**Mean (Média):** Para identificar o valor médio das notas dos candidatos em cada universidade."
   ]
  },
  {
   "cell_type": "markdown",
   "id": "c7d30547",
   "metadata": {},
   "source": [
    "**Count (Contagem):** Para determinar a quantidade total de registros de notas disponíveis em cada universidade."
   ]
  },
  {
   "cell_type": "markdown",
   "id": "738ee29f",
   "metadata": {},
   "source": [
    "**Std (Desvio Padrão):** Para medir a dispersão das notas em relação à média, avaliando a variabilidade nos desempenhos."
   ]
  },
  {
   "cell_type": "markdown",
   "id": "374d3cdd",
   "metadata": {},
   "source": [
    "**Min (Valor Mínimo):** Para identificar a menor nota registrada em cada universidade."
   ]
  },
  {
   "cell_type": "markdown",
   "id": "debd0e8b",
   "metadata": {},
   "source": [
    "**Max (Valor Máximo):** Para registrar a maior nota alcançada entre os candidatos."
   ]
  },
  {
   "cell_type": "markdown",
   "id": "13570f05",
   "metadata": {},
   "source": [
    "Essas medidas oferecem uma visão ampla e detalhada do comportamento das notas, auxiliando na comparação entre as universidades e na fundamentação de análises mais aprofundadas."
   ]
  },
  {
   "cell_type": "markdown",
   "id": "5ef54ee8",
   "metadata": {},
   "source": [
    "#### Estatísticas gerais:\n",
    "Segundo dos dados, o ano de 2022 contou com 138 aprovados no Curso de Engenharia da COmputação em ambas universidades, sendo "
   ]
  },
  {
   "cell_type": "code",
   "execution_count": 18,
   "id": "9dc425cc",
   "metadata": {},
   "outputs": [
    {
     "data": {
      "text/html": [
       "<div>\n",
       "<style scoped>\n",
       "    .dataframe tbody tr th:only-of-type {\n",
       "        vertical-align: middle;\n",
       "    }\n",
       "\n",
       "    .dataframe tbody tr th {\n",
       "        vertical-align: top;\n",
       "    }\n",
       "\n",
       "    .dataframe thead th {\n",
       "        text-align: right;\n",
       "    }\n",
       "</style>\n",
       "<table border=\"1\" class=\"dataframe\">\n",
       "  <thead>\n",
       "    <tr style=\"text-align: right;\">\n",
       "      <th></th>\n",
       "      <th>nota</th>\n",
       "    </tr>\n",
       "  </thead>\n",
       "  <tbody>\n",
       "    <tr>\n",
       "      <th>count</th>\n",
       "      <td>138.00</td>\n",
       "    </tr>\n",
       "    <tr>\n",
       "      <th>mean</th>\n",
       "      <td>739.97</td>\n",
       "    </tr>\n",
       "    <tr>\n",
       "      <th>std</th>\n",
       "      <td>50.07</td>\n",
       "    </tr>\n",
       "    <tr>\n",
       "      <th>min</th>\n",
       "      <td>620.00</td>\n",
       "    </tr>\n",
       "    <tr>\n",
       "      <th>25%</th>\n",
       "      <td>703.87</td>\n",
       "    </tr>\n",
       "    <tr>\n",
       "      <th>50%</th>\n",
       "      <td>743.03</td>\n",
       "    </tr>\n",
       "    <tr>\n",
       "      <th>75%</th>\n",
       "      <td>776.89</td>\n",
       "    </tr>\n",
       "    <tr>\n",
       "      <th>max</th>\n",
       "      <td>844.95</td>\n",
       "    </tr>\n",
       "  </tbody>\n",
       "</table>\n",
       "</div>"
      ],
      "text/plain": [
       "        nota\n",
       "count 138.00\n",
       "mean  739.97\n",
       "std    50.07\n",
       "min   620.00\n",
       "25%   703.87\n",
       "50%   743.03\n",
       "75%   776.89\n",
       "max   844.95"
      ]
     },
     "execution_count": 18,
     "metadata": {},
     "output_type": "execute_result"
    }
   ],
   "source": [
    "# Estatísticas gerais\n",
    "df.describe()"
   ]
  },
  {
   "cell_type": "code",
   "execution_count": 28,
   "id": "44349084",
   "metadata": {},
   "outputs": [
    {
     "data": {
      "text/html": [
       "<div>\n",
       "<style scoped>\n",
       "    .dataframe tbody tr th:only-of-type {\n",
       "        vertical-align: middle;\n",
       "    }\n",
       "\n",
       "    .dataframe tbody tr th {\n",
       "        vertical-align: top;\n",
       "    }\n",
       "\n",
       "    .dataframe thead tr th {\n",
       "        text-align: left;\n",
       "    }\n",
       "\n",
       "    .dataframe thead tr:last-of-type th {\n",
       "        text-align: right;\n",
       "    }\n",
       "</style>\n",
       "<table border=\"1\" class=\"dataframe\">\n",
       "  <thead>\n",
       "    <tr>\n",
       "      <th></th>\n",
       "      <th>nota</th>\n",
       "    </tr>\n",
       "    <tr>\n",
       "      <th></th>\n",
       "      <th>count</th>\n",
       "    </tr>\n",
       "    <tr>\n",
       "      <th>universidade</th>\n",
       "      <th></th>\n",
       "    </tr>\n",
       "  </thead>\n",
       "  <tbody>\n",
       "    <tr>\n",
       "      <th>UFPE</th>\n",
       "      <td>101</td>\n",
       "    </tr>\n",
       "    <tr>\n",
       "      <th>UPE</th>\n",
       "      <td>37</td>\n",
       "    </tr>\n",
       "  </tbody>\n",
       "</table>\n",
       "</div>"
      ],
      "text/plain": [
       "              nota\n",
       "             count\n",
       "universidade      \n",
       "UFPE           101\n",
       "UPE             37"
      ]
     },
     "execution_count": 28,
     "metadata": {},
     "output_type": "execute_result"
    }
   ],
   "source": [
    "# Contagem de candidatos aprovados por universidades\n",
    "df[['nota', 'universidade']].groupby([ 'universidade']).agg(['count'])"
   ]
  },
  {
   "cell_type": "markdown",
   "id": "361ce00b",
   "metadata": {},
   "source": [
    "#### Nota por Universidade:\n",
    "A análise das estatísticas de notas entre a Universidade Federal de Pernambuco (UFPE) e a Universidade Estadual de Pernambuco (UPE) revela uma diferença nas médias de desempenho. Observa-se que a UFPE apresenta uma média de notas superior à da UPE, destacando-se como a instituição com os melhores resultados entre as duas."
   ]
  },
  {
   "cell_type": "markdown",
   "id": "b655cac0",
   "metadata": {},
   "source": [
    "_**Observação:** Apesar da diferença evidente, é fundamental realizar validações estatísticas para interpretá-la de forma robusta e confiável._"
   ]
  },
  {
   "cell_type": "code",
   "execution_count": 9,
   "id": "324e20c5",
   "metadata": {
    "scrolled": false
   },
   "outputs": [
    {
     "data": {
      "text/html": [
       "<div>\n",
       "<style scoped>\n",
       "    .dataframe tbody tr th:only-of-type {\n",
       "        vertical-align: middle;\n",
       "    }\n",
       "\n",
       "    .dataframe tbody tr th {\n",
       "        vertical-align: top;\n",
       "    }\n",
       "\n",
       "    .dataframe thead tr th {\n",
       "        text-align: left;\n",
       "    }\n",
       "\n",
       "    .dataframe thead tr:last-of-type th {\n",
       "        text-align: right;\n",
       "    }\n",
       "</style>\n",
       "<table border=\"1\" class=\"dataframe\">\n",
       "  <thead>\n",
       "    <tr>\n",
       "      <th></th>\n",
       "      <th></th>\n",
       "      <th colspan=\"6\" halign=\"left\">nota</th>\n",
       "    </tr>\n",
       "    <tr>\n",
       "      <th></th>\n",
       "      <th></th>\n",
       "      <th>mean</th>\n",
       "      <th>median</th>\n",
       "      <th>count</th>\n",
       "      <th>std</th>\n",
       "      <th>min</th>\n",
       "      <th>max</th>\n",
       "    </tr>\n",
       "    <tr>\n",
       "      <th>nome_curso</th>\n",
       "      <th>universidade</th>\n",
       "      <th></th>\n",
       "      <th></th>\n",
       "      <th></th>\n",
       "      <th></th>\n",
       "      <th></th>\n",
       "      <th></th>\n",
       "    </tr>\n",
       "  </thead>\n",
       "  <tbody>\n",
       "    <tr>\n",
       "      <th rowspan=\"2\" valign=\"top\">Engenharia Da Computação</th>\n",
       "      <th>UFPE</th>\n",
       "      <td>749.24</td>\n",
       "      <td>762.86</td>\n",
       "      <td>101</td>\n",
       "      <td>53.45</td>\n",
       "      <td>620.00</td>\n",
       "      <td>844.95</td>\n",
       "    </tr>\n",
       "    <tr>\n",
       "      <th>UPE</th>\n",
       "      <td>714.68</td>\n",
       "      <td>723.76</td>\n",
       "      <td>37</td>\n",
       "      <td>26.55</td>\n",
       "      <td>641.12</td>\n",
       "      <td>750.30</td>\n",
       "    </tr>\n",
       "  </tbody>\n",
       "</table>\n",
       "</div>"
      ],
      "text/plain": [
       "                                        nota                                 \n",
       "                                        mean median count   std    min    max\n",
       "nome_curso               universidade                                        \n",
       "Engenharia Da Computação UFPE         749.24 762.86   101 53.45 620.00 844.95\n",
       "                         UPE          714.68 723.76    37 26.55 641.12 750.30"
      ]
     },
     "execution_count": 9,
     "metadata": {},
     "output_type": "execute_result"
    }
   ],
   "source": [
    "# Estatísticas de notas por universidades\n",
    "df[['nota', 'universidade', 'nome_curso']].groupby(['nome_curso', 'universidade']).agg(['mean', 'median', 'count', 'std', 'min', 'max'])"
   ]
  },
  {
   "cell_type": "code",
   "execution_count": null,
   "id": "a2ec40ad",
   "metadata": {},
   "outputs": [],
   "source": []
  }
 ],
 "metadata": {
  "kernelspec": {
   "display_name": "Python 3 (ipykernel)",
   "language": "python",
   "name": "python3"
  },
  "language_info": {
   "codemirror_mode": {
    "name": "ipython",
    "version": 3
   },
   "file_extension": ".py",
   "mimetype": "text/x-python",
   "name": "python",
   "nbconvert_exporter": "python",
   "pygments_lexer": "ipython3",
   "version": "3.7.17"
  }
 },
 "nbformat": 4,
 "nbformat_minor": 5
}
