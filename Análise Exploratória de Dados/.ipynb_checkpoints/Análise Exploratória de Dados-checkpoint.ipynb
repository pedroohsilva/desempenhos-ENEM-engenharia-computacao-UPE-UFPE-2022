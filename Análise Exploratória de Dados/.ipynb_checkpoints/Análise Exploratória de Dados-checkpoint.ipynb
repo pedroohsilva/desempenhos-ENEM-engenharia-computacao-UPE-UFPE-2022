{
 "cells": [
  {
   "cell_type": "markdown",
   "id": "56f7e9f5",
   "metadata": {},
   "source": [
    "# Análise Exploratória de Dados e Formulação de Hipóteses"
   ]
  },
  {
   "cell_type": "markdown",
   "id": "bc08470f",
   "metadata": {},
   "source": [
    "### Descrição do Conjunto de Dados\n",
    "\n",
    "O conjunto de dados utilizado nesta análise contém informações detalhadas sobre os candidatos aprovados em um processo seletivo do SISU (Sistema de Seleção Unificada). Ele abrange 418 registros, cada um representando um candidato, com as seguintes variáveis:\n",
    "\n",
    "1. **universidade** \n",
    "(*object*): Nome da universidade para a qual o candidato foi aprovado.   \n",
    "2. **nota_linguagens** (*float64*): Nota obtida na prova de Linguagens, Códigos e suas Tecnologias.  \n",
    "3. **nota_ciencias_humanas** (*float64*): Nota obtida na prova de Ciências Humanas e suas Tecnologias.  \n",
    "4. **nota_ciencias_natureza** (*float64*): Nota obtida na prova de Ciências da Natureza e suas Tecnologias.  \n",
    "5. **nota_matematica** (*float64*): Nota obtida na prova de Matemática e suas Tecnologias.  \n",
    "6. **nota_redacao** (*float64*): Nota obtida na redação.  \n",
    "7. **nota_final** (*float64*): Média final do candidato, considerando os pesos das notas conforme os critérios do SISU.  \n",
    "8. **sexo** (*object*): Gênero do candidato (masculino ou feminino).  \n",
    "9. **data_nascimento** (*object*): Data de nascimento do candidato.  \n",
    "10. **uf_candidato** (*object*): Unidade federativa de residência do candidato.  \n",
    "11. **modalidade_concorrencia** (*object*): Categoria de concorrência na qual o candidato participou (ex.: ampla concorrência, cotas).\n",
    "\n",
    "### Observação importante:\n",
    "A análise exploratória atual foca em observar o desempenho dos candidatos aprovados, considerando observar principalmente as nota por universidade, apesar disso, **é importante ressaltar o potencial de exploração dos demais dados do dataset em futuras versões do projeto**. Informações como as notas específicas por área do conhecimento, o perfil demográfico dos candidatos (sexo, Estado e município de origem, idade) e as modalidades de concorrência oferecem oportunidades para análises mais amplas e aprofundadas. Esses dados poderão ser utilizados para investigar padrões de desempenho por região, disparidades entre categorias de concorrência e outras questões relacionadas à educação superior no Brasil. \n",
    "\n",
    "Assim, este dataset não apenas atende ao objetivo inicial, mas também proporciona uma base rica para extensões analíticas no futuro."
   ]
  },
  {
   "cell_type": "markdown",
   "id": "433dc06a",
   "metadata": {},
   "source": [
    "## 1 - Importação de Dados:\n",
    "Comecei importando as bibliotecas necessárias, como Pandas e Datetime, e configurei as opções de exibição do pandas para facilitar a visualização dos dados. Em seguida, carreguei o arquivo inicial, criando o DataFrame com os registros originais."
   ]
  },
  {
   "cell_type": "code",
   "execution_count": 37,
   "id": "4cd104ed",
   "metadata": {},
   "outputs": [],
   "source": [
    "# Importação da biblioteca Pandas para manipulação de dados\n",
    "import pandas as pd\n",
    "\n",
    "# Importação da biblioteca Matplotlib para criação de gráficos e visualizações básicas\n",
    "import matplotlib.pyplot as plt\n",
    "\n",
    "# Importação da biblioteca Seaborn para visualizações estatísticas mais avançadas e estilizadas\n",
    "import seaborn as sns"
   ]
  },
  {
   "cell_type": "code",
   "execution_count": 16,
   "id": "acb98d75",
   "metadata": {},
   "outputs": [],
   "source": [
    "# Formatando saída de dados\n",
    "pd.set_option('display.max_columns', None)\n",
    "pd.set_option('display.max_rows', None)\n",
    "pd.options.display.float_format = '{:.2f}'.format"
   ]
  },
  {
   "cell_type": "code",
   "execution_count": 17,
   "id": "82c34f66",
   "metadata": {},
   "outputs": [],
   "source": [
    "# Importação de dados\n",
    "df = pd.read_csv(\"dataframe_sisu_limpo.csv\")"
   ]
  },
  {
   "cell_type": "code",
   "execution_count": 18,
   "id": "e227a56f",
   "metadata": {},
   "outputs": [
    {
     "data": {
      "text/html": [
       "<div>\n",
       "<style scoped>\n",
       "    .dataframe tbody tr th:only-of-type {\n",
       "        vertical-align: middle;\n",
       "    }\n",
       "\n",
       "    .dataframe tbody tr th {\n",
       "        vertical-align: top;\n",
       "    }\n",
       "\n",
       "    .dataframe thead th {\n",
       "        text-align: right;\n",
       "    }\n",
       "</style>\n",
       "<table border=\"1\" class=\"dataframe\">\n",
       "  <thead>\n",
       "    <tr style=\"text-align: right;\">\n",
       "      <th></th>\n",
       "      <th>universidade</th>\n",
       "      <th>nota_linguagens</th>\n",
       "      <th>nota_ciencias_humanas</th>\n",
       "      <th>nota_ciencias_natureza</th>\n",
       "      <th>nota_matematica</th>\n",
       "      <th>nota_redacao</th>\n",
       "      <th>nota_final</th>\n",
       "      <th>sexo</th>\n",
       "      <th>data_nascimento</th>\n",
       "      <th>idade</th>\n",
       "      <th>uf_candidato</th>\n",
       "      <th>municipio_candidato</th>\n",
       "      <th>modalidade_concorrencia</th>\n",
       "    </tr>\n",
       "  </thead>\n",
       "  <tbody>\n",
       "    <tr>\n",
       "      <th>0</th>\n",
       "      <td>UFPE</td>\n",
       "      <td>588.50</td>\n",
       "      <td>648.60</td>\n",
       "      <td>547.10</td>\n",
       "      <td>651.00</td>\n",
       "      <td>820.00</td>\n",
       "      <td>657.53</td>\n",
       "      <td>Masculino</td>\n",
       "      <td>2004-12-26</td>\n",
       "      <td>18</td>\n",
       "      <td>TO</td>\n",
       "      <td>Ananás</td>\n",
       "      <td>Candidatos Autodeclarados Pretos. Pardos Ou In...</td>\n",
       "    </tr>\n",
       "    <tr>\n",
       "      <th>1</th>\n",
       "      <td>UPE</td>\n",
       "      <td>560.50</td>\n",
       "      <td>551.30</td>\n",
       "      <td>476.50</td>\n",
       "      <td>410.10</td>\n",
       "      <td>580.00</td>\n",
       "      <td>515.68</td>\n",
       "      <td>Feminino</td>\n",
       "      <td>2001-06-01</td>\n",
       "      <td>21</td>\n",
       "      <td>SP</td>\n",
       "      <td>São Paulo</td>\n",
       "      <td>Egressos De Escolas Públicas Da Rede Federal. ...</td>\n",
       "    </tr>\n",
       "    <tr>\n",
       "      <th>2</th>\n",
       "      <td>UPE</td>\n",
       "      <td>496.60</td>\n",
       "      <td>355.70</td>\n",
       "      <td>573.40</td>\n",
       "      <td>745.70</td>\n",
       "      <td>720.00</td>\n",
       "      <td>578.28</td>\n",
       "      <td>Masculino</td>\n",
       "      <td>2002-10-19</td>\n",
       "      <td>20</td>\n",
       "      <td>SP</td>\n",
       "      <td>Santo André</td>\n",
       "      <td>Ampla Concorrência</td>\n",
       "    </tr>\n",
       "    <tr>\n",
       "      <th>3</th>\n",
       "      <td>UFPE</td>\n",
       "      <td>506.90</td>\n",
       "      <td>579.50</td>\n",
       "      <td>512.60</td>\n",
       "      <td>623.20</td>\n",
       "      <td>580.00</td>\n",
       "      <td>576.44</td>\n",
       "      <td>Masculino</td>\n",
       "      <td>2003-01-21</td>\n",
       "      <td>19</td>\n",
       "      <td>SP</td>\n",
       "      <td>Campinas</td>\n",
       "      <td>Candidatos Com Renda Familiar Bruta Per Capita...</td>\n",
       "    </tr>\n",
       "    <tr>\n",
       "      <th>4</th>\n",
       "      <td>UFPE</td>\n",
       "      <td>592.90</td>\n",
       "      <td>606.60</td>\n",
       "      <td>553.40</td>\n",
       "      <td>689.70</td>\n",
       "      <td>560.00</td>\n",
       "      <td>618.51</td>\n",
       "      <td>Masculino</td>\n",
       "      <td>1997-08-05</td>\n",
       "      <td>25</td>\n",
       "      <td>MG</td>\n",
       "      <td>Ipatinga</td>\n",
       "      <td>Ampla Concorrência</td>\n",
       "    </tr>\n",
       "  </tbody>\n",
       "</table>\n",
       "</div>"
      ],
      "text/plain": [
       "  universidade  nota_linguagens  nota_ciencias_humanas  \\\n",
       "0         UFPE           588.50                 648.60   \n",
       "1          UPE           560.50                 551.30   \n",
       "2          UPE           496.60                 355.70   \n",
       "3         UFPE           506.90                 579.50   \n",
       "4         UFPE           592.90                 606.60   \n",
       "\n",
       "   nota_ciencias_natureza  nota_matematica  nota_redacao  nota_final  \\\n",
       "0                  547.10           651.00        820.00      657.53   \n",
       "1                  476.50           410.10        580.00      515.68   \n",
       "2                  573.40           745.70        720.00      578.28   \n",
       "3                  512.60           623.20        580.00      576.44   \n",
       "4                  553.40           689.70        560.00      618.51   \n",
       "\n",
       "        sexo data_nascimento  idade uf_candidato municipio_candidato  \\\n",
       "0  Masculino      2004-12-26     18           TO              Ananás   \n",
       "1   Feminino      2001-06-01     21           SP           São Paulo   \n",
       "2  Masculino      2002-10-19     20           SP         Santo André   \n",
       "3  Masculino      2003-01-21     19           SP            Campinas   \n",
       "4  Masculino      1997-08-05     25           MG            Ipatinga   \n",
       "\n",
       "                             modalidade_concorrencia  \n",
       "0  Candidatos Autodeclarados Pretos. Pardos Ou In...  \n",
       "1  Egressos De Escolas Públicas Da Rede Federal. ...  \n",
       "2                                 Ampla Concorrência  \n",
       "3  Candidatos Com Renda Familiar Bruta Per Capita...  \n",
       "4                                 Ampla Concorrência  "
      ]
     },
     "execution_count": 18,
     "metadata": {},
     "output_type": "execute_result"
    }
   ],
   "source": [
    "# Visualizando o dataframe\n",
    "df.head()"
   ]
  },
  {
   "cell_type": "markdown",
   "id": "ef2d4773",
   "metadata": {},
   "source": [
    "## 2 - Análise Descritiva do Conjunto de Dados:\n",
    "Esta fase de análise representa uma continuidade aprimorada da etapa anterior de limpeza de dados, na qual foram realizados os ajustes necessários para assegurar a qualidade do conjunto de dados. Com isso, quaisquer tratamentos adicionais tornam-se desnecessários nesta etapa, permitindo que o foco seja direcionado exclusivamente à análise descritiva dos dados."
   ]
  },
  {
   "cell_type": "markdown",
   "id": "5ef54ee8",
   "metadata": {},
   "source": [
    "### 2.1 - Estatísticas Gerais:\n",
    "---\n",
    "**Processo Seletivo:**\n",
    "- De acordo com os dados do SISU, em 2022, o Curso de Engenharia da Computação registrou 418 aprovados nas duas universidades analisadas, sendo 214 na UFPE e 204 na UPE.\n",
    "---\n",
    "**Informações Demográficas:**\n",
    "- Os valores mínimos e máximos de idades observados foram, respectivamente, 17 e 65 anos, fornecendo uma visão sobre a amplitude dos dados analisados. Apesar disso, média de idade dos candidatos aprovados nas duas universidades varia entre 19 e 20 anos, refletindo o perfil predominante dos participantes.\n",
    "- Dos 418 candidatos aprovados, 342 são homens e 76 são mulheres, evidenciando uma predominância masculina significativa em relação às mulheres entre os aprovados."
   ]
  },
  {
   "cell_type": "code",
   "execution_count": 19,
   "id": "9dc425cc",
   "metadata": {
    "scrolled": true
   },
   "outputs": [
    {
     "data": {
      "text/html": [
       "<div>\n",
       "<style scoped>\n",
       "    .dataframe tbody tr th:only-of-type {\n",
       "        vertical-align: middle;\n",
       "    }\n",
       "\n",
       "    .dataframe tbody tr th {\n",
       "        vertical-align: top;\n",
       "    }\n",
       "\n",
       "    .dataframe thead th {\n",
       "        text-align: right;\n",
       "    }\n",
       "</style>\n",
       "<table border=\"1\" class=\"dataframe\">\n",
       "  <thead>\n",
       "    <tr style=\"text-align: right;\">\n",
       "      <th></th>\n",
       "      <th>nota_linguagens</th>\n",
       "      <th>nota_ciencias_humanas</th>\n",
       "      <th>nota_ciencias_natureza</th>\n",
       "      <th>nota_matematica</th>\n",
       "      <th>nota_redacao</th>\n",
       "      <th>nota_final</th>\n",
       "      <th>idade</th>\n",
       "    </tr>\n",
       "  </thead>\n",
       "  <tbody>\n",
       "    <tr>\n",
       "      <th>count</th>\n",
       "      <td>418.00</td>\n",
       "      <td>418.00</td>\n",
       "      <td>418.00</td>\n",
       "      <td>418.00</td>\n",
       "      <td>418.00</td>\n",
       "      <td>418.00</td>\n",
       "      <td>418.00</td>\n",
       "    </tr>\n",
       "    <tr>\n",
       "      <th>mean</th>\n",
       "      <td>569.84</td>\n",
       "      <td>602.56</td>\n",
       "      <td>584.18</td>\n",
       "      <td>689.87</td>\n",
       "      <td>756.03</td>\n",
       "      <td>654.67</td>\n",
       "      <td>20.02</td>\n",
       "    </tr>\n",
       "    <tr>\n",
       "      <th>std</th>\n",
       "      <td>67.62</td>\n",
       "      <td>88.60</td>\n",
       "      <td>89.35</td>\n",
       "      <td>127.21</td>\n",
       "      <td>143.06</td>\n",
       "      <td>97.19</td>\n",
       "      <td>4.25</td>\n",
       "    </tr>\n",
       "    <tr>\n",
       "      <th>min</th>\n",
       "      <td>374.00</td>\n",
       "      <td>354.50</td>\n",
       "      <td>358.00</td>\n",
       "      <td>374.60</td>\n",
       "      <td>400.00</td>\n",
       "      <td>426.26</td>\n",
       "      <td>17.00</td>\n",
       "    </tr>\n",
       "    <tr>\n",
       "      <th>25%</th>\n",
       "      <td>525.65</td>\n",
       "      <td>548.80</td>\n",
       "      <td>528.23</td>\n",
       "      <td>612.60</td>\n",
       "      <td>640.00</td>\n",
       "      <td>573.83</td>\n",
       "      <td>18.00</td>\n",
       "    </tr>\n",
       "    <tr>\n",
       "      <th>50%</th>\n",
       "      <td>579.80</td>\n",
       "      <td>615.50</td>\n",
       "      <td>588.15</td>\n",
       "      <td>699.25</td>\n",
       "      <td>780.00</td>\n",
       "      <td>661.00</td>\n",
       "      <td>19.00</td>\n",
       "    </tr>\n",
       "    <tr>\n",
       "      <th>75%</th>\n",
       "      <td>621.85</td>\n",
       "      <td>667.10</td>\n",
       "      <td>657.50</td>\n",
       "      <td>788.35</td>\n",
       "      <td>880.00</td>\n",
       "      <td>732.48</td>\n",
       "      <td>20.00</td>\n",
       "    </tr>\n",
       "    <tr>\n",
       "      <th>max</th>\n",
       "      <td>725.40</td>\n",
       "      <td>827.00</td>\n",
       "      <td>765.80</td>\n",
       "      <td>953.10</td>\n",
       "      <td>980.00</td>\n",
       "      <td>844.95</td>\n",
       "      <td>65.00</td>\n",
       "    </tr>\n",
       "  </tbody>\n",
       "</table>\n",
       "</div>"
      ],
      "text/plain": [
       "       nota_linguagens  nota_ciencias_humanas  nota_ciencias_natureza  \\\n",
       "count           418.00                 418.00                  418.00   \n",
       "mean            569.84                 602.56                  584.18   \n",
       "std              67.62                  88.60                   89.35   \n",
       "min             374.00                 354.50                  358.00   \n",
       "25%             525.65                 548.80                  528.23   \n",
       "50%             579.80                 615.50                  588.15   \n",
       "75%             621.85                 667.10                  657.50   \n",
       "max             725.40                 827.00                  765.80   \n",
       "\n",
       "       nota_matematica  nota_redacao  nota_final  idade  \n",
       "count           418.00        418.00      418.00 418.00  \n",
       "mean            689.87        756.03      654.67  20.02  \n",
       "std             127.21        143.06       97.19   4.25  \n",
       "min             374.60        400.00      426.26  17.00  \n",
       "25%             612.60        640.00      573.83  18.00  \n",
       "50%             699.25        780.00      661.00  19.00  \n",
       "75%             788.35        880.00      732.48  20.00  \n",
       "max             953.10        980.00      844.95  65.00  "
      ]
     },
     "execution_count": 19,
     "metadata": {},
     "output_type": "execute_result"
    }
   ],
   "source": [
    "# Estatísticas gerais das variáveis quantitativas\n",
    "df.describe()"
   ]
  },
  {
   "cell_type": "code",
   "execution_count": 65,
   "id": "01db2af2",
   "metadata": {},
   "outputs": [
    {
     "data": {
      "text/html": [
       "<div>\n",
       "<style scoped>\n",
       "    .dataframe tbody tr th:only-of-type {\n",
       "        vertical-align: middle;\n",
       "    }\n",
       "\n",
       "    .dataframe tbody tr th {\n",
       "        vertical-align: top;\n",
       "    }\n",
       "\n",
       "    .dataframe thead th {\n",
       "        text-align: right;\n",
       "    }\n",
       "</style>\n",
       "<table border=\"1\" class=\"dataframe\">\n",
       "  <thead>\n",
       "    <tr style=\"text-align: right;\">\n",
       "      <th></th>\n",
       "      <th>nota_final</th>\n",
       "    </tr>\n",
       "    <tr>\n",
       "      <th>universidade</th>\n",
       "      <th></th>\n",
       "    </tr>\n",
       "  </thead>\n",
       "  <tbody>\n",
       "    <tr>\n",
       "      <th>UFPE</th>\n",
       "      <td>214</td>\n",
       "    </tr>\n",
       "    <tr>\n",
       "      <th>UPE</th>\n",
       "      <td>204</td>\n",
       "    </tr>\n",
       "  </tbody>\n",
       "</table>\n",
       "</div>"
      ],
      "text/plain": [
       "              nota_final\n",
       "universidade            \n",
       "UFPE                 214\n",
       "UPE                  204"
      ]
     },
     "execution_count": 65,
     "metadata": {},
     "output_type": "execute_result"
    }
   ],
   "source": [
    "# Contagem de candidatos aprovados por universidades\n",
    "df[['nota_final', 'universidade']].groupby([ 'universidade']).agg(['count'])"
   ]
  },
  {
   "cell_type": "code",
   "execution_count": 68,
   "id": "3e2dcd01",
   "metadata": {},
   "outputs": [
    {
     "data": {
      "text/html": [
       "<div>\n",
       "<style scoped>\n",
       "    .dataframe tbody tr th:only-of-type {\n",
       "        vertical-align: middle;\n",
       "    }\n",
       "\n",
       "    .dataframe tbody tr th {\n",
       "        vertical-align: top;\n",
       "    }\n",
       "\n",
       "    .dataframe thead th {\n",
       "        text-align: right;\n",
       "    }\n",
       "</style>\n",
       "<table border=\"1\" class=\"dataframe\">\n",
       "  <thead>\n",
       "    <tr style=\"text-align: right;\">\n",
       "      <th></th>\n",
       "      <th>sexo</th>\n",
       "      <th>universidade</th>\n",
       "      <th>count</th>\n",
       "    </tr>\n",
       "  </thead>\n",
       "  <tbody>\n",
       "    <tr>\n",
       "      <th>0</th>\n",
       "      <td>Feminino</td>\n",
       "      <td>UFPE</td>\n",
       "      <td>33</td>\n",
       "    </tr>\n",
       "    <tr>\n",
       "      <th>1</th>\n",
       "      <td>Feminino</td>\n",
       "      <td>UPE</td>\n",
       "      <td>43</td>\n",
       "    </tr>\n",
       "    <tr>\n",
       "      <th>2</th>\n",
       "      <td>Masculino</td>\n",
       "      <td>UFPE</td>\n",
       "      <td>181</td>\n",
       "    </tr>\n",
       "    <tr>\n",
       "      <th>3</th>\n",
       "      <td>Masculino</td>\n",
       "      <td>UPE</td>\n",
       "      <td>161</td>\n",
       "    </tr>\n",
       "  </tbody>\n",
       "</table>\n",
       "</div>"
      ],
      "text/plain": [
       "        sexo universidade  count\n",
       "0   Feminino         UFPE     33\n",
       "1   Feminino          UPE     43\n",
       "2  Masculino         UFPE    181\n",
       "3  Masculino          UPE    161"
      ]
     },
     "execution_count": 68,
     "metadata": {},
     "output_type": "execute_result"
    }
   ],
   "source": [
    "# Candidatos aprovados por sexo em cada universidade\n",
    "df.groupby(['sexo', 'universidade']).size().reset_index(name='count')"
   ]
  },
  {
   "cell_type": "code",
   "execution_count": 28,
   "id": "a80c9c16",
   "metadata": {},
   "outputs": [
    {
     "data": {
      "text/html": [
       "<div>\n",
       "<style scoped>\n",
       "    .dataframe tbody tr th:only-of-type {\n",
       "        vertical-align: middle;\n",
       "    }\n",
       "\n",
       "    .dataframe tbody tr th {\n",
       "        vertical-align: top;\n",
       "    }\n",
       "\n",
       "    .dataframe thead tr th {\n",
       "        text-align: left;\n",
       "    }\n",
       "\n",
       "    .dataframe thead tr:last-of-type th {\n",
       "        text-align: right;\n",
       "    }\n",
       "</style>\n",
       "<table border=\"1\" class=\"dataframe\">\n",
       "  <thead>\n",
       "    <tr>\n",
       "      <th></th>\n",
       "      <th colspan=\"2\" halign=\"left\">idade</th>\n",
       "    </tr>\n",
       "    <tr>\n",
       "      <th></th>\n",
       "      <th>mean</th>\n",
       "      <th>median</th>\n",
       "    </tr>\n",
       "    <tr>\n",
       "      <th>universidade</th>\n",
       "      <th></th>\n",
       "      <th></th>\n",
       "    </tr>\n",
       "  </thead>\n",
       "  <tbody>\n",
       "    <tr>\n",
       "      <th>UFPE</th>\n",
       "      <td>19.68</td>\n",
       "      <td>19.00</td>\n",
       "    </tr>\n",
       "    <tr>\n",
       "      <th>UPE</th>\n",
       "      <td>20.37</td>\n",
       "      <td>19.00</td>\n",
       "    </tr>\n",
       "  </tbody>\n",
       "</table>\n",
       "</div>"
      ],
      "text/plain": [
       "             idade       \n",
       "              mean median\n",
       "universidade             \n",
       "UFPE         19.68  19.00\n",
       "UPE          20.37  19.00"
      ]
     },
     "execution_count": 28,
     "metadata": {},
     "output_type": "execute_result"
    }
   ],
   "source": [
    "# Média e mediana da idade dos candidatos aprovados entre as duas universidades\n",
    "df[['idade', 'universidade']].groupby(['universidade']).agg(['mean', 'median'])"
   ]
  },
  {
   "cell_type": "code",
   "execution_count": 69,
   "id": "bbc9a913",
   "metadata": {},
   "outputs": [
    {
     "data": {
      "text/plain": [
       "modalidade_concorrencia\n",
       "Ampla Concorrência                                                                                                                                                                                                                                                                                                     234\n",
       "Egressos De Escolas Públicas Da Rede Federal. Estadual Ou Municipal. Que Cursaram Os Anos Finais Do Ensino Fundamental (6º Ao 9º Anos) E Todo O Ensino Médio (1º Ao 3º Anos). Com Renda Familiar Bruta Per Capita Igual Ou Inferior A 1.5 Salário Mínimo. Devendo Essa Condição Ser Comprovada No Ato Da Matrícula.     41\n",
       "Egressos De Escolas Públicas Da Rede Federal. Estadual Ou Municipal. Que Cursaram Os Anos Finais Do Ensino Fundamental (6º Ao 9º Anos) E Todo O Ensino Médio (1º Ao 3º Anos). Com Qualquer Renda Renda Per Capita Bruta. Devendo Essa Condição Ser Comprovada No Ato Da Matrícula.                                      36\n",
       "Candidatos Autodeclarados Pretos. Pardos Ou Indígenas. Com Renda Familiar Bruta Per Capita Igual Ou Inferior A 1.5 Salário Mínimo E Que Tenham Cursado Integralmente O Ensino Médio Em Escolas Públicas (Lei Nº 12.711/2012).                                                                                           31\n",
       "Candidatos Autodeclarados Pretos. Pardos Ou Indígenas Que. Independentemente Da Renda (Art. 14. Ii. Portaria Normativa Nº 18/2012). Tenham Cursado Integralmente O Ensino Médio Em Escolas Públicas (Lei Nº 12.711/2012).                                                                                               28\n",
       "Candidatos Com Renda Familiar Bruta Per Capita Igual Ou Inferior A 1.5 Salário Mínimo Que Tenham Cursado Integralmente O Ensino Médio Em Escolas Públicas (Lei Nº 12.711/2012).                                                                                                                                         25\n",
       "Candidatos Que. Independentemente Da Renda (Art. 14. Ii. Portaria Normativa Nº 18/2012). Tenham Cursado Integralmente O Ensino Médio Em Escolas Públicas (Lei Nº 12.711/2012).                                                                                                                                          21\n",
       "Candidatos Com Deficiência Autodeclarados Pretos. Pardos Ou Indígenas Que. Independentemente Da Renda (Art. 14. Ii. Portaria Normativa Nº 18/2012). Tenham Cursado Integralmente O Ensino Médio Em Escolas Públicas (Lei Nº 12.711/2012).                                                                                1\n",
       "Candidatos Com Deficiência Que Tenham Renda Familiar Bruta Per Capita Igual Ou Inferior A 1.5 Salário Mínimo E Que Tenham Cursado Integralmente O Ensino Médio Em Escolas Públicas (Lei Nº 12.711/2012).                                                                                                                 1\n",
       "dtype: int64"
      ]
     },
     "execution_count": 69,
     "metadata": {},
     "output_type": "execute_result"
    }
   ],
   "source": [
    "# Frequência da modalidade de concorrência\n",
    "df.groupby(['modalidade_concorrencia']).size().sort_values(ascending=False)"
   ]
  },
  {
   "cell_type": "markdown",
   "id": "da550848",
   "metadata": {},
   "source": [
    "## 3 - Análise de Notas:\n",
    "\n",
    "Durante a etapa de análise estatística das notas no projeto de análise de dados, com o objetivo de compreender o desempenho acadêmico entre duas universidades presentes no conjunto de dados, foram selecionadas as seguintes medidas descritivas para observação:"
   ]
  },
  {
   "cell_type": "markdown",
   "id": "ced1955f",
   "metadata": {},
   "source": [
    "**Mean (Média):** Para identificar o valor médio das notas dos candidatos em cada universidade."
   ]
  },
  {
   "cell_type": "markdown",
   "id": "c7d30547",
   "metadata": {},
   "source": [
    "**Count (Contagem):** Para determinar a quantidade total de registros de notas disponíveis em cada universidade."
   ]
  },
  {
   "cell_type": "markdown",
   "id": "738ee29f",
   "metadata": {},
   "source": [
    "**Std (Desvio Padrão):** Para medir a dispersão das notas em relação à média, avaliando a variabilidade nos desempenhos."
   ]
  },
  {
   "cell_type": "markdown",
   "id": "374d3cdd",
   "metadata": {},
   "source": [
    "**Min (Valor Mínimo):** Para identificar a menor nota registrada em cada universidade."
   ]
  },
  {
   "cell_type": "markdown",
   "id": "debd0e8b",
   "metadata": {},
   "source": [
    "**Max (Valor Máximo):** Para registrar a maior nota alcançada entre os candidatos."
   ]
  },
  {
   "cell_type": "markdown",
   "id": "13570f05",
   "metadata": {},
   "source": [
    "Essas medidas oferecem uma visão ampla e detalhada do comportamento das notas, auxiliando na comparação entre as universidades e na fundamentação de análises mais aprofundadas."
   ]
  },
  {
   "cell_type": "markdown",
   "id": "361ce00b",
   "metadata": {},
   "source": [
    "### 3.1 - Notas por Universidade:\n",
    "A análise das estatísticas de notas entre a Universidade Federal de Pernambuco (UFPE) e a Universidade Estadual de Pernambuco (UPE) revela uma diferença nas médias de desempenho. Observa-se que a UFPE apresenta uma média de notas superior à da UPE, destacando-se como a instituição com os melhores resultados entre as duas."
   ]
  },
  {
   "cell_type": "code",
   "execution_count": 21,
   "id": "324e20c5",
   "metadata": {
    "scrolled": false
   },
   "outputs": [
    {
     "data": {
      "text/html": [
       "<div>\n",
       "<style scoped>\n",
       "    .dataframe tbody tr th:only-of-type {\n",
       "        vertical-align: middle;\n",
       "    }\n",
       "\n",
       "    .dataframe tbody tr th {\n",
       "        vertical-align: top;\n",
       "    }\n",
       "\n",
       "    .dataframe thead tr th {\n",
       "        text-align: left;\n",
       "    }\n",
       "\n",
       "    .dataframe thead tr:last-of-type th {\n",
       "        text-align: right;\n",
       "    }\n",
       "</style>\n",
       "<table border=\"1\" class=\"dataframe\">\n",
       "  <thead>\n",
       "    <tr>\n",
       "      <th></th>\n",
       "      <th colspan=\"6\" halign=\"left\">nota_final</th>\n",
       "    </tr>\n",
       "    <tr>\n",
       "      <th></th>\n",
       "      <th>mean</th>\n",
       "      <th>median</th>\n",
       "      <th>count</th>\n",
       "      <th>std</th>\n",
       "      <th>min</th>\n",
       "      <th>max</th>\n",
       "    </tr>\n",
       "    <tr>\n",
       "      <th>universidade</th>\n",
       "      <th></th>\n",
       "      <th></th>\n",
       "      <th></th>\n",
       "      <th></th>\n",
       "      <th></th>\n",
       "      <th></th>\n",
       "    </tr>\n",
       "  </thead>\n",
       "  <tbody>\n",
       "    <tr>\n",
       "      <th>UFPE</th>\n",
       "      <td>705.61</td>\n",
       "      <td>709.15</td>\n",
       "      <td>214</td>\n",
       "      <td>75.75</td>\n",
       "      <td>546.37</td>\n",
       "      <td>844.95</td>\n",
       "    </tr>\n",
       "    <tr>\n",
       "      <th>UPE</th>\n",
       "      <td>601.23</td>\n",
       "      <td>587.03</td>\n",
       "      <td>204</td>\n",
       "      <td>88.20</td>\n",
       "      <td>426.26</td>\n",
       "      <td>764.90</td>\n",
       "    </tr>\n",
       "  </tbody>\n",
       "</table>\n",
       "</div>"
      ],
      "text/plain": [
       "             nota_final                                 \n",
       "                   mean median count   std    min    max\n",
       "universidade                                            \n",
       "UFPE             705.61 709.15   214 75.75 546.37 844.95\n",
       "UPE              601.23 587.03   204 88.20 426.26 764.90"
      ]
     },
     "execution_count": 21,
     "metadata": {},
     "output_type": "execute_result"
    }
   ],
   "source": [
    "# Estatísticas de notas por universidades\n",
    "df[['nota_final', 'universidade']].groupby([ 'universidade']).agg(['mean', 'median', 'count', 'std', 'min', 'max'])"
   ]
  },
  {
   "cell_type": "markdown",
   "id": "b655cac0",
   "metadata": {},
   "source": [
    "### Observação:\n",
    "Apesar da diferença evidente, é fundamental realizar validações estatísticas para interpretá-la de forma robusta e confiável."
   ]
  },
  {
   "cell_type": "code",
   "execution_count": null,
   "id": "a2ec40ad",
   "metadata": {},
   "outputs": [],
   "source": []
  }
 ],
 "metadata": {
  "kernelspec": {
   "display_name": "Python 3 (ipykernel)",
   "language": "python",
   "name": "python3"
  },
  "language_info": {
   "codemirror_mode": {
    "name": "ipython",
    "version": 3
   },
   "file_extension": ".py",
   "mimetype": "text/x-python",
   "name": "python",
   "nbconvert_exporter": "python",
   "pygments_lexer": "ipython3",
   "version": "3.9.13"
  }
 },
 "nbformat": 4,
 "nbformat_minor": 5
}
