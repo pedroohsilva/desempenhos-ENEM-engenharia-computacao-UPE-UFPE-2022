{
 "cells": [
  {
   "cell_type": "markdown",
   "id": "27791617",
   "metadata": {},
   "source": [
    "## Limpeza de Dados\n",
    "\n",
    "\n",
    "### Sobre o Conjunto de Dados:\n",
    "\n",
    "#### sexo\n",
    "Descrição: Sexo declarado pelo candidato.\n",
    "Tipo: Categórico.\n",
    "#### modalidade_concorrencia\n",
    "Descrição: Modalidade de concorrência escolhida pelo candidato (ex.: ampla concorrência, cotas, etc.).\n",
    "Tipo: Categórico.\n",
    "#### sigla_uf_candidato\n",
    "Descrição: Unidade Federativa (UF) de residência do candidato.\n",
    "Tipo: Texto.\n",
    "#### id_municipio_candidato\n",
    "Descrição: Identificador único do município de residência do candidato.\n",
    "Tipo: Numérico.\n",
    "#### data_nascimento\n",
    "Descrição: Data de nascimento do candidato.\n",
    "Tipo: Data.\n",
    "#### status_aprovado\n",
    "Descrição: Indica se o candidato foi aprovado no curso.\n",
    "Tipo: Booleano (True/False).\n",
    "#### nome_curso\n",
    "Descrição: Nome do curso para o qual o candidato concorreu (neste caso, sempre \"Ciência da Computação\").\n",
    "Tipo: Texto.\n",
    "#### sigla_ies\n",
    "Descrição: Sigla da Instituição de Ensino Superior (IES) para a qual o candidato foi aprovado.\n",
    "Tipo: Texto.\n",
    "#### id_municipio_campus\n",
    "Descrição: Identificador único do município onde o campus da universidade está localizado.\n",
    "Tipo: Numérico.\n",
    "#### campus\n",
    "Descrição: Nome do campus da universidade onde o curso é ofertado.\n",
    "Tipo: Texto.\n",
    "\n",
    "\n",
    "### Resumo:\n",
    "\n",
    "Durante o processo de limpeza do DataFrame, comecei analisando a estrutura geral dos dados para entender seu formato e identificar possíveis inconsistências. Inspecionei o conjunto de dados em busca de valores nulos, duplicados e inconsistências nas colunas mais relevantes. Removi duplicatas que poderiam distorcer os resultados e converti os tipos de dados para formatos mais adequados, como datas e categorias. Além disso, adicionei uma nova coluna para calcular a idade dos candidatos com base em suas datas de nascimento, o que permitiu enriquecer as análises subsequentes. Ao final desse processo, garanti que o DataFrame estivesse limpo e consistente, pronto para as etapas de análise exploratória e estatística."
   ]
  },
  {
   "cell_type": "markdown",
   "id": "e4dccd7d",
   "metadata": {},
   "source": [
    "### Importação dos Dados:"
   ]
  },
  {
   "cell_type": "code",
   "execution_count": 49,
   "id": "3c1eaf6b",
   "metadata": {},
   "outputs": [],
   "source": [
    "# Importação da bibliteca Pandas para manipulação de dados\n",
    "import pandas as pd"
   ]
  },
  {
   "cell_type": "code",
   "execution_count": 50,
   "id": "03b4c98c",
   "metadata": {},
   "outputs": [],
   "source": [
    "# Formatando saída de dados\n",
    "pd.set_option('display.max_columns', None)\n",
    "pd.set_option('display.max_rows', None)\n",
    "pd.options.display.float_format = '{:.2f}'.format"
   ]
  },
  {
   "cell_type": "code",
   "execution_count": 51,
   "id": "8b8b6283",
   "metadata": {},
   "outputs": [],
   "source": [
    "# Importação de dados\n",
    "df = pd.read_csv('dataframe_sisu.csv')"
   ]
  },
  {
   "cell_type": "markdown",
   "id": "e053bce4",
   "metadata": {},
   "source": [
    "### Compreendendo o Conjunto de Dados:"
   ]
  },
  {
   "cell_type": "code",
   "execution_count": 13,
   "id": "b18c0320",
   "metadata": {},
   "outputs": [
    {
     "data": {
      "text/plain": [
       "(1834, 11)"
      ]
     },
     "execution_count": 13,
     "metadata": {},
     "output_type": "execute_result"
    }
   ],
   "source": [
    "# Visualizando forma do dataset em número de linhas e colunas\n",
    "df.shape"
   ]
  },
  {
   "cell_type": "code",
   "execution_count": 11,
   "id": "dbd2f2c5",
   "metadata": {},
   "outputs": [
    {
     "data": {
      "text/html": [
       "<div>\n",
       "<style scoped>\n",
       "    .dataframe tbody tr th:only-of-type {\n",
       "        vertical-align: middle;\n",
       "    }\n",
       "\n",
       "    .dataframe tbody tr th {\n",
       "        vertical-align: top;\n",
       "    }\n",
       "\n",
       "    .dataframe thead th {\n",
       "        text-align: right;\n",
       "    }\n",
       "</style>\n",
       "<table border=\"1\" class=\"dataframe\">\n",
       "  <thead>\n",
       "    <tr style=\"text-align: right;\">\n",
       "      <th></th>\n",
       "      <th>nota_candidato</th>\n",
       "      <th>sexo</th>\n",
       "      <th>modalidade_concorrencia</th>\n",
       "      <th>sigla_uf_candidato</th>\n",
       "      <th>id_municipio_candidato</th>\n",
       "      <th>data_nascimento</th>\n",
       "      <th>status_aprovado</th>\n",
       "      <th>nome_curso</th>\n",
       "      <th>sigla_ies</th>\n",
       "      <th>id_municipio_campus</th>\n",
       "      <th>campus</th>\n",
       "    </tr>\n",
       "  </thead>\n",
       "  <tbody>\n",
       "    <tr>\n",
       "      <th>0</th>\n",
       "      <td>657.91</td>\n",
       "      <td>M</td>\n",
       "      <td>Candidatos autodeclarados pretos. pardos ou in...</td>\n",
       "      <td>SE</td>\n",
       "      <td>2800308.00</td>\n",
       "      <td>1999-04-08</td>\n",
       "      <td>True</td>\n",
       "      <td>CIÊNCIA DA COMPUTAÇÃO</td>\n",
       "      <td>UFPE</td>\n",
       "      <td>2611606</td>\n",
       "      <td>Campus Universitário Cidade do Recife</td>\n",
       "    </tr>\n",
       "    <tr>\n",
       "      <th>1</th>\n",
       "      <td>781.40</td>\n",
       "      <td>M</td>\n",
       "      <td>Ampla concorrência</td>\n",
       "      <td>SE</td>\n",
       "      <td>2800308.00</td>\n",
       "      <td>2002-01-08</td>\n",
       "      <td>True</td>\n",
       "      <td>CIÊNCIA DA COMPUTAÇÃO</td>\n",
       "      <td>UFPE</td>\n",
       "      <td>2611606</td>\n",
       "      <td>Campus Universitário Cidade do Recife</td>\n",
       "    </tr>\n",
       "    <tr>\n",
       "      <th>2</th>\n",
       "      <td>786.74</td>\n",
       "      <td>M</td>\n",
       "      <td>Ampla concorrência</td>\n",
       "      <td>BA</td>\n",
       "      <td>2914703.00</td>\n",
       "      <td>2002-04-07</td>\n",
       "      <td>True</td>\n",
       "      <td>CIÊNCIA DA COMPUTAÇÃO</td>\n",
       "      <td>UFPE</td>\n",
       "      <td>2611606</td>\n",
       "      <td>Campus Universitário Cidade do Recife</td>\n",
       "    </tr>\n",
       "    <tr>\n",
       "      <th>3</th>\n",
       "      <td>634.92</td>\n",
       "      <td>M</td>\n",
       "      <td>Ampla concorrência</td>\n",
       "      <td>BA</td>\n",
       "      <td>2924009.00</td>\n",
       "      <td>2001-01-29</td>\n",
       "      <td>True</td>\n",
       "      <td>CIÊNCIA DA COMPUTAÇÃO</td>\n",
       "      <td>UFPE</td>\n",
       "      <td>2611606</td>\n",
       "      <td>Campus Universitário Cidade do Recife</td>\n",
       "    </tr>\n",
       "    <tr>\n",
       "      <th>4</th>\n",
       "      <td>786.42</td>\n",
       "      <td>M</td>\n",
       "      <td>Ampla concorrência</td>\n",
       "      <td>PI</td>\n",
       "      <td>2211001.00</td>\n",
       "      <td>2002-06-28</td>\n",
       "      <td>True</td>\n",
       "      <td>CIÊNCIA DA COMPUTAÇÃO</td>\n",
       "      <td>UFPE</td>\n",
       "      <td>2611606</td>\n",
       "      <td>Campus Universitário Cidade do Recife</td>\n",
       "    </tr>\n",
       "  </tbody>\n",
       "</table>\n",
       "</div>"
      ],
      "text/plain": [
       "   nota_candidato sexo                            modalidade_concorrencia  \\\n",
       "0          657.91    M  Candidatos autodeclarados pretos. pardos ou in...   \n",
       "1          781.40    M                                 Ampla concorrência   \n",
       "2          786.74    M                                 Ampla concorrência   \n",
       "3          634.92    M                                 Ampla concorrência   \n",
       "4          786.42    M                                 Ampla concorrência   \n",
       "\n",
       "  sigla_uf_candidato  id_municipio_candidato data_nascimento  status_aprovado  \\\n",
       "0                 SE              2800308.00      1999-04-08             True   \n",
       "1                 SE              2800308.00      2002-01-08             True   \n",
       "2                 BA              2914703.00      2002-04-07             True   \n",
       "3                 BA              2924009.00      2001-01-29             True   \n",
       "4                 PI              2211001.00      2002-06-28             True   \n",
       "\n",
       "              nome_curso sigla_ies  id_municipio_campus  \\\n",
       "0  CIÊNCIA DA COMPUTAÇÃO      UFPE              2611606   \n",
       "1  CIÊNCIA DA COMPUTAÇÃO      UFPE              2611606   \n",
       "2  CIÊNCIA DA COMPUTAÇÃO      UFPE              2611606   \n",
       "3  CIÊNCIA DA COMPUTAÇÃO      UFPE              2611606   \n",
       "4  CIÊNCIA DA COMPUTAÇÃO      UFPE              2611606   \n",
       "\n",
       "                                  campus  \n",
       "0  Campus Universitário Cidade do Recife  \n",
       "1  Campus Universitário Cidade do Recife  \n",
       "2  Campus Universitário Cidade do Recife  \n",
       "3  Campus Universitário Cidade do Recife  \n",
       "4  Campus Universitário Cidade do Recife  "
      ]
     },
     "execution_count": 11,
     "metadata": {},
     "output_type": "execute_result"
    }
   ],
   "source": [
    "# Visualizando cabeçalho do conjunto de dados\n",
    "df.head()"
   ]
  },
  {
   "cell_type": "code",
   "execution_count": 14,
   "id": "c3a8d533",
   "metadata": {},
   "outputs": [
    {
     "name": "stdout",
     "output_type": "stream",
     "text": [
      "<class 'pandas.core.frame.DataFrame'>\n",
      "RangeIndex: 1834 entries, 0 to 1833\n",
      "Data columns (total 11 columns):\n",
      " #   Column                   Non-Null Count  Dtype  \n",
      "---  ------                   --------------  -----  \n",
      " 0   nota_candidato           1834 non-null   float64\n",
      " 1   sexo                     1834 non-null   object \n",
      " 2   modalidade_concorrencia  1834 non-null   object \n",
      " 3   sigla_uf_candidato       1833 non-null   object \n",
      " 4   id_municipio_candidato   1833 non-null   float64\n",
      " 5   data_nascimento          1834 non-null   object \n",
      " 6   status_aprovado          1834 non-null   bool   \n",
      " 7   nome_curso               1834 non-null   object \n",
      " 8   sigla_ies                1834 non-null   object \n",
      " 9   id_municipio_campus      1834 non-null   int64  \n",
      " 10  campus                   1834 non-null   object \n",
      "dtypes: bool(1), float64(2), int64(1), object(7)\n",
      "memory usage: 145.2+ KB\n"
     ]
    }
   ],
   "source": [
    "# Informações gerais sobre os dados\n",
    "df.info()"
   ]
  },
  {
   "cell_type": "markdown",
   "id": "5d31c4f4",
   "metadata": {},
   "source": [
    "### Tratamento de Dados:"
   ]
  },
  {
   "cell_type": "code",
   "execution_count": 25,
   "id": "8205db72",
   "metadata": {},
   "outputs": [
    {
     "name": "stdout",
     "output_type": "stream",
     "text": [
      "O conjunto de dados possui 0 linhas duplicadas.\n"
     ]
    }
   ],
   "source": [
    "# Verificação de dados duplicados\n",
    "duplicatas = df.duplicated().sum()\n",
    "print('O conjunto de dados possui', duplicatas, 'linhas duplicadas.')"
   ]
  },
  {
   "cell_type": "code",
   "execution_count": 52,
   "id": "0f815ed2",
   "metadata": {},
   "outputs": [
    {
     "data": {
      "text/plain": [
       "nota_candidato             0\n",
       "sexo                       0\n",
       "modalidade_concorrencia    0\n",
       "sigla_uf_candidato         1\n",
       "id_municipio_candidato     1\n",
       "data_nascimento            0\n",
       "status_aprovado            0\n",
       "nome_curso                 0\n",
       "sigla_ies                  0\n",
       "id_municipio_campus        0\n",
       "campus                     0\n",
       "dtype: int64"
      ]
     },
     "execution_count": 52,
     "metadata": {},
     "output_type": "execute_result"
    }
   ],
   "source": [
    "# Verificando valores nulos\n",
    "df.isnull().sum()"
   ]
  },
  {
   "cell_type": "code",
   "execution_count": 53,
   "id": "c3fff034",
   "metadata": {},
   "outputs": [],
   "source": [
    "# Visualizando linha com valores nulos\n",
    "\n",
    "# Selecionando linhas com valores nulos\n",
    "linhas_nulas = df[df.isnull().any(axis=1)]\n",
    "\n",
    "# Linhas distintas com nulos (se houver duplicatas)\n",
    "linhas_distintas_nulas = linhas_nulas.drop_duplicates()"
   ]
  },
  {
   "cell_type": "code",
   "execution_count": 54,
   "id": "ce2ad618",
   "metadata": {},
   "outputs": [
    {
     "data": {
      "text/html": [
       "<div>\n",
       "<style scoped>\n",
       "    .dataframe tbody tr th:only-of-type {\n",
       "        vertical-align: middle;\n",
       "    }\n",
       "\n",
       "    .dataframe tbody tr th {\n",
       "        vertical-align: top;\n",
       "    }\n",
       "\n",
       "    .dataframe thead th {\n",
       "        text-align: right;\n",
       "    }\n",
       "</style>\n",
       "<table border=\"1\" class=\"dataframe\">\n",
       "  <thead>\n",
       "    <tr style=\"text-align: right;\">\n",
       "      <th></th>\n",
       "      <th>nota_candidato</th>\n",
       "      <th>sexo</th>\n",
       "      <th>modalidade_concorrencia</th>\n",
       "      <th>sigla_uf_candidato</th>\n",
       "      <th>id_municipio_candidato</th>\n",
       "      <th>data_nascimento</th>\n",
       "      <th>status_aprovado</th>\n",
       "      <th>nome_curso</th>\n",
       "      <th>sigla_ies</th>\n",
       "      <th>id_municipio_campus</th>\n",
       "      <th>campus</th>\n",
       "    </tr>\n",
       "  </thead>\n",
       "  <tbody>\n",
       "    <tr>\n",
       "      <th>377</th>\n",
       "      <td>699.48</td>\n",
       "      <td>M</td>\n",
       "      <td>Candidatos autodeclarados pretos. pardos ou in...</td>\n",
       "      <td>NaN</td>\n",
       "      <td>NaN</td>\n",
       "      <td>1999-07-09</td>\n",
       "      <td>True</td>\n",
       "      <td>CIÊNCIA DA COMPUTAÇÃO</td>\n",
       "      <td>UFPE</td>\n",
       "      <td>2611606</td>\n",
       "      <td>Campus Universitário Cidade do Recife</td>\n",
       "    </tr>\n",
       "  </tbody>\n",
       "</table>\n",
       "</div>"
      ],
      "text/plain": [
       "     nota_candidato sexo                            modalidade_concorrencia  \\\n",
       "377          699.48    M  Candidatos autodeclarados pretos. pardos ou in...   \n",
       "\n",
       "    sigla_uf_candidato  id_municipio_candidato data_nascimento  \\\n",
       "377                NaN                     NaN      1999-07-09   \n",
       "\n",
       "     status_aprovado             nome_curso sigla_ies  id_municipio_campus  \\\n",
       "377             True  CIÊNCIA DA COMPUTAÇÃO      UFPE              2611606   \n",
       "\n",
       "                                    campus  \n",
       "377  Campus Universitário Cidade do Recife  "
      ]
     },
     "execution_count": 54,
     "metadata": {},
     "output_type": "execute_result"
    }
   ],
   "source": [
    "linhas_distintas_nulas"
   ]
  },
  {
   "cell_type": "code",
   "execution_count": 55,
   "id": "10c7e78d",
   "metadata": {},
   "outputs": [],
   "source": [
    "# Removendo linha 377\n",
    "df.drop(377, inplace=True)"
   ]
  },
  {
   "cell_type": "markdown",
   "id": "dbb38a81",
   "metadata": {},
   "source": [
    "Neste caso, por se tratar de apenas uma linha, optei por remover a linha com valores nulos, uma vez que tal medida não afetaria de forma drástica os resultados."
   ]
  },
  {
   "cell_type": "code",
   "execution_count": 56,
   "id": "caed84c6",
   "metadata": {},
   "outputs": [
    {
     "data": {
      "text/plain": [
       "nota_candidato             0\n",
       "sexo                       0\n",
       "modalidade_concorrencia    0\n",
       "sigla_uf_candidato         0\n",
       "id_municipio_candidato     0\n",
       "data_nascimento            0\n",
       "status_aprovado            0\n",
       "nome_curso                 0\n",
       "sigla_ies                  0\n",
       "id_municipio_campus        0\n",
       "campus                     0\n",
       "dtype: int64"
      ]
     },
     "execution_count": 56,
     "metadata": {},
     "output_type": "execute_result"
    }
   ],
   "source": [
    "# Verificando remoção\n",
    "df.isnull().sum()"
   ]
  },
  {
   "cell_type": "markdown",
   "id": "1677293a",
   "metadata": {},
   "source": [
    "### Normalizando colunas de texto:"
   ]
  },
  {
   "cell_type": "code",
   "execution_count": 76,
   "id": "ff480d0a",
   "metadata": {},
   "outputs": [],
   "source": [
    "df['campus'] = df['campus'].str.strip().str.upper()"
   ]
  },
  {
   "cell_type": "code",
   "execution_count": 77,
   "id": "21e1d459",
   "metadata": {},
   "outputs": [],
   "source": [
    "df['modalidade_concorrencia'] = df['modalidade_concorrencia'].str.strip().str.title()"
   ]
  },
  {
   "cell_type": "code",
   "execution_count": 85,
   "id": "774d86d2",
   "metadata": {},
   "outputs": [],
   "source": [
    "df['nome_curso'] = df['nome_curso'].str.strip().str.title()"
   ]
  },
  {
   "cell_type": "code",
   "execution_count": 87,
   "id": "cfb52177",
   "metadata": {},
   "outputs": [],
   "source": [
    "df['campus'] = df['campus'].str.strip().str.title()"
   ]
  },
  {
   "cell_type": "code",
   "execution_count": 78,
   "id": "ce1fcec7",
   "metadata": {},
   "outputs": [],
   "source": [
    "df['sigla_ies'] = df['sigla_ies'].str.strip().str.upper()"
   ]
  },
  {
   "cell_type": "code",
   "execution_count": 80,
   "id": "c9ab95f5",
   "metadata": {},
   "outputs": [],
   "source": [
    "df['sigla_uf_candidato'] = df['sigla_uf_candidato'].str.strip().str.upper()"
   ]
  },
  {
   "cell_type": "markdown",
   "id": "a9e0c1cf",
   "metadata": {},
   "source": [
    "Garanti que as colunas de texto, como campus e modalidade_concorrencia, estejam padronizadas (letras maiúsculas/minúsculas, sem espaços extras)."
   ]
  },
  {
   "cell_type": "markdown",
   "id": "1779cb39",
   "metadata": {},
   "source": [
    "### Substituição de dados:"
   ]
  },
  {
   "cell_type": "code",
   "execution_count": 69,
   "id": "4468a531",
   "metadata": {},
   "outputs": [],
   "source": [
    "# Substituindo o valor True por Aprovado na coluna 'status_aprovado'\n",
    "df['status_aprovado'] = df['status_aprovado'].replace(True, 'Aprovado')"
   ]
  },
  {
   "cell_type": "code",
   "execution_count": 71,
   "id": "871c9b9a",
   "metadata": {},
   "outputs": [],
   "source": [
    "# Substituindo o valor False por Reprovado na coluna 'status_aprovado'\n",
    "df['status_aprovado'] = df['status_aprovado'].replace(False, 'Reprovado')"
   ]
  },
  {
   "cell_type": "code",
   "execution_count": 82,
   "id": "78f261ae",
   "metadata": {},
   "outputs": [],
   "source": [
    "# Substituindo 'M' por 'Masculino' na coluna 'sexo'\n",
    "df['sexo'] = df['sexo'].replace('M', 'Masculino')"
   ]
  },
  {
   "cell_type": "code",
   "execution_count": 83,
   "id": "ef626c3d",
   "metadata": {},
   "outputs": [],
   "source": [
    "# Substituindo 'F' por 'Feminino' na coluna 'sexo'\n",
    "df['sexo'] = df['sexo'].replace('F', 'Feminino')"
   ]
  },
  {
   "cell_type": "markdown",
   "id": "5cfb4a44",
   "metadata": {},
   "source": [
    "#### Substituindo ids do município dos candidatos pelo nome do município:"
   ]
  },
  {
   "cell_type": "code",
   "execution_count": 113,
   "id": "fe437574",
   "metadata": {},
   "outputs": [],
   "source": [
    "# Carregar o DataFrame com os dados dos municípios do IBGE em Excel\n",
    "df_municipios = pd.read_excel('codigos_municipios_ibge.xlsx', usecols=['Código Município Completo', 'Nome_Município'])"
   ]
  },
  {
   "cell_type": "code",
   "execution_count": 118,
   "id": "ea28dc92",
   "metadata": {},
   "outputs": [
    {
     "data": {
      "text/html": [
       "<div>\n",
       "<style scoped>\n",
       "    .dataframe tbody tr th:only-of-type {\n",
       "        vertical-align: middle;\n",
       "    }\n",
       "\n",
       "    .dataframe tbody tr th {\n",
       "        vertical-align: top;\n",
       "    }\n",
       "\n",
       "    .dataframe thead th {\n",
       "        text-align: right;\n",
       "    }\n",
       "</style>\n",
       "<table border=\"1\" class=\"dataframe\">\n",
       "  <thead>\n",
       "    <tr style=\"text-align: right;\">\n",
       "      <th></th>\n",
       "      <th>Código Município Completo</th>\n",
       "      <th>Nome_Município</th>\n",
       "    </tr>\n",
       "  </thead>\n",
       "  <tbody>\n",
       "    <tr>\n",
       "      <th>0</th>\n",
       "      <td>1100015</td>\n",
       "      <td>Alta Floresta D'Oeste</td>\n",
       "    </tr>\n",
       "    <tr>\n",
       "      <th>1</th>\n",
       "      <td>1100379</td>\n",
       "      <td>Alto Alegre dos Parecis</td>\n",
       "    </tr>\n",
       "    <tr>\n",
       "      <th>2</th>\n",
       "      <td>1100403</td>\n",
       "      <td>Alto Paraíso</td>\n",
       "    </tr>\n",
       "    <tr>\n",
       "      <th>3</th>\n",
       "      <td>1100346</td>\n",
       "      <td>Alvorada D'Oeste</td>\n",
       "    </tr>\n",
       "    <tr>\n",
       "      <th>4</th>\n",
       "      <td>1100023</td>\n",
       "      <td>Ariquemes</td>\n",
       "    </tr>\n",
       "  </tbody>\n",
       "</table>\n",
       "</div>"
      ],
      "text/plain": [
       "   Código Município Completo           Nome_Município\n",
       "0                    1100015    Alta Floresta D'Oeste\n",
       "1                    1100379  Alto Alegre dos Parecis\n",
       "2                    1100403             Alto Paraíso\n",
       "3                    1100346         Alvorada D'Oeste\n",
       "4                    1100023                Ariquemes"
      ]
     },
     "execution_count": 118,
     "metadata": {},
     "output_type": "execute_result"
    }
   ],
   "source": [
    "df_municipios.head()"
   ]
  },
  {
   "cell_type": "code",
   "execution_count": 132,
   "id": "50a820b4",
   "metadata": {},
   "outputs": [],
   "source": [
    "# Convertendo a coluna 'id_municipio_candidato' para inteiro para remover a parte decimal\n",
    "df['id_municipio_candidato'] = df['id_municipio_candidato'].astype(int)\n",
    "\n",
    "# Convertendo a coluna 'id_municipio_campus' para inteiro para remover a parte decimal\n",
    "df['id_municipio_campus'] = df['id_municipio_campus'].astype(int)"
   ]
  },
  {
   "cell_type": "code",
   "execution_count": 141,
   "id": "ab773cd3",
   "metadata": {},
   "outputs": [],
   "source": [
    "# Realizando a mesclagem dos DataFrames com base na coluna de IDs\n",
    "df_com_nomes = df.merge(df_municipios, left_on='id_municipio_candidato', right_on='Código Município Completo', how='left')\n",
    "\n",
    "# Substituindo a coluna de ID pelo nome do município\n",
    "df_com_nomes['id_municipio_candidato'] = df_com_nomes['Nome_Município']"
   ]
  },
  {
   "cell_type": "markdown",
   "id": "c7b7ecbc",
   "metadata": {},
   "source": [
    "#### Substituindo ids do município do campus pelo nome do município:"
   ]
  },
  {
   "cell_type": "code",
   "execution_count": 142,
   "id": "df2c6254",
   "metadata": {},
   "outputs": [],
   "source": [
    "# Realizando a mesclagem dos DataFrames com base na coluna de IDs\n",
    "df_com_nomes = df.merge(df_municipios, left_on='id_municipio_campus', right_on='Código Município Completo', how='left')\n",
    "\n",
    "# Substituindo a coluna de ID pelo nome do município\n",
    "df_com_nomes['id_municipio_campus'] = df_com_nomes['Nome_Município']"
   ]
  },
  {
   "cell_type": "markdown",
   "id": "903f6a54",
   "metadata": {},
   "source": [
    "#### Verificando transformações:"
   ]
  },
  {
   "cell_type": "code",
   "execution_count": 143,
   "id": "ee4adb07",
   "metadata": {
    "scrolled": false
   },
   "outputs": [
    {
     "data": {
      "text/html": [
       "<div>\n",
       "<style scoped>\n",
       "    .dataframe tbody tr th:only-of-type {\n",
       "        vertical-align: middle;\n",
       "    }\n",
       "\n",
       "    .dataframe tbody tr th {\n",
       "        vertical-align: top;\n",
       "    }\n",
       "\n",
       "    .dataframe thead th {\n",
       "        text-align: right;\n",
       "    }\n",
       "</style>\n",
       "<table border=\"1\" class=\"dataframe\">\n",
       "  <thead>\n",
       "    <tr style=\"text-align: right;\">\n",
       "      <th></th>\n",
       "      <th>nota_candidato</th>\n",
       "      <th>sexo</th>\n",
       "      <th>modalidade_concorrencia</th>\n",
       "      <th>sigla_uf_candidato</th>\n",
       "      <th>id_municipio_candidato</th>\n",
       "      <th>data_nascimento</th>\n",
       "      <th>status_aprovado</th>\n",
       "      <th>nome_curso</th>\n",
       "      <th>sigla_ies</th>\n",
       "      <th>id_municipio_campus</th>\n",
       "      <th>campus</th>\n",
       "      <th>Código Município Completo</th>\n",
       "      <th>Nome_Município</th>\n",
       "    </tr>\n",
       "  </thead>\n",
       "  <tbody>\n",
       "    <tr>\n",
       "      <th>0</th>\n",
       "      <td>657.91</td>\n",
       "      <td>Masculino</td>\n",
       "      <td>Candidatos Autodeclarados Pretos. Pardos Ou In...</td>\n",
       "      <td>SE</td>\n",
       "      <td>2800308</td>\n",
       "      <td>1999-04-08</td>\n",
       "      <td>Aprovado</td>\n",
       "      <td>Ciência Da Computação</td>\n",
       "      <td>UFPE</td>\n",
       "      <td>Recife</td>\n",
       "      <td>Campus Universitário Cidade Do Recife</td>\n",
       "      <td>2611606</td>\n",
       "      <td>Recife</td>\n",
       "    </tr>\n",
       "    <tr>\n",
       "      <th>1</th>\n",
       "      <td>781.40</td>\n",
       "      <td>Masculino</td>\n",
       "      <td>Ampla Concorrência</td>\n",
       "      <td>SE</td>\n",
       "      <td>2800308</td>\n",
       "      <td>2002-01-08</td>\n",
       "      <td>Aprovado</td>\n",
       "      <td>Ciência Da Computação</td>\n",
       "      <td>UFPE</td>\n",
       "      <td>Recife</td>\n",
       "      <td>Campus Universitário Cidade Do Recife</td>\n",
       "      <td>2611606</td>\n",
       "      <td>Recife</td>\n",
       "    </tr>\n",
       "    <tr>\n",
       "      <th>2</th>\n",
       "      <td>786.74</td>\n",
       "      <td>Masculino</td>\n",
       "      <td>Ampla Concorrência</td>\n",
       "      <td>BA</td>\n",
       "      <td>2914703</td>\n",
       "      <td>2002-04-07</td>\n",
       "      <td>Aprovado</td>\n",
       "      <td>Ciência Da Computação</td>\n",
       "      <td>UFPE</td>\n",
       "      <td>Recife</td>\n",
       "      <td>Campus Universitário Cidade Do Recife</td>\n",
       "      <td>2611606</td>\n",
       "      <td>Recife</td>\n",
       "    </tr>\n",
       "    <tr>\n",
       "      <th>3</th>\n",
       "      <td>634.92</td>\n",
       "      <td>Masculino</td>\n",
       "      <td>Ampla Concorrência</td>\n",
       "      <td>BA</td>\n",
       "      <td>2924009</td>\n",
       "      <td>2001-01-29</td>\n",
       "      <td>Aprovado</td>\n",
       "      <td>Ciência Da Computação</td>\n",
       "      <td>UFPE</td>\n",
       "      <td>Recife</td>\n",
       "      <td>Campus Universitário Cidade Do Recife</td>\n",
       "      <td>2611606</td>\n",
       "      <td>Recife</td>\n",
       "    </tr>\n",
       "    <tr>\n",
       "      <th>4</th>\n",
       "      <td>786.42</td>\n",
       "      <td>Masculino</td>\n",
       "      <td>Ampla Concorrência</td>\n",
       "      <td>PI</td>\n",
       "      <td>2211001</td>\n",
       "      <td>2002-06-28</td>\n",
       "      <td>Aprovado</td>\n",
       "      <td>Ciência Da Computação</td>\n",
       "      <td>UFPE</td>\n",
       "      <td>Recife</td>\n",
       "      <td>Campus Universitário Cidade Do Recife</td>\n",
       "      <td>2611606</td>\n",
       "      <td>Recife</td>\n",
       "    </tr>\n",
       "  </tbody>\n",
       "</table>\n",
       "</div>"
      ],
      "text/plain": [
       "   nota_candidato       sexo  \\\n",
       "0          657.91  Masculino   \n",
       "1          781.40  Masculino   \n",
       "2          786.74  Masculino   \n",
       "3          634.92  Masculino   \n",
       "4          786.42  Masculino   \n",
       "\n",
       "                             modalidade_concorrencia sigla_uf_candidato  \\\n",
       "0  Candidatos Autodeclarados Pretos. Pardos Ou In...                 SE   \n",
       "1                                 Ampla Concorrência                 SE   \n",
       "2                                 Ampla Concorrência                 BA   \n",
       "3                                 Ampla Concorrência                 BA   \n",
       "4                                 Ampla Concorrência                 PI   \n",
       "\n",
       "   id_municipio_candidato data_nascimento status_aprovado  \\\n",
       "0                 2800308      1999-04-08        Aprovado   \n",
       "1                 2800308      2002-01-08        Aprovado   \n",
       "2                 2914703      2002-04-07        Aprovado   \n",
       "3                 2924009      2001-01-29        Aprovado   \n",
       "4                 2211001      2002-06-28        Aprovado   \n",
       "\n",
       "              nome_curso sigla_ies id_municipio_campus  \\\n",
       "0  Ciência Da Computação      UFPE              Recife   \n",
       "1  Ciência Da Computação      UFPE              Recife   \n",
       "2  Ciência Da Computação      UFPE              Recife   \n",
       "3  Ciência Da Computação      UFPE              Recife   \n",
       "4  Ciência Da Computação      UFPE              Recife   \n",
       "\n",
       "                                  campus  Código Município Completo  \\\n",
       "0  Campus Universitário Cidade Do Recife                    2611606   \n",
       "1  Campus Universitário Cidade Do Recife                    2611606   \n",
       "2  Campus Universitário Cidade Do Recife                    2611606   \n",
       "3  Campus Universitário Cidade Do Recife                    2611606   \n",
       "4  Campus Universitário Cidade Do Recife                    2611606   \n",
       "\n",
       "  Nome_Município  \n",
       "0         Recife  \n",
       "1         Recife  \n",
       "2         Recife  \n",
       "3         Recife  \n",
       "4         Recife  "
      ]
     },
     "execution_count": 143,
     "metadata": {},
     "output_type": "execute_result"
    }
   ],
   "source": [
    "df_limpo.head()"
   ]
  },
  {
   "cell_type": "code",
   "execution_count": 136,
   "id": "3e11afea",
   "metadata": {},
   "outputs": [
    {
     "data": {
      "text/html": [
       "<div>\n",
       "<style scoped>\n",
       "    .dataframe tbody tr th:only-of-type {\n",
       "        vertical-align: middle;\n",
       "    }\n",
       "\n",
       "    .dataframe tbody tr th {\n",
       "        vertical-align: top;\n",
       "    }\n",
       "\n",
       "    .dataframe thead th {\n",
       "        text-align: right;\n",
       "    }\n",
       "</style>\n",
       "<table border=\"1\" class=\"dataframe\">\n",
       "  <thead>\n",
       "    <tr style=\"text-align: right;\">\n",
       "      <th></th>\n",
       "      <th>nota_candidato</th>\n",
       "      <th>sexo</th>\n",
       "      <th>modalidade_concorrencia</th>\n",
       "      <th>sigla_uf_candidato</th>\n",
       "      <th>id_municipio_candidato</th>\n",
       "      <th>data_nascimento</th>\n",
       "      <th>status_aprovado</th>\n",
       "      <th>nome_curso</th>\n",
       "      <th>sigla_ies</th>\n",
       "      <th>id_municipio_campus</th>\n",
       "      <th>campus</th>\n",
       "    </tr>\n",
       "  </thead>\n",
       "  <tbody>\n",
       "    <tr>\n",
       "      <th>0</th>\n",
       "      <td>657.91</td>\n",
       "      <td>Masculino</td>\n",
       "      <td>Candidatos Autodeclarados Pretos. Pardos Ou In...</td>\n",
       "      <td>SE</td>\n",
       "      <td>2800308</td>\n",
       "      <td>1999-04-08</td>\n",
       "      <td>Aprovado</td>\n",
       "      <td>Ciência Da Computação</td>\n",
       "      <td>UFPE</td>\n",
       "      <td>2611606</td>\n",
       "      <td>Campus Universitário Cidade Do Recife</td>\n",
       "    </tr>\n",
       "    <tr>\n",
       "      <th>1</th>\n",
       "      <td>781.40</td>\n",
       "      <td>Masculino</td>\n",
       "      <td>Ampla Concorrência</td>\n",
       "      <td>SE</td>\n",
       "      <td>2800308</td>\n",
       "      <td>2002-01-08</td>\n",
       "      <td>Aprovado</td>\n",
       "      <td>Ciência Da Computação</td>\n",
       "      <td>UFPE</td>\n",
       "      <td>2611606</td>\n",
       "      <td>Campus Universitário Cidade Do Recife</td>\n",
       "    </tr>\n",
       "    <tr>\n",
       "      <th>2</th>\n",
       "      <td>786.74</td>\n",
       "      <td>Masculino</td>\n",
       "      <td>Ampla Concorrência</td>\n",
       "      <td>BA</td>\n",
       "      <td>2914703</td>\n",
       "      <td>2002-04-07</td>\n",
       "      <td>Aprovado</td>\n",
       "      <td>Ciência Da Computação</td>\n",
       "      <td>UFPE</td>\n",
       "      <td>2611606</td>\n",
       "      <td>Campus Universitário Cidade Do Recife</td>\n",
       "    </tr>\n",
       "    <tr>\n",
       "      <th>3</th>\n",
       "      <td>634.92</td>\n",
       "      <td>Masculino</td>\n",
       "      <td>Ampla Concorrência</td>\n",
       "      <td>BA</td>\n",
       "      <td>2924009</td>\n",
       "      <td>2001-01-29</td>\n",
       "      <td>Aprovado</td>\n",
       "      <td>Ciência Da Computação</td>\n",
       "      <td>UFPE</td>\n",
       "      <td>2611606</td>\n",
       "      <td>Campus Universitário Cidade Do Recife</td>\n",
       "    </tr>\n",
       "    <tr>\n",
       "      <th>4</th>\n",
       "      <td>786.42</td>\n",
       "      <td>Masculino</td>\n",
       "      <td>Ampla Concorrência</td>\n",
       "      <td>PI</td>\n",
       "      <td>2211001</td>\n",
       "      <td>2002-06-28</td>\n",
       "      <td>Aprovado</td>\n",
       "      <td>Ciência Da Computação</td>\n",
       "      <td>UFPE</td>\n",
       "      <td>2611606</td>\n",
       "      <td>Campus Universitário Cidade Do Recife</td>\n",
       "    </tr>\n",
       "  </tbody>\n",
       "</table>\n",
       "</div>"
      ],
      "text/plain": [
       "   nota_candidato       sexo  \\\n",
       "0          657.91  Masculino   \n",
       "1          781.40  Masculino   \n",
       "2          786.74  Masculino   \n",
       "3          634.92  Masculino   \n",
       "4          786.42  Masculino   \n",
       "\n",
       "                             modalidade_concorrencia sigla_uf_candidato  \\\n",
       "0  Candidatos Autodeclarados Pretos. Pardos Ou In...                 SE   \n",
       "1                                 Ampla Concorrência                 SE   \n",
       "2                                 Ampla Concorrência                 BA   \n",
       "3                                 Ampla Concorrência                 BA   \n",
       "4                                 Ampla Concorrência                 PI   \n",
       "\n",
       "   id_municipio_candidato data_nascimento status_aprovado  \\\n",
       "0                 2800308      1999-04-08        Aprovado   \n",
       "1                 2800308      2002-01-08        Aprovado   \n",
       "2                 2914703      2002-04-07        Aprovado   \n",
       "3                 2924009      2001-01-29        Aprovado   \n",
       "4                 2211001      2002-06-28        Aprovado   \n",
       "\n",
       "              nome_curso sigla_ies  id_municipio_campus  \\\n",
       "0  Ciência Da Computação      UFPE              2611606   \n",
       "1  Ciência Da Computação      UFPE              2611606   \n",
       "2  Ciência Da Computação      UFPE              2611606   \n",
       "3  Ciência Da Computação      UFPE              2611606   \n",
       "4  Ciência Da Computação      UFPE              2611606   \n",
       "\n",
       "                                  campus  \n",
       "0  Campus Universitário Cidade Do Recife  \n",
       "1  Campus Universitário Cidade Do Recife  \n",
       "2  Campus Universitário Cidade Do Recife  \n",
       "3  Campus Universitário Cidade Do Recife  \n",
       "4  Campus Universitário Cidade Do Recife  "
      ]
     },
     "execution_count": 136,
     "metadata": {},
     "output_type": "execute_result"
    }
   ],
   "source": [
    "df.head()"
   ]
  },
  {
   "cell_type": "code",
   "execution_count": null,
   "id": "fdc4469b",
   "metadata": {},
   "outputs": [],
   "source": []
  }
 ],
 "metadata": {
  "kernelspec": {
   "display_name": "Python 3 (ipykernel)",
   "language": "python",
   "name": "python3"
  },
  "language_info": {
   "codemirror_mode": {
    "name": "ipython",
    "version": 3
   },
   "file_extension": ".py",
   "mimetype": "text/x-python",
   "name": "python",
   "nbconvert_exporter": "python",
   "pygments_lexer": "ipython3",
   "version": "3.9.13"
  }
 },
 "nbformat": 4,
 "nbformat_minor": 5
}
