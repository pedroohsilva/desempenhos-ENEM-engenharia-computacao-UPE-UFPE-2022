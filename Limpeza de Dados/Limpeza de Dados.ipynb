{
 "cells": [
  {
   "cell_type": "markdown",
   "id": "27791617",
   "metadata": {},
   "source": [
    "# Limpeza de Dados\n",
    "\n",
    "\n",
    "### Descrição do Conjunto de Dados\n",
    "\n",
    "O conjunto de dados utilizado nesta análise contém informações detalhadas sobre os candidatos aprovados em um processo seletivo do SISU (Sistema de Seleção Unificada). Ele abrange 418 registros, cada um representando um candidato, com as seguintes variáveis:\n",
    "\n",
    "1. **universidade** (*object*): Nome da universidade para a qual o candidato foi aprovado.  \n",
    "2. **campus** (*object*): Identificação do campus associado à universidade.  \n",
    "3. **nota_linguagens** (*float64*): Nota obtida na prova de Linguagens, Códigos e suas Tecnologias.  \n",
    "4. **nota_ciencias_humanas** (*float64*): Nota obtida na prova de Ciências Humanas e suas Tecnologias.  \n",
    "5. **nota_ciencias_natureza** (*float64*): Nota obtida na prova de Ciências da Natureza e suas Tecnologias.  \n",
    "6. **nota_matematica** (*float64*): Nota obtida na prova de Matemática e suas Tecnologias.  \n",
    "7. **nota_redacao** (*float64*): Nota obtida na redação.  \n",
    "8. **nota_final** (*float64*): Média final do candidato, considerando os pesos das notas conforme os critérios do SISU.  \n",
    "9. **sexo** (*object*): Gênero do candidato (masculino ou feminino).  \n",
    "10. **data_nascimento** (*object*): Data de nascimento do candidato.  \n",
    "11. **uf_candidato** (*object*): Unidade federativa de residência do candidato.  \n",
    "12. **modalidade_concorrencia** (*object*): Categoria de concorrência na qual o candidato participou (ex.: ampla concorrência, cotas). \n",
    "\n",
    "### Observação importante:\n",
    "Embora a análise estatística atual utilize principalmente as colunas **universidade** e **nota_final**, é importante ressaltar o potencial de exploração dos demais dados do dataset em futuras versões do projeto. Informações como as notas específicas por área do conhecimento, o perfil demográfico dos candidatos (sexo, UF de origem, data de nascimento) e as modalidades de concorrência oferecem oportunidades para análises mais amplas e aprofundadas. Esses dados poderão ser utilizados para investigar padrões de desempenho por região, disparidades entre categorias de concorrência e outras questões relacionadas à educação superior no Brasil. \n",
    "\n",
    "Assim, este dataset não apenas atende ao objetivo inicial, mas também proporciona uma base rica para extensões analíticas no futuro."
   ]
  },
  {
   "cell_type": "markdown",
   "id": "e4dccd7d",
   "metadata": {},
   "source": [
    "### Importação de Dados:"
   ]
  },
  {
   "cell_type": "code",
   "execution_count": 1,
   "id": "3c1eaf6b",
   "metadata": {},
   "outputs": [],
   "source": [
    "# Importação da bibliteca Pandas para manipulação de dados\n",
    "import pandas as pd"
   ]
  },
  {
   "cell_type": "code",
   "execution_count": 2,
   "id": "03b4c98c",
   "metadata": {},
   "outputs": [],
   "source": [
    "# Formatando saída de dados\n",
    "pd.set_option('display.max_columns', None)\n",
    "pd.set_option('display.max_rows', None)\n",
    "pd.options.display.float_format = '{:.2f}'.format"
   ]
  },
  {
   "cell_type": "code",
   "execution_count": 3,
   "id": "8b8b6283",
   "metadata": {},
   "outputs": [],
   "source": [
    "# Importação de dados\n",
    "df = pd.read_csv('dataframe_sisu.csv')"
   ]
  },
  {
   "cell_type": "markdown",
   "id": "e053bce4",
   "metadata": {},
   "source": [
    "### Verificação do Consumo de Memória do Conjunto de Dados:\n",
    "Ao analisar o consumo de memória do dataset em gigabytes, identifiquei que as variáveis categóricas do tipo object representavam os maiores consumidores de memória. Em especial, as colunas modalidade_concorrencia, campus e nome_curso, juntas, utilizavam mais de 5 gigabytes de RAM. Com base nessa análise, direcionei os próximos passos do processo de limpeza de dados para otimizar o uso de memória de forma eficiente."
   ]
  },
  {
   "cell_type": "code",
   "execution_count": 11,
   "id": "5adcb1a3",
   "metadata": {},
   "outputs": [],
   "source": [
    "# Avaliando o consumo de memória RAM em bytes da máquina para cada variávels do conjunto de dados\n",
    "RAM = df.memory_usage(deep = True)"
   ]
  },
  {
   "cell_type": "code",
   "execution_count": 13,
   "id": "bf22607d",
   "metadata": {},
   "outputs": [
    {
     "name": "stdout",
     "output_type": "stream",
     "text": [
      "modalidade_concorrencia    25892\n",
      "campus                     15581\n",
      "nome_curso                 14490\n",
      "data_nascimento             9246\n",
      "universidade                8381\n",
      "uf_candidato                8142\n",
      "sexo                        8004\n",
      "id_municipio_candidato      1104\n",
      "nota_linguagens             1104\n",
      "nota_ciencias_humanas       1104\n",
      "nota_ciencias_natureza      1104\n",
      "nota_matematica             1104\n",
      "nota_redacao                1104\n",
      "nota_corte                  1104\n",
      "nota                        1104\n",
      "Index                        128\n",
      "dtype: int64\n"
     ]
    }
   ],
   "source": [
    "# Resultados ordenados\n",
    "RAM_sorted = RAM.sort_values(ascending=False)\n",
    "print(RAM_sorted)"
   ]
  },
  {
   "cell_type": "code",
   "execution_count": 14,
   "id": "46b219f2",
   "metadata": {},
   "outputs": [
    {
     "data": {
      "text/plain": [
       "98696"
      ]
     },
     "execution_count": 14,
     "metadata": {},
     "output_type": "execute_result"
    }
   ],
   "source": [
    "# Consumo total em Bytes\n",
    "RAM.sum()"
   ]
  },
  {
   "cell_type": "code",
   "execution_count": 19,
   "id": "bc33f47c",
   "metadata": {},
   "outputs": [
    {
     "data": {
      "text/plain": [
       "9.191781282424927e-05"
      ]
     },
     "execution_count": 19,
     "metadata": {},
     "output_type": "execute_result"
    }
   ],
   "source": [
    "# Convertendo bytes para GigaBytes\n",
    "RAM_GB = RAM.sum() / (1024 ** 3)\n",
    "RAM_GB"
   ]
  },
  {
   "cell_type": "code",
   "execution_count": 20,
   "id": "e08eda9f",
   "metadata": {},
   "outputs": [
    {
     "data": {
      "text/plain": [
       "modalidade_concorrencia   26.23\n",
       "campus                    15.79\n",
       "nome_curso                14.68\n",
       "data_nascimento            9.37\n",
       "universidade               8.49\n",
       "uf_candidato               8.25\n",
       "sexo                       8.11\n",
       "id_municipio_candidato     1.12\n",
       "nota_linguagens            1.12\n",
       "nota_ciencias_humanas      1.12\n",
       "nota_ciencias_natureza     1.12\n",
       "nota_matematica            1.12\n",
       "nota_redacao               1.12\n",
       "nota_corte                 1.12\n",
       "nota                       1.12\n",
       "Index                      0.13\n",
       "dtype: float64"
      ]
     },
     "execution_count": 20,
     "metadata": {},
     "output_type": "execute_result"
    }
   ],
   "source": [
    "# Consumo de memória por variável em porcentagem\n",
    "RAM_sorted / RAM.sum() * 100"
   ]
  },
  {
   "cell_type": "markdown",
   "id": "cabbccad",
   "metadata": {},
   "source": [
    "### Compreendendo o Conjunto de Dados:"
   ]
  },
  {
   "cell_type": "code",
   "execution_count": 7,
   "id": "b18c0320",
   "metadata": {},
   "outputs": [
    {
     "name": "stdout",
     "output_type": "stream",
     "text": [
      "O conjunto de dados possui 138 linhas e 15 colunas.\n"
     ]
    }
   ],
   "source": [
    "# Visualizando forma do dataset em número de linhas e colunas\n",
    "sp = df.shape\n",
    "print(f\"O conjunto de dados possui {sp[0]} linhas e {sp[1]} colunas.\")"
   ]
  },
  {
   "cell_type": "code",
   "execution_count": 8,
   "id": "dbd2f2c5",
   "metadata": {},
   "outputs": [
    {
     "data": {
      "text/html": [
       "<div>\n",
       "<style scoped>\n",
       "    .dataframe tbody tr th:only-of-type {\n",
       "        vertical-align: middle;\n",
       "    }\n",
       "\n",
       "    .dataframe tbody tr th {\n",
       "        vertical-align: top;\n",
       "    }\n",
       "\n",
       "    .dataframe thead th {\n",
       "        text-align: right;\n",
       "    }\n",
       "</style>\n",
       "<table border=\"1\" class=\"dataframe\">\n",
       "  <thead>\n",
       "    <tr style=\"text-align: right;\">\n",
       "      <th></th>\n",
       "      <th>data_nascimento</th>\n",
       "      <th>sexo</th>\n",
       "      <th>modalidade_concorrencia</th>\n",
       "      <th>id_municipio_candidato</th>\n",
       "      <th>uf_candidato</th>\n",
       "      <th>nota_linguagens</th>\n",
       "      <th>nota_ciencias_humanas</th>\n",
       "      <th>nota_ciencias_natureza</th>\n",
       "      <th>nota_matematica</th>\n",
       "      <th>nota_redacao</th>\n",
       "      <th>nota_corte</th>\n",
       "      <th>nota</th>\n",
       "      <th>nome_curso</th>\n",
       "      <th>universidade</th>\n",
       "      <th>campus</th>\n",
       "    </tr>\n",
       "  </thead>\n",
       "  <tbody>\n",
       "    <tr>\n",
       "      <th>0</th>\n",
       "      <td>2003-02-07</td>\n",
       "      <td>M</td>\n",
       "      <td>Ampla concorrência</td>\n",
       "      <td>1501402</td>\n",
       "      <td>PA</td>\n",
       "      <td>635.80</td>\n",
       "      <td>714.80</td>\n",
       "      <td>693.30</td>\n",
       "      <td>803.20</td>\n",
       "      <td>900.00</td>\n",
       "      <td>770.26</td>\n",
       "      <td>775.00</td>\n",
       "      <td>ENGENHARIA DA COMPUTAÇÃO</td>\n",
       "      <td>UFPE</td>\n",
       "      <td>Campus Universitário Cidade do Recife</td>\n",
       "    </tr>\n",
       "    <tr>\n",
       "      <th>1</th>\n",
       "      <td>1996-07-03</td>\n",
       "      <td>F</td>\n",
       "      <td>egressos de escolas públicas da rede federal. ...</td>\n",
       "      <td>2927408</td>\n",
       "      <td>BA</td>\n",
       "      <td>634.80</td>\n",
       "      <td>677.10</td>\n",
       "      <td>672.90</td>\n",
       "      <td>648.90</td>\n",
       "      <td>880.00</td>\n",
       "      <td>677.24</td>\n",
       "      <td>702.74</td>\n",
       "      <td>ENGENHARIA DA COMPUTAÇÃO</td>\n",
       "      <td>UPE</td>\n",
       "      <td>ESCOLA POLITÉCNICA</td>\n",
       "    </tr>\n",
       "    <tr>\n",
       "      <th>2</th>\n",
       "      <td>2004-05-19</td>\n",
       "      <td>M</td>\n",
       "      <td>Ampla concorrência</td>\n",
       "      <td>2211001</td>\n",
       "      <td>PI</td>\n",
       "      <td>641.50</td>\n",
       "      <td>679.60</td>\n",
       "      <td>682.20</td>\n",
       "      <td>826.30</td>\n",
       "      <td>780.00</td>\n",
       "      <td>721.92</td>\n",
       "      <td>721.92</td>\n",
       "      <td>ENGENHARIA DA COMPUTAÇÃO</td>\n",
       "      <td>UPE</td>\n",
       "      <td>ESCOLA POLITÉCNICA</td>\n",
       "    </tr>\n",
       "    <tr>\n",
       "      <th>3</th>\n",
       "      <td>2002-01-12</td>\n",
       "      <td>F</td>\n",
       "      <td>Ampla concorrência</td>\n",
       "      <td>2211001</td>\n",
       "      <td>PI</td>\n",
       "      <td>697.40</td>\n",
       "      <td>667.50</td>\n",
       "      <td>704.10</td>\n",
       "      <td>823.80</td>\n",
       "      <td>960.00</td>\n",
       "      <td>770.26</td>\n",
       "      <td>798.83</td>\n",
       "      <td>ENGENHARIA DA COMPUTAÇÃO</td>\n",
       "      <td>UFPE</td>\n",
       "      <td>Campus Universitário Cidade do Recife</td>\n",
       "    </tr>\n",
       "    <tr>\n",
       "      <th>4</th>\n",
       "      <td>1999-01-09</td>\n",
       "      <td>M</td>\n",
       "      <td>Ampla concorrência</td>\n",
       "      <td>2211001</td>\n",
       "      <td>PI</td>\n",
       "      <td>630.50</td>\n",
       "      <td>651.60</td>\n",
       "      <td>677.60</td>\n",
       "      <td>797.20</td>\n",
       "      <td>940.00</td>\n",
       "      <td>770.26</td>\n",
       "      <td>770.61</td>\n",
       "      <td>ENGENHARIA DA COMPUTAÇÃO</td>\n",
       "      <td>UFPE</td>\n",
       "      <td>Campus Universitário Cidade do Recife</td>\n",
       "    </tr>\n",
       "  </tbody>\n",
       "</table>\n",
       "</div>"
      ],
      "text/plain": [
       "  data_nascimento sexo                            modalidade_concorrencia  \\\n",
       "0      2003-02-07    M                                 Ampla concorrência   \n",
       "1      1996-07-03    F  egressos de escolas públicas da rede federal. ...   \n",
       "2      2004-05-19    M                                 Ampla concorrência   \n",
       "3      2002-01-12    F                                 Ampla concorrência   \n",
       "4      1999-01-09    M                                 Ampla concorrência   \n",
       "\n",
       "   id_municipio_candidato uf_candidato  nota_linguagens  \\\n",
       "0                 1501402           PA           635.80   \n",
       "1                 2927408           BA           634.80   \n",
       "2                 2211001           PI           641.50   \n",
       "3                 2211001           PI           697.40   \n",
       "4                 2211001           PI           630.50   \n",
       "\n",
       "   nota_ciencias_humanas  nota_ciencias_natureza  nota_matematica  \\\n",
       "0                 714.80                  693.30           803.20   \n",
       "1                 677.10                  672.90           648.90   \n",
       "2                 679.60                  682.20           826.30   \n",
       "3                 667.50                  704.10           823.80   \n",
       "4                 651.60                  677.60           797.20   \n",
       "\n",
       "   nota_redacao  nota_corte   nota                nome_curso universidade  \\\n",
       "0        900.00      770.26 775.00  ENGENHARIA DA COMPUTAÇÃO         UFPE   \n",
       "1        880.00      677.24 702.74  ENGENHARIA DA COMPUTAÇÃO          UPE   \n",
       "2        780.00      721.92 721.92  ENGENHARIA DA COMPUTAÇÃO          UPE   \n",
       "3        960.00      770.26 798.83  ENGENHARIA DA COMPUTAÇÃO         UFPE   \n",
       "4        940.00      770.26 770.61  ENGENHARIA DA COMPUTAÇÃO         UFPE   \n",
       "\n",
       "                                  campus  \n",
       "0  Campus Universitário Cidade do Recife  \n",
       "1                     ESCOLA POLITÉCNICA  \n",
       "2                     ESCOLA POLITÉCNICA  \n",
       "3  Campus Universitário Cidade do Recife  \n",
       "4  Campus Universitário Cidade do Recife  "
      ]
     },
     "execution_count": 8,
     "metadata": {},
     "output_type": "execute_result"
    }
   ],
   "source": [
    "# Visualizando cabeçalho do conjunto de dados\n",
    "df.head(5)"
   ]
  },
  {
   "cell_type": "code",
   "execution_count": 6,
   "id": "c3a8d533",
   "metadata": {},
   "outputs": [
    {
     "name": "stdout",
     "output_type": "stream",
     "text": [
      "<class 'pandas.core.frame.DataFrame'>\n",
      "RangeIndex: 418 entries, 0 to 417\n",
      "Data columns (total 12 columns):\n",
      " #   Column                   Non-Null Count  Dtype  \n",
      "---  ------                   --------------  -----  \n",
      " 0   universidade             418 non-null    object \n",
      " 1   campus                   418 non-null    object \n",
      " 2   nota_linguagens          418 non-null    float64\n",
      " 3   nota_ciencias_humanas    418 non-null    float64\n",
      " 4   nota_ciencias_natureza   418 non-null    float64\n",
      " 5   nota_matematica          418 non-null    float64\n",
      " 6   nota_redacao             418 non-null    float64\n",
      " 7   nota_final               418 non-null    float64\n",
      " 8   sexo                     418 non-null    object \n",
      " 9   data_nascimento          418 non-null    object \n",
      " 10  uf_candidato             418 non-null    object \n",
      " 11  modalidade_concorrencia  418 non-null    object \n",
      "dtypes: float64(6), object(6)\n",
      "memory usage: 39.3+ KB\n"
     ]
    }
   ],
   "source": [
    "# Informações gerais sobre os dados\n",
    "df.info()"
   ]
  },
  {
   "cell_type": "markdown",
   "id": "5d31c4f4",
   "metadata": {},
   "source": [
    "### Limpeza de Dados:"
   ]
  },
  {
   "cell_type": "code",
   "execution_count": 7,
   "id": "8205db72",
   "metadata": {},
   "outputs": [
    {
     "name": "stdout",
     "output_type": "stream",
     "text": [
      "O conjunto de dados possui 0 linhas duplicadas.\n"
     ]
    }
   ],
   "source": [
    "# Verificação de dados duplicados\n",
    "duplicatas = df.duplicated().sum()\n",
    "print('O conjunto de dados possui', duplicatas, 'linhas duplicadas.')"
   ]
  },
  {
   "cell_type": "code",
   "execution_count": 8,
   "id": "0f815ed2",
   "metadata": {},
   "outputs": [
    {
     "data": {
      "text/plain": [
       "universidade               0\n",
       "campus                     0\n",
       "nota_linguagens            0\n",
       "nota_ciencias_humanas      0\n",
       "nota_ciencias_natureza     0\n",
       "nota_matematica            0\n",
       "nota_redacao               0\n",
       "nota_final                 0\n",
       "sexo                       0\n",
       "data_nascimento            0\n",
       "uf_candidato               0\n",
       "modalidade_concorrencia    0\n",
       "dtype: int64"
      ]
     },
     "execution_count": 8,
     "metadata": {},
     "output_type": "execute_result"
    }
   ],
   "source": [
    "# Verificando valores nulos\n",
    "df.isnull().sum()"
   ]
  },
  {
   "cell_type": "code",
   "execution_count": 11,
   "id": "c3fff034",
   "metadata": {},
   "outputs": [],
   "source": [
    "# Visualizando possíveis linhas com valores nulos\n",
    "\n",
    "# Selecionando linhas com valores nulos\n",
    "linhas_nulas = df[df.isnull().any(axis=1)]\n",
    "\n",
    "# Linhas distintas com nulos (se houver duplicatas)\n",
    "linhas_distintas_nulas = linhas_nulas.drop_duplicates()"
   ]
  },
  {
   "cell_type": "code",
   "execution_count": 12,
   "id": "ce2ad618",
   "metadata": {},
   "outputs": [
    {
     "data": {
      "text/html": [
       "<div>\n",
       "<style scoped>\n",
       "    .dataframe tbody tr th:only-of-type {\n",
       "        vertical-align: middle;\n",
       "    }\n",
       "\n",
       "    .dataframe tbody tr th {\n",
       "        vertical-align: top;\n",
       "    }\n",
       "\n",
       "    .dataframe thead th {\n",
       "        text-align: right;\n",
       "    }\n",
       "</style>\n",
       "<table border=\"1\" class=\"dataframe\">\n",
       "  <thead>\n",
       "    <tr style=\"text-align: right;\">\n",
       "      <th></th>\n",
       "      <th>universidade</th>\n",
       "      <th>campus</th>\n",
       "      <th>nota_linguagens</th>\n",
       "      <th>nota_ciencias_humanas</th>\n",
       "      <th>nota_ciencias_natureza</th>\n",
       "      <th>nota_matematica</th>\n",
       "      <th>nota_redacao</th>\n",
       "      <th>nota_final</th>\n",
       "      <th>sexo</th>\n",
       "      <th>data_nascimento</th>\n",
       "      <th>uf_candidato</th>\n",
       "      <th>modalidade_concorrencia</th>\n",
       "    </tr>\n",
       "  </thead>\n",
       "  <tbody>\n",
       "  </tbody>\n",
       "</table>\n",
       "</div>"
      ],
      "text/plain": [
       "Empty DataFrame\n",
       "Columns: [universidade, campus, nota_linguagens, nota_ciencias_humanas, nota_ciencias_natureza, nota_matematica, nota_redacao, nota_final, sexo, data_nascimento, uf_candidato, modalidade_concorrencia]\n",
       "Index: []"
      ]
     },
     "execution_count": 12,
     "metadata": {},
     "output_type": "execute_result"
    }
   ],
   "source": [
    "linhas_distintas_nulas"
   ]
  },
  {
   "cell_type": "markdown",
   "id": "1677293a",
   "metadata": {},
   "source": [
    "### Normalizando colunas de texto:"
   ]
  },
  {
   "cell_type": "markdown",
   "id": "a9e0c1cf",
   "metadata": {},
   "source": [
    "Garanti que as colunas de texto, como `'campus'`, `'modalidade_concorrencia'` e `'nome_curso'`, estejam padronizadas (letras maiúsculas/minúsculas, sem espaços extras)."
   ]
  },
  {
   "cell_type": "code",
   "execution_count": 13,
   "id": "cfb52177",
   "metadata": {},
   "outputs": [],
   "source": [
    "df['campus'] = df['campus'].str.strip().str.title()"
   ]
  },
  {
   "cell_type": "code",
   "execution_count": 14,
   "id": "21e1d459",
   "metadata": {},
   "outputs": [],
   "source": [
    "df['modalidade_concorrencia'] = df['modalidade_concorrencia'].str.strip().str.title()"
   ]
  },
  {
   "cell_type": "code",
   "execution_count": null,
   "id": "ce1fcec7",
   "metadata": {},
   "outputs": [],
   "source": [
    "df['sigla_ies'] = df['sigla_ies'].str.strip().str.upper()"
   ]
  },
  {
   "cell_type": "code",
   "execution_count": 17,
   "id": "c9ab95f5",
   "metadata": {},
   "outputs": [],
   "source": [
    "df['uf_candidato'] = df['uf_candidato'].str.strip().str.upper()"
   ]
  },
  {
   "cell_type": "markdown",
   "id": "7ef8bde5",
   "metadata": {},
   "source": [
    "#### Verificando resultados:"
   ]
  },
  {
   "cell_type": "code",
   "execution_count": 18,
   "id": "c3c56a08",
   "metadata": {},
   "outputs": [
    {
     "data": {
      "text/html": [
       "<div>\n",
       "<style scoped>\n",
       "    .dataframe tbody tr th:only-of-type {\n",
       "        vertical-align: middle;\n",
       "    }\n",
       "\n",
       "    .dataframe tbody tr th {\n",
       "        vertical-align: top;\n",
       "    }\n",
       "\n",
       "    .dataframe thead th {\n",
       "        text-align: right;\n",
       "    }\n",
       "</style>\n",
       "<table border=\"1\" class=\"dataframe\">\n",
       "  <thead>\n",
       "    <tr style=\"text-align: right;\">\n",
       "      <th></th>\n",
       "      <th>universidade</th>\n",
       "      <th>campus</th>\n",
       "      <th>nota_linguagens</th>\n",
       "      <th>nota_ciencias_humanas</th>\n",
       "      <th>nota_ciencias_natureza</th>\n",
       "      <th>nota_matematica</th>\n",
       "      <th>nota_redacao</th>\n",
       "      <th>nota_final</th>\n",
       "      <th>sexo</th>\n",
       "      <th>data_nascimento</th>\n",
       "      <th>uf_candidato</th>\n",
       "      <th>modalidade_concorrencia</th>\n",
       "    </tr>\n",
       "  </thead>\n",
       "  <tbody>\n",
       "    <tr>\n",
       "      <th>0</th>\n",
       "      <td>UPE</td>\n",
       "      <td>Escola Politécnica</td>\n",
       "      <td>560.50</td>\n",
       "      <td>551.30</td>\n",
       "      <td>476.50</td>\n",
       "      <td>410.10</td>\n",
       "      <td>580.00</td>\n",
       "      <td>515.68</td>\n",
       "      <td>F</td>\n",
       "      <td>2001-06-01</td>\n",
       "      <td>SP</td>\n",
       "      <td>Egressos De Escolas Públicas Da Rede Federal. ...</td>\n",
       "    </tr>\n",
       "    <tr>\n",
       "      <th>1</th>\n",
       "      <td>UPE</td>\n",
       "      <td>Escola Politécnica</td>\n",
       "      <td>496.60</td>\n",
       "      <td>355.70</td>\n",
       "      <td>573.40</td>\n",
       "      <td>745.70</td>\n",
       "      <td>720.00</td>\n",
       "      <td>578.28</td>\n",
       "      <td>M</td>\n",
       "      <td>2002-10-19</td>\n",
       "      <td>SP</td>\n",
       "      <td>Ampla Concorrência</td>\n",
       "    </tr>\n",
       "    <tr>\n",
       "      <th>2</th>\n",
       "      <td>UFPE</td>\n",
       "      <td>Campus Universitário Cidade Do Recife</td>\n",
       "      <td>506.90</td>\n",
       "      <td>579.50</td>\n",
       "      <td>512.60</td>\n",
       "      <td>623.20</td>\n",
       "      <td>580.00</td>\n",
       "      <td>576.44</td>\n",
       "      <td>M</td>\n",
       "      <td>2003-01-21</td>\n",
       "      <td>SP</td>\n",
       "      <td>Candidatos Com Renda Familiar Bruta Per Capita...</td>\n",
       "    </tr>\n",
       "    <tr>\n",
       "      <th>3</th>\n",
       "      <td>UFPE</td>\n",
       "      <td>Campus Universitário Cidade Do Recife</td>\n",
       "      <td>616.10</td>\n",
       "      <td>607.40</td>\n",
       "      <td>555.40</td>\n",
       "      <td>747.30</td>\n",
       "      <td>820.00</td>\n",
       "      <td>696.35</td>\n",
       "      <td>M</td>\n",
       "      <td>2003-01-23</td>\n",
       "      <td>MG</td>\n",
       "      <td>Ampla Concorrência</td>\n",
       "    </tr>\n",
       "    <tr>\n",
       "      <th>4</th>\n",
       "      <td>UFPE</td>\n",
       "      <td>Campus Universitário Cidade Do Recife</td>\n",
       "      <td>588.50</td>\n",
       "      <td>648.60</td>\n",
       "      <td>547.10</td>\n",
       "      <td>651.00</td>\n",
       "      <td>820.00</td>\n",
       "      <td>657.53</td>\n",
       "      <td>M</td>\n",
       "      <td>2004-12-26</td>\n",
       "      <td>TO</td>\n",
       "      <td>Candidatos Autodeclarados Pretos. Pardos Ou In...</td>\n",
       "    </tr>\n",
       "  </tbody>\n",
       "</table>\n",
       "</div>"
      ],
      "text/plain": [
       "  universidade                                 campus  nota_linguagens  \\\n",
       "0          UPE                     Escola Politécnica           560.50   \n",
       "1          UPE                     Escola Politécnica           496.60   \n",
       "2         UFPE  Campus Universitário Cidade Do Recife           506.90   \n",
       "3         UFPE  Campus Universitário Cidade Do Recife           616.10   \n",
       "4         UFPE  Campus Universitário Cidade Do Recife           588.50   \n",
       "\n",
       "   nota_ciencias_humanas  nota_ciencias_natureza  nota_matematica  \\\n",
       "0                 551.30                  476.50           410.10   \n",
       "1                 355.70                  573.40           745.70   \n",
       "2                 579.50                  512.60           623.20   \n",
       "3                 607.40                  555.40           747.30   \n",
       "4                 648.60                  547.10           651.00   \n",
       "\n",
       "   nota_redacao  nota_final sexo data_nascimento uf_candidato  \\\n",
       "0        580.00      515.68    F      2001-06-01           SP   \n",
       "1        720.00      578.28    M      2002-10-19           SP   \n",
       "2        580.00      576.44    M      2003-01-21           SP   \n",
       "3        820.00      696.35    M      2003-01-23           MG   \n",
       "4        820.00      657.53    M      2004-12-26           TO   \n",
       "\n",
       "                             modalidade_concorrencia  \n",
       "0  Egressos De Escolas Públicas Da Rede Federal. ...  \n",
       "1                                 Ampla Concorrência  \n",
       "2  Candidatos Com Renda Familiar Bruta Per Capita...  \n",
       "3                                 Ampla Concorrência  \n",
       "4  Candidatos Autodeclarados Pretos. Pardos Ou In...  "
      ]
     },
     "execution_count": 18,
     "metadata": {},
     "output_type": "execute_result"
    }
   ],
   "source": [
    "# Visualizando as primeiras 5 linhas do dataframe\n",
    "df.head(5)"
   ]
  },
  {
   "cell_type": "markdown",
   "id": "e960d4d6",
   "metadata": {},
   "source": [
    "### Conversão dos tipos de dados e otimização de memória:\n",
    "\n",
    "Podemos realizar a conversão dos tipos de dados necessários apenas após o tratamento dos valores ausentes. Isso ocorre porque, ao tentar converter esses valores para o tipo `int`, o Python lança um erro, já que o tipo inteiro não é capaz de representar valores indefinidos ou infinitos, o que resulta em falhas na conversão.  \n",
    "\n",
    "Dessa forma, após o tratamento de valores faltantes, objetivando facilitar as futuras análises e otimizar memória e capacidade de processamento da máquina local, identifiquei que as colunas categórias e quantitativas discretas poderiam ter seus tipos de dados convertidos."
   ]
  },
  {
   "cell_type": "markdown",
   "id": "10b23be0",
   "metadata": {},
   "source": [
    "#### Verificando resultados:"
   ]
  },
  {
   "cell_type": "code",
   "execution_count": 122,
   "id": "c0f53045",
   "metadata": {},
   "outputs": [
    {
     "name": "stdout",
     "output_type": "stream",
     "text": [
      "<class 'pandas.core.frame.DataFrame'>\n",
      "Int64Index: 1833 entries, 0 to 1833\n",
      "Data columns (total 10 columns):\n",
      " #   Column                   Non-Null Count  Dtype  \n",
      "---  ------                   --------------  -----  \n",
      " 0   nota_candidato           1833 non-null   float64\n",
      " 1   sexo                     1833 non-null   object \n",
      " 2   modalidade_concorrencia  1833 non-null   object \n",
      " 3   sigla_uf_candidato       1833 non-null   object \n",
      " 4   id_municipio_candidato   1833 non-null   int32  \n",
      " 5   data_nascimento          1833 non-null   object \n",
      " 6   status_aprovado          1833 non-null   bool   \n",
      " 7   nome_curso               1833 non-null   object \n",
      " 8   sigla_ies                1833 non-null   object \n",
      " 9   campus                   1833 non-null   object \n",
      "dtypes: bool(1), float64(1), int32(1), object(7)\n",
      "memory usage: 137.8+ KB\n"
     ]
    }
   ],
   "source": [
    "# Visualizando as primeiras 5 linhas do dataframe\n",
    "df.info()"
   ]
  },
  {
   "cell_type": "markdown",
   "id": "1779cb39",
   "metadata": {},
   "source": [
    "### Substituição de dados:\n",
    "Garanti a padronização dos dados categóricos, como `'sexo'` e `'status_aprovado'`, essenciais nos próximos passos das análises."
   ]
  },
  {
   "cell_type": "code",
   "execution_count": 129,
   "id": "4468a531",
   "metadata": {},
   "outputs": [],
   "source": [
    "# Substituindo o valor True por Aprovado na coluna 'status_aprovado'\n",
    "df['status_aprovado'] = df['status_aprovado'].replace(True, 'Aprovado')"
   ]
  },
  {
   "cell_type": "code",
   "execution_count": 130,
   "id": "78f261ae",
   "metadata": {},
   "outputs": [],
   "source": [
    "# Substituindo 'M' por 'Masculino' na coluna 'sexo'\n",
    "df['sexo'] = df['sexo'].replace('M', 'Masculino')"
   ]
  },
  {
   "cell_type": "code",
   "execution_count": 131,
   "id": "ef626c3d",
   "metadata": {},
   "outputs": [],
   "source": [
    "# Substituindo 'F' por 'Feminino' na coluna 'sexo'\n",
    "df['sexo'] = df['sexo'].replace('F', 'Feminino')"
   ]
  },
  {
   "cell_type": "markdown",
   "id": "3abeff95",
   "metadata": {},
   "source": [
    "#### Verificando resultados:"
   ]
  },
  {
   "cell_type": "code",
   "execution_count": 132,
   "id": "725c5d12",
   "metadata": {},
   "outputs": [
    {
     "data": {
      "text/html": [
       "<div>\n",
       "<style scoped>\n",
       "    .dataframe tbody tr th:only-of-type {\n",
       "        vertical-align: middle;\n",
       "    }\n",
       "\n",
       "    .dataframe tbody tr th {\n",
       "        vertical-align: top;\n",
       "    }\n",
       "\n",
       "    .dataframe thead th {\n",
       "        text-align: right;\n",
       "    }\n",
       "</style>\n",
       "<table border=\"1\" class=\"dataframe\">\n",
       "  <thead>\n",
       "    <tr style=\"text-align: right;\">\n",
       "      <th></th>\n",
       "      <th>nota_candidato</th>\n",
       "      <th>sexo</th>\n",
       "      <th>modalidade_concorrencia</th>\n",
       "      <th>sigla_uf_candidato</th>\n",
       "      <th>id_municipio_candidato</th>\n",
       "      <th>data_nascimento</th>\n",
       "      <th>status_aprovado</th>\n",
       "      <th>nome_curso</th>\n",
       "      <th>sigla_ies</th>\n",
       "      <th>campus</th>\n",
       "    </tr>\n",
       "  </thead>\n",
       "  <tbody>\n",
       "    <tr>\n",
       "      <th>0</th>\n",
       "      <td>803.65</td>\n",
       "      <td>Masculino</td>\n",
       "      <td>Ampla Concorrência</td>\n",
       "      <td>SE</td>\n",
       "      <td>2800308</td>\n",
       "      <td>2003-10-26</td>\n",
       "      <td>Aprovado</td>\n",
       "      <td>Ciência Da Computação</td>\n",
       "      <td>UFPE</td>\n",
       "      <td>Campus Universitário Cidade Do Recife</td>\n",
       "    </tr>\n",
       "    <tr>\n",
       "      <th>1</th>\n",
       "      <td>683.61</td>\n",
       "      <td>Masculino</td>\n",
       "      <td>Candidatos Autodeclarados Pretos. Pardos Ou In...</td>\n",
       "      <td>SE</td>\n",
       "      <td>2800308</td>\n",
       "      <td>2002-01-15</td>\n",
       "      <td>Aprovado</td>\n",
       "      <td>Ciência Da Computação</td>\n",
       "      <td>UFPE</td>\n",
       "      <td>Campus Universitário Cidade Do Recife</td>\n",
       "    </tr>\n",
       "    <tr>\n",
       "      <th>2</th>\n",
       "      <td>712.40</td>\n",
       "      <td>Masculino</td>\n",
       "      <td>Candidatos Autodeclarados Pretos. Pardos Ou In...</td>\n",
       "      <td>GO</td>\n",
       "      <td>5201405</td>\n",
       "      <td>2002-05-02</td>\n",
       "      <td>Aprovado</td>\n",
       "      <td>Ciência Da Computação</td>\n",
       "      <td>UFPE</td>\n",
       "      <td>Campus Universitário Cidade Do Recife</td>\n",
       "    </tr>\n",
       "    <tr>\n",
       "      <th>3</th>\n",
       "      <td>699.37</td>\n",
       "      <td>Masculino</td>\n",
       "      <td>Candidatos Autodeclarados Pretos. Pardos Ou In...</td>\n",
       "      <td>PA</td>\n",
       "      <td>1501402</td>\n",
       "      <td>2000-01-10</td>\n",
       "      <td>Aprovado</td>\n",
       "      <td>Ciência Da Computação</td>\n",
       "      <td>UFPE</td>\n",
       "      <td>Campus Universitário Cidade Do Recife</td>\n",
       "    </tr>\n",
       "    <tr>\n",
       "      <th>4</th>\n",
       "      <td>652.58</td>\n",
       "      <td>Masculino</td>\n",
       "      <td>Ampla Concorrência</td>\n",
       "      <td>PA</td>\n",
       "      <td>1500800</td>\n",
       "      <td>2000-11-16</td>\n",
       "      <td>Aprovado</td>\n",
       "      <td>Ciência Da Computação</td>\n",
       "      <td>UFPE</td>\n",
       "      <td>Campus Universitário Cidade Do Recife</td>\n",
       "    </tr>\n",
       "  </tbody>\n",
       "</table>\n",
       "</div>"
      ],
      "text/plain": [
       "   nota_candidato       sexo  \\\n",
       "0          803.65  Masculino   \n",
       "1          683.61  Masculino   \n",
       "2          712.40  Masculino   \n",
       "3          699.37  Masculino   \n",
       "4          652.58  Masculino   \n",
       "\n",
       "                             modalidade_concorrencia sigla_uf_candidato  \\\n",
       "0                                 Ampla Concorrência                 SE   \n",
       "1  Candidatos Autodeclarados Pretos. Pardos Ou In...                 SE   \n",
       "2  Candidatos Autodeclarados Pretos. Pardos Ou In...                 GO   \n",
       "3  Candidatos Autodeclarados Pretos. Pardos Ou In...                 PA   \n",
       "4                                 Ampla Concorrência                 PA   \n",
       "\n",
       "   id_municipio_candidato data_nascimento status_aprovado  \\\n",
       "0                 2800308      2003-10-26        Aprovado   \n",
       "1                 2800308      2002-01-15        Aprovado   \n",
       "2                 5201405      2002-05-02        Aprovado   \n",
       "3                 1501402      2000-01-10        Aprovado   \n",
       "4                 1500800      2000-11-16        Aprovado   \n",
       "\n",
       "              nome_curso sigla_ies                                 campus  \n",
       "0  Ciência Da Computação      UFPE  Campus Universitário Cidade Do Recife  \n",
       "1  Ciência Da Computação      UFPE  Campus Universitário Cidade Do Recife  \n",
       "2  Ciência Da Computação      UFPE  Campus Universitário Cidade Do Recife  \n",
       "3  Ciência Da Computação      UFPE  Campus Universitário Cidade Do Recife  \n",
       "4  Ciência Da Computação      UFPE  Campus Universitário Cidade Do Recife  "
      ]
     },
     "execution_count": 132,
     "metadata": {},
     "output_type": "execute_result"
    }
   ],
   "source": [
    "# Visualizando as primeiras 5 linhas do dataframe\n",
    "df.head(5)"
   ]
  },
  {
   "cell_type": "markdown",
   "id": "ebf43417",
   "metadata": {},
   "source": [
    "#### Importando tabela de códigos de município do IBGE:"
   ]
  },
  {
   "cell_type": "code",
   "execution_count": 133,
   "id": "fe437574",
   "metadata": {},
   "outputs": [],
   "source": [
    "# Carregando o DataFrame com os dados dos municípios do IBGE em Excel\n",
    "df_municipios = pd.read_excel('codigos_municipios_ibge.xlsx', usecols=['Código Município Completo', 'Nome_Município'])"
   ]
  },
  {
   "cell_type": "code",
   "execution_count": 136,
   "id": "ea28dc92",
   "metadata": {},
   "outputs": [
    {
     "data": {
      "text/html": [
       "<div>\n",
       "<style scoped>\n",
       "    .dataframe tbody tr th:only-of-type {\n",
       "        vertical-align: middle;\n",
       "    }\n",
       "\n",
       "    .dataframe tbody tr th {\n",
       "        vertical-align: top;\n",
       "    }\n",
       "\n",
       "    .dataframe thead th {\n",
       "        text-align: right;\n",
       "    }\n",
       "</style>\n",
       "<table border=\"1\" class=\"dataframe\">\n",
       "  <thead>\n",
       "    <tr style=\"text-align: right;\">\n",
       "      <th></th>\n",
       "      <th>Código Município Completo</th>\n",
       "      <th>Nome_Município</th>\n",
       "    </tr>\n",
       "  </thead>\n",
       "  <tbody>\n",
       "    <tr>\n",
       "      <th>0</th>\n",
       "      <td>1100015</td>\n",
       "      <td>Alta Floresta D'Oeste</td>\n",
       "    </tr>\n",
       "    <tr>\n",
       "      <th>1</th>\n",
       "      <td>1100379</td>\n",
       "      <td>Alto Alegre dos Parecis</td>\n",
       "    </tr>\n",
       "    <tr>\n",
       "      <th>2</th>\n",
       "      <td>1100403</td>\n",
       "      <td>Alto Paraíso</td>\n",
       "    </tr>\n",
       "    <tr>\n",
       "      <th>3</th>\n",
       "      <td>1100346</td>\n",
       "      <td>Alvorada D'Oeste</td>\n",
       "    </tr>\n",
       "    <tr>\n",
       "      <th>4</th>\n",
       "      <td>1100023</td>\n",
       "      <td>Ariquemes</td>\n",
       "    </tr>\n",
       "  </tbody>\n",
       "</table>\n",
       "</div>"
      ],
      "text/plain": [
       "   Código Município Completo           Nome_Município\n",
       "0                    1100015    Alta Floresta D'Oeste\n",
       "1                    1100379  Alto Alegre dos Parecis\n",
       "2                    1100403             Alto Paraíso\n",
       "3                    1100346         Alvorada D'Oeste\n",
       "4                    1100023                Ariquemes"
      ]
     },
     "execution_count": 136,
     "metadata": {},
     "output_type": "execute_result"
    }
   ],
   "source": [
    "# Visualizando as primeiras 5 linhas da tabela de municípios\n",
    "df_municipios.head(5)"
   ]
  },
  {
   "cell_type": "markdown",
   "id": "5cfb4a44",
   "metadata": {},
   "source": [
    "#### Substituindo ids do município dos candidatos pelo nome do município:"
   ]
  },
  {
   "cell_type": "code",
   "execution_count": 137,
   "id": "ab773cd3",
   "metadata": {},
   "outputs": [],
   "source": [
    "# Realizando a mesclagem dos DataFrames com base na coluna de IDs\n",
    "df_com_nomes = df.merge(df_municipios, left_on='id_municipio_candidato', right_on='Código Município Completo', how='left')"
   ]
  },
  {
   "cell_type": "code",
   "execution_count": 138,
   "id": "191938fd",
   "metadata": {},
   "outputs": [],
   "source": [
    "# Substituindo a coluna de ID pelo nome do município\n",
    "df_com_nomes['id_municipio_candidato'] = df_com_nomes['Nome_Município']"
   ]
  },
  {
   "cell_type": "code",
   "execution_count": 139,
   "id": "329df30c",
   "metadata": {},
   "outputs": [],
   "source": [
    "# Renomeando coluna 'id_municipio_candidato' para 'municipio_candidato'\n",
    "df_com_nomes = df_com_nomes.rename(columns={'id_municipio_candidato': 'municipio_candidato'})"
   ]
  },
  {
   "cell_type": "code",
   "execution_count": 149,
   "id": "60d944a8",
   "metadata": {},
   "outputs": [
    {
     "data": {
      "text/html": [
       "<div>\n",
       "<style scoped>\n",
       "    .dataframe tbody tr th:only-of-type {\n",
       "        vertical-align: middle;\n",
       "    }\n",
       "\n",
       "    .dataframe tbody tr th {\n",
       "        vertical-align: top;\n",
       "    }\n",
       "\n",
       "    .dataframe thead th {\n",
       "        text-align: right;\n",
       "    }\n",
       "</style>\n",
       "<table border=\"1\" class=\"dataframe\">\n",
       "  <thead>\n",
       "    <tr style=\"text-align: right;\">\n",
       "      <th></th>\n",
       "      <th>nota_candidato</th>\n",
       "      <th>sexo</th>\n",
       "      <th>modalidade_concorrencia</th>\n",
       "      <th>sigla_uf_candidato</th>\n",
       "      <th>municipio_candidato</th>\n",
       "      <th>data_nascimento</th>\n",
       "      <th>status_aprovado</th>\n",
       "      <th>nome_curso</th>\n",
       "      <th>sigla_ies</th>\n",
       "      <th>campus</th>\n",
       "      <th>Código Município Completo</th>\n",
       "      <th>Nome_Município</th>\n",
       "    </tr>\n",
       "  </thead>\n",
       "  <tbody>\n",
       "    <tr>\n",
       "      <th>0</th>\n",
       "      <td>803.65</td>\n",
       "      <td>Masculino</td>\n",
       "      <td>Ampla Concorrência</td>\n",
       "      <td>SE</td>\n",
       "      <td>Aracaju</td>\n",
       "      <td>2003-10-26</td>\n",
       "      <td>Aprovado</td>\n",
       "      <td>Ciência Da Computação</td>\n",
       "      <td>UFPE</td>\n",
       "      <td>Campus Universitário Cidade Do Recife</td>\n",
       "      <td>2800308</td>\n",
       "      <td>Aracaju</td>\n",
       "    </tr>\n",
       "    <tr>\n",
       "      <th>1</th>\n",
       "      <td>683.61</td>\n",
       "      <td>Masculino</td>\n",
       "      <td>Candidatos Autodeclarados Pretos. Pardos Ou In...</td>\n",
       "      <td>SE</td>\n",
       "      <td>Aracaju</td>\n",
       "      <td>2002-01-15</td>\n",
       "      <td>Aprovado</td>\n",
       "      <td>Ciência Da Computação</td>\n",
       "      <td>UFPE</td>\n",
       "      <td>Campus Universitário Cidade Do Recife</td>\n",
       "      <td>2800308</td>\n",
       "      <td>Aracaju</td>\n",
       "    </tr>\n",
       "    <tr>\n",
       "      <th>2</th>\n",
       "      <td>712.40</td>\n",
       "      <td>Masculino</td>\n",
       "      <td>Candidatos Autodeclarados Pretos. Pardos Ou In...</td>\n",
       "      <td>GO</td>\n",
       "      <td>Aparecida de Goiânia</td>\n",
       "      <td>2002-05-02</td>\n",
       "      <td>Aprovado</td>\n",
       "      <td>Ciência Da Computação</td>\n",
       "      <td>UFPE</td>\n",
       "      <td>Campus Universitário Cidade Do Recife</td>\n",
       "      <td>5201405</td>\n",
       "      <td>Aparecida de Goiânia</td>\n",
       "    </tr>\n",
       "    <tr>\n",
       "      <th>3</th>\n",
       "      <td>699.37</td>\n",
       "      <td>Masculino</td>\n",
       "      <td>Candidatos Autodeclarados Pretos. Pardos Ou In...</td>\n",
       "      <td>PA</td>\n",
       "      <td>Belém</td>\n",
       "      <td>2000-01-10</td>\n",
       "      <td>Aprovado</td>\n",
       "      <td>Ciência Da Computação</td>\n",
       "      <td>UFPE</td>\n",
       "      <td>Campus Universitário Cidade Do Recife</td>\n",
       "      <td>1501402</td>\n",
       "      <td>Belém</td>\n",
       "    </tr>\n",
       "    <tr>\n",
       "      <th>4</th>\n",
       "      <td>652.58</td>\n",
       "      <td>Masculino</td>\n",
       "      <td>Ampla Concorrência</td>\n",
       "      <td>PA</td>\n",
       "      <td>Ananindeua</td>\n",
       "      <td>2000-11-16</td>\n",
       "      <td>Aprovado</td>\n",
       "      <td>Ciência Da Computação</td>\n",
       "      <td>UFPE</td>\n",
       "      <td>Campus Universitário Cidade Do Recife</td>\n",
       "      <td>1500800</td>\n",
       "      <td>Ananindeua</td>\n",
       "    </tr>\n",
       "  </tbody>\n",
       "</table>\n",
       "</div>"
      ],
      "text/plain": [
       "   nota_candidato       sexo  \\\n",
       "0          803.65  Masculino   \n",
       "1          683.61  Masculino   \n",
       "2          712.40  Masculino   \n",
       "3          699.37  Masculino   \n",
       "4          652.58  Masculino   \n",
       "\n",
       "                             modalidade_concorrencia sigla_uf_candidato  \\\n",
       "0                                 Ampla Concorrência                 SE   \n",
       "1  Candidatos Autodeclarados Pretos. Pardos Ou In...                 SE   \n",
       "2  Candidatos Autodeclarados Pretos. Pardos Ou In...                 GO   \n",
       "3  Candidatos Autodeclarados Pretos. Pardos Ou In...                 PA   \n",
       "4                                 Ampla Concorrência                 PA   \n",
       "\n",
       "    municipio_candidato data_nascimento status_aprovado  \\\n",
       "0               Aracaju      2003-10-26        Aprovado   \n",
       "1               Aracaju      2002-01-15        Aprovado   \n",
       "2  Aparecida de Goiânia      2002-05-02        Aprovado   \n",
       "3                 Belém      2000-01-10        Aprovado   \n",
       "4            Ananindeua      2000-11-16        Aprovado   \n",
       "\n",
       "              nome_curso sigla_ies                                 campus  \\\n",
       "0  Ciência Da Computação      UFPE  Campus Universitário Cidade Do Recife   \n",
       "1  Ciência Da Computação      UFPE  Campus Universitário Cidade Do Recife   \n",
       "2  Ciência Da Computação      UFPE  Campus Universitário Cidade Do Recife   \n",
       "3  Ciência Da Computação      UFPE  Campus Universitário Cidade Do Recife   \n",
       "4  Ciência Da Computação      UFPE  Campus Universitário Cidade Do Recife   \n",
       "\n",
       "   Código Município Completo        Nome_Município  \n",
       "0                    2800308               Aracaju  \n",
       "1                    2800308               Aracaju  \n",
       "2                    5201405  Aparecida de Goiânia  \n",
       "3                    1501402                 Belém  \n",
       "4                    1500800            Ananindeua  "
      ]
     },
     "execution_count": 149,
     "metadata": {},
     "output_type": "execute_result"
    }
   ],
   "source": [
    "# Verificando resultados\n",
    "df_com_nomes.head()"
   ]
  },
  {
   "cell_type": "markdown",
   "id": "903f6a54",
   "metadata": {},
   "source": [
    "### Remoção de colunas:\n",
    "Removi as colunas `'Código Município Completo'` e `'Nome_Município'` obtidas através da mesclagem entre a tabela de municípios e o dataframe original."
   ]
  },
  {
   "cell_type": "code",
   "execution_count": 154,
   "id": "ee4adb07",
   "metadata": {
    "scrolled": false
   },
   "outputs": [],
   "source": [
    "# Removendo colunas 'Código Município Completo' e 'Nome_Município'\n",
    "df_limpo = df_com_nomes.drop(columns=['Código Município Completo', 'Nome_Município'])"
   ]
  },
  {
   "cell_type": "code",
   "execution_count": 155,
   "id": "3e11afea",
   "metadata": {},
   "outputs": [
    {
     "data": {
      "text/html": [
       "<div>\n",
       "<style scoped>\n",
       "    .dataframe tbody tr th:only-of-type {\n",
       "        vertical-align: middle;\n",
       "    }\n",
       "\n",
       "    .dataframe tbody tr th {\n",
       "        vertical-align: top;\n",
       "    }\n",
       "\n",
       "    .dataframe thead th {\n",
       "        text-align: right;\n",
       "    }\n",
       "</style>\n",
       "<table border=\"1\" class=\"dataframe\">\n",
       "  <thead>\n",
       "    <tr style=\"text-align: right;\">\n",
       "      <th></th>\n",
       "      <th>nota_candidato</th>\n",
       "      <th>sexo</th>\n",
       "      <th>modalidade_concorrencia</th>\n",
       "      <th>sigla_uf_candidato</th>\n",
       "      <th>municipio_candidato</th>\n",
       "      <th>data_nascimento</th>\n",
       "      <th>status_aprovado</th>\n",
       "      <th>nome_curso</th>\n",
       "      <th>sigla_ies</th>\n",
       "      <th>campus</th>\n",
       "    </tr>\n",
       "  </thead>\n",
       "  <tbody>\n",
       "    <tr>\n",
       "      <th>0</th>\n",
       "      <td>803.65</td>\n",
       "      <td>Masculino</td>\n",
       "      <td>Ampla Concorrência</td>\n",
       "      <td>SE</td>\n",
       "      <td>Aracaju</td>\n",
       "      <td>2003-10-26</td>\n",
       "      <td>Aprovado</td>\n",
       "      <td>Ciência Da Computação</td>\n",
       "      <td>UFPE</td>\n",
       "      <td>Campus Universitário Cidade Do Recife</td>\n",
       "    </tr>\n",
       "    <tr>\n",
       "      <th>1</th>\n",
       "      <td>683.61</td>\n",
       "      <td>Masculino</td>\n",
       "      <td>Candidatos Autodeclarados Pretos. Pardos Ou In...</td>\n",
       "      <td>SE</td>\n",
       "      <td>Aracaju</td>\n",
       "      <td>2002-01-15</td>\n",
       "      <td>Aprovado</td>\n",
       "      <td>Ciência Da Computação</td>\n",
       "      <td>UFPE</td>\n",
       "      <td>Campus Universitário Cidade Do Recife</td>\n",
       "    </tr>\n",
       "    <tr>\n",
       "      <th>2</th>\n",
       "      <td>712.40</td>\n",
       "      <td>Masculino</td>\n",
       "      <td>Candidatos Autodeclarados Pretos. Pardos Ou In...</td>\n",
       "      <td>GO</td>\n",
       "      <td>Aparecida de Goiânia</td>\n",
       "      <td>2002-05-02</td>\n",
       "      <td>Aprovado</td>\n",
       "      <td>Ciência Da Computação</td>\n",
       "      <td>UFPE</td>\n",
       "      <td>Campus Universitário Cidade Do Recife</td>\n",
       "    </tr>\n",
       "    <tr>\n",
       "      <th>3</th>\n",
       "      <td>699.37</td>\n",
       "      <td>Masculino</td>\n",
       "      <td>Candidatos Autodeclarados Pretos. Pardos Ou In...</td>\n",
       "      <td>PA</td>\n",
       "      <td>Belém</td>\n",
       "      <td>2000-01-10</td>\n",
       "      <td>Aprovado</td>\n",
       "      <td>Ciência Da Computação</td>\n",
       "      <td>UFPE</td>\n",
       "      <td>Campus Universitário Cidade Do Recife</td>\n",
       "    </tr>\n",
       "    <tr>\n",
       "      <th>4</th>\n",
       "      <td>652.58</td>\n",
       "      <td>Masculino</td>\n",
       "      <td>Ampla Concorrência</td>\n",
       "      <td>PA</td>\n",
       "      <td>Ananindeua</td>\n",
       "      <td>2000-11-16</td>\n",
       "      <td>Aprovado</td>\n",
       "      <td>Ciência Da Computação</td>\n",
       "      <td>UFPE</td>\n",
       "      <td>Campus Universitário Cidade Do Recife</td>\n",
       "    </tr>\n",
       "  </tbody>\n",
       "</table>\n",
       "</div>"
      ],
      "text/plain": [
       "   nota_candidato       sexo  \\\n",
       "0          803.65  Masculino   \n",
       "1          683.61  Masculino   \n",
       "2          712.40  Masculino   \n",
       "3          699.37  Masculino   \n",
       "4          652.58  Masculino   \n",
       "\n",
       "                             modalidade_concorrencia sigla_uf_candidato  \\\n",
       "0                                 Ampla Concorrência                 SE   \n",
       "1  Candidatos Autodeclarados Pretos. Pardos Ou In...                 SE   \n",
       "2  Candidatos Autodeclarados Pretos. Pardos Ou In...                 GO   \n",
       "3  Candidatos Autodeclarados Pretos. Pardos Ou In...                 PA   \n",
       "4                                 Ampla Concorrência                 PA   \n",
       "\n",
       "    municipio_candidato data_nascimento status_aprovado  \\\n",
       "0               Aracaju      2003-10-26        Aprovado   \n",
       "1               Aracaju      2002-01-15        Aprovado   \n",
       "2  Aparecida de Goiânia      2002-05-02        Aprovado   \n",
       "3                 Belém      2000-01-10        Aprovado   \n",
       "4            Ananindeua      2000-11-16        Aprovado   \n",
       "\n",
       "              nome_curso sigla_ies                                 campus  \n",
       "0  Ciência Da Computação      UFPE  Campus Universitário Cidade Do Recife  \n",
       "1  Ciência Da Computação      UFPE  Campus Universitário Cidade Do Recife  \n",
       "2  Ciência Da Computação      UFPE  Campus Universitário Cidade Do Recife  \n",
       "3  Ciência Da Computação      UFPE  Campus Universitário Cidade Do Recife  \n",
       "4  Ciência Da Computação      UFPE  Campus Universitário Cidade Do Recife  "
      ]
     },
     "execution_count": 155,
     "metadata": {},
     "output_type": "execute_result"
    }
   ],
   "source": [
    "# Visualizando as primeiras 5 linhas da tabela de municípios \n",
    "df_limpo.head(5)"
   ]
  },
  {
   "cell_type": "code",
   "execution_count": null,
   "id": "0e6faaf1",
   "metadata": {},
   "outputs": [],
   "source": []
  }
 ],
 "metadata": {
  "kernelspec": {
   "display_name": "Python 3 (ipykernel)",
   "language": "python",
   "name": "python3"
  },
  "language_info": {
   "codemirror_mode": {
    "name": "ipython",
    "version": 3
   },
   "file_extension": ".py",
   "mimetype": "text/x-python",
   "name": "python",
   "nbconvert_exporter": "python",
   "pygments_lexer": "ipython3",
   "version": "3.9.13"
  }
 },
 "nbformat": 4,
 "nbformat_minor": 5
}
