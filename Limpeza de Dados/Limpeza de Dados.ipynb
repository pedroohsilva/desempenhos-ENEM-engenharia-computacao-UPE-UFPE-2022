{
 "cells": [
  {
   "cell_type": "markdown",
   "id": "27791617",
   "metadata": {},
   "source": [
    "## Limpeza de Dados\n",
    "\n",
    "\n",
    "### Sobre o Conjunto de Dados:\n",
    "\n",
    "#### sexo\n",
    "Descrição: Sexo declarado pelo candidato.\n",
    "Tipo: Categórico.\n",
    "#### modalidade_concorrencia\n",
    "Descrição: Modalidade de concorrência escolhida pelo candidato (ex.: ampla concorrência, cotas, etc.).\n",
    "Tipo: Categórico.\n",
    "#### sigla_uf_candidato\n",
    "Descrição: Unidade Federativa (UF) de residência do candidato.\n",
    "Tipo: Texto.\n",
    "#### id_municipio_candidato\n",
    "Descrição: Identificador único do município de residência do candidato.\n",
    "Tipo: Numérico.\n",
    "#### data_nascimento\n",
    "Descrição: Data de nascimento do candidato.\n",
    "Tipo: Data.\n",
    "#### status_aprovado\n",
    "Descrição: Indica se o candidato foi aprovado no curso.\n",
    "Tipo: Booleano (True/False).\n",
    "#### nome_curso\n",
    "Descrição: Nome do curso para o qual o candidato concorreu (neste caso, sempre \"Ciência da Computação\").\n",
    "Tipo: Texto.\n",
    "#### sigla_ies\n",
    "Descrição: Sigla da Instituição de Ensino Superior (IES) para a qual o candidato foi aprovado.\n",
    "Tipo: Texto.\n",
    "#### campus\n",
    "Descrição: Nome do campus da universidade onde o curso é ofertado.\n",
    "Tipo: Texto.\n",
    "\n",
    "\n",
    "### Resumo:\n",
    "\n",
    "Durante o processo de limpeza do DataFrame, comecei analisando a estrutura geral dos dados para entender seu formato e identificar possíveis inconsistências. Inspecionei o conjunto de dados em busca de valores nulos, duplicados e inconsistências nas colunas mais relevantes. Removi duplicatas que poderiam distorcer os resultados e converti os tipos de dados para formatos mais adequados, como datas e categorias. Além disso, adicionei uma nova coluna para calcular a idade dos candidatos com base em suas datas de nascimento, o que permitiu enriquecer as análises subsequentes. Ao final desse processo, garanti que o DataFrame estivesse limpo e consistente, pronto para as etapas de análise exploratória e estatística."
   ]
  },
  {
   "cell_type": "markdown",
   "id": "e4dccd7d",
   "metadata": {},
   "source": [
    "### Importação dos Dados:"
   ]
  },
  {
   "cell_type": "code",
   "execution_count": 92,
   "id": "3c1eaf6b",
   "metadata": {},
   "outputs": [],
   "source": [
    "# Importação da bibliteca Pandas para manipulação de dados\n",
    "import pandas as pd"
   ]
  },
  {
   "cell_type": "code",
   "execution_count": 93,
   "id": "03b4c98c",
   "metadata": {},
   "outputs": [],
   "source": [
    "# Formatando saída de dados\n",
    "pd.set_option('display.max_columns', None)\n",
    "pd.set_option('display.max_rows', None)\n",
    "pd.options.display.float_format = '{:.2f}'.format"
   ]
  },
  {
   "cell_type": "code",
   "execution_count": 94,
   "id": "8b8b6283",
   "metadata": {},
   "outputs": [],
   "source": [
    "# Importação de dados\n",
    "df = pd.read_csv('dataframe_sisu.csv')"
   ]
  },
  {
   "cell_type": "markdown",
   "id": "e053bce4",
   "metadata": {},
   "source": [
    "### Compreendendo o Conjunto de Dados:"
   ]
  },
  {
   "cell_type": "code",
   "execution_count": 95,
   "id": "b18c0320",
   "metadata": {},
   "outputs": [
    {
     "data": {
      "text/plain": [
       "(1834, 10)"
      ]
     },
     "execution_count": 95,
     "metadata": {},
     "output_type": "execute_result"
    }
   ],
   "source": [
    "# Visualizando forma do dataset em número de linhas e colunas\n",
    "df.shape"
   ]
  },
  {
   "cell_type": "code",
   "execution_count": 96,
   "id": "dbd2f2c5",
   "metadata": {},
   "outputs": [
    {
     "data": {
      "text/html": [
       "<div>\n",
       "<style scoped>\n",
       "    .dataframe tbody tr th:only-of-type {\n",
       "        vertical-align: middle;\n",
       "    }\n",
       "\n",
       "    .dataframe tbody tr th {\n",
       "        vertical-align: top;\n",
       "    }\n",
       "\n",
       "    .dataframe thead th {\n",
       "        text-align: right;\n",
       "    }\n",
       "</style>\n",
       "<table border=\"1\" class=\"dataframe\">\n",
       "  <thead>\n",
       "    <tr style=\"text-align: right;\">\n",
       "      <th></th>\n",
       "      <th>nota_candidato</th>\n",
       "      <th>sexo</th>\n",
       "      <th>modalidade_concorrencia</th>\n",
       "      <th>sigla_uf_candidato</th>\n",
       "      <th>id_municipio_candidato</th>\n",
       "      <th>data_nascimento</th>\n",
       "      <th>status_aprovado</th>\n",
       "      <th>nome_curso</th>\n",
       "      <th>sigla_ies</th>\n",
       "      <th>campus</th>\n",
       "    </tr>\n",
       "  </thead>\n",
       "  <tbody>\n",
       "    <tr>\n",
       "      <th>0</th>\n",
       "      <td>803.65</td>\n",
       "      <td>M</td>\n",
       "      <td>Ampla concorrência</td>\n",
       "      <td>SE</td>\n",
       "      <td>2800308.00</td>\n",
       "      <td>2003-10-26</td>\n",
       "      <td>True</td>\n",
       "      <td>CIÊNCIA DA COMPUTAÇÃO</td>\n",
       "      <td>UFPE</td>\n",
       "      <td>Campus Universitário Cidade do Recife</td>\n",
       "    </tr>\n",
       "    <tr>\n",
       "      <th>1</th>\n",
       "      <td>683.61</td>\n",
       "      <td>M</td>\n",
       "      <td>Candidatos autodeclarados pretos. pardos ou in...</td>\n",
       "      <td>SE</td>\n",
       "      <td>2800308.00</td>\n",
       "      <td>2002-01-15</td>\n",
       "      <td>True</td>\n",
       "      <td>CIÊNCIA DA COMPUTAÇÃO</td>\n",
       "      <td>UFPE</td>\n",
       "      <td>Campus Universitário Cidade do Recife</td>\n",
       "    </tr>\n",
       "    <tr>\n",
       "      <th>2</th>\n",
       "      <td>712.40</td>\n",
       "      <td>M</td>\n",
       "      <td>Candidatos autodeclarados pretos. pardos ou in...</td>\n",
       "      <td>GO</td>\n",
       "      <td>5201405.00</td>\n",
       "      <td>2002-05-02</td>\n",
       "      <td>True</td>\n",
       "      <td>CIÊNCIA DA COMPUTAÇÃO</td>\n",
       "      <td>UFPE</td>\n",
       "      <td>Campus Universitário Cidade do Recife</td>\n",
       "    </tr>\n",
       "    <tr>\n",
       "      <th>3</th>\n",
       "      <td>699.37</td>\n",
       "      <td>M</td>\n",
       "      <td>Candidatos autodeclarados pretos. pardos ou in...</td>\n",
       "      <td>PA</td>\n",
       "      <td>1501402.00</td>\n",
       "      <td>2000-01-10</td>\n",
       "      <td>True</td>\n",
       "      <td>CIÊNCIA DA COMPUTAÇÃO</td>\n",
       "      <td>UFPE</td>\n",
       "      <td>Campus Universitário Cidade do Recife</td>\n",
       "    </tr>\n",
       "    <tr>\n",
       "      <th>4</th>\n",
       "      <td>652.58</td>\n",
       "      <td>M</td>\n",
       "      <td>Ampla concorrência</td>\n",
       "      <td>PA</td>\n",
       "      <td>1500800.00</td>\n",
       "      <td>2000-11-16</td>\n",
       "      <td>True</td>\n",
       "      <td>CIÊNCIA DA COMPUTAÇÃO</td>\n",
       "      <td>UFPE</td>\n",
       "      <td>Campus Universitário Cidade do Recife</td>\n",
       "    </tr>\n",
       "  </tbody>\n",
       "</table>\n",
       "</div>"
      ],
      "text/plain": [
       "   nota_candidato sexo                            modalidade_concorrencia  \\\n",
       "0          803.65    M                                 Ampla concorrência   \n",
       "1          683.61    M  Candidatos autodeclarados pretos. pardos ou in...   \n",
       "2          712.40    M  Candidatos autodeclarados pretos. pardos ou in...   \n",
       "3          699.37    M  Candidatos autodeclarados pretos. pardos ou in...   \n",
       "4          652.58    M                                 Ampla concorrência   \n",
       "\n",
       "  sigla_uf_candidato  id_municipio_candidato data_nascimento  status_aprovado  \\\n",
       "0                 SE              2800308.00      2003-10-26             True   \n",
       "1                 SE              2800308.00      2002-01-15             True   \n",
       "2                 GO              5201405.00      2002-05-02             True   \n",
       "3                 PA              1501402.00      2000-01-10             True   \n",
       "4                 PA              1500800.00      2000-11-16             True   \n",
       "\n",
       "              nome_curso sigla_ies                                 campus  \n",
       "0  CIÊNCIA DA COMPUTAÇÃO      UFPE  Campus Universitário Cidade do Recife  \n",
       "1  CIÊNCIA DA COMPUTAÇÃO      UFPE  Campus Universitário Cidade do Recife  \n",
       "2  CIÊNCIA DA COMPUTAÇÃO      UFPE  Campus Universitário Cidade do Recife  \n",
       "3  CIÊNCIA DA COMPUTAÇÃO      UFPE  Campus Universitário Cidade do Recife  \n",
       "4  CIÊNCIA DA COMPUTAÇÃO      UFPE  Campus Universitário Cidade do Recife  "
      ]
     },
     "execution_count": 96,
     "metadata": {},
     "output_type": "execute_result"
    }
   ],
   "source": [
    "# Visualizando cabeçalho do conjunto de dados\n",
    "df.head()"
   ]
  },
  {
   "cell_type": "code",
   "execution_count": 97,
   "id": "c3a8d533",
   "metadata": {},
   "outputs": [
    {
     "name": "stdout",
     "output_type": "stream",
     "text": [
      "<class 'pandas.core.frame.DataFrame'>\n",
      "RangeIndex: 1834 entries, 0 to 1833\n",
      "Data columns (total 10 columns):\n",
      " #   Column                   Non-Null Count  Dtype  \n",
      "---  ------                   --------------  -----  \n",
      " 0   nota_candidato           1834 non-null   float64\n",
      " 1   sexo                     1834 non-null   object \n",
      " 2   modalidade_concorrencia  1834 non-null   object \n",
      " 3   sigla_uf_candidato       1833 non-null   object \n",
      " 4   id_municipio_candidato   1833 non-null   float64\n",
      " 5   data_nascimento          1834 non-null   object \n",
      " 6   status_aprovado          1834 non-null   bool   \n",
      " 7   nome_curso               1834 non-null   object \n",
      " 8   sigla_ies                1834 non-null   object \n",
      " 9   campus                   1834 non-null   object \n",
      "dtypes: bool(1), float64(2), object(7)\n",
      "memory usage: 130.9+ KB\n"
     ]
    }
   ],
   "source": [
    "# Informações gerais sobre os dados\n",
    "df.info()"
   ]
  },
  {
   "cell_type": "markdown",
   "id": "5d31c4f4",
   "metadata": {},
   "source": [
    "### Limpeza de Dados:"
   ]
  },
  {
   "cell_type": "code",
   "execution_count": 98,
   "id": "8205db72",
   "metadata": {},
   "outputs": [
    {
     "name": "stdout",
     "output_type": "stream",
     "text": [
      "O conjunto de dados possui 0 linhas duplicadas.\n"
     ]
    }
   ],
   "source": [
    "# Verificação de dados duplicados\n",
    "duplicatas = df.duplicated().sum()\n",
    "print('O conjunto de dados possui', duplicatas, 'linhas duplicadas.')"
   ]
  },
  {
   "cell_type": "code",
   "execution_count": 99,
   "id": "0f815ed2",
   "metadata": {},
   "outputs": [
    {
     "data": {
      "text/plain": [
       "nota_candidato             0\n",
       "sexo                       0\n",
       "modalidade_concorrencia    0\n",
       "sigla_uf_candidato         1\n",
       "id_municipio_candidato     1\n",
       "data_nascimento            0\n",
       "status_aprovado            0\n",
       "nome_curso                 0\n",
       "sigla_ies                  0\n",
       "campus                     0\n",
       "dtype: int64"
      ]
     },
     "execution_count": 99,
     "metadata": {},
     "output_type": "execute_result"
    }
   ],
   "source": [
    "# Verificando valores nulos\n",
    "df.isnull().sum()"
   ]
  },
  {
   "cell_type": "code",
   "execution_count": 100,
   "id": "c3fff034",
   "metadata": {},
   "outputs": [],
   "source": [
    "# Visualizando linha com valores nulos\n",
    "\n",
    "# Selecionando linhas com valores nulos\n",
    "linhas_nulas = df[df.isnull().any(axis=1)]\n",
    "\n",
    "# Linhas distintas com nulos (se houver duplicatas)\n",
    "linhas_distintas_nulas = linhas_nulas.drop_duplicates()"
   ]
  },
  {
   "cell_type": "code",
   "execution_count": 101,
   "id": "ce2ad618",
   "metadata": {},
   "outputs": [
    {
     "data": {
      "text/html": [
       "<div>\n",
       "<style scoped>\n",
       "    .dataframe tbody tr th:only-of-type {\n",
       "        vertical-align: middle;\n",
       "    }\n",
       "\n",
       "    .dataframe tbody tr th {\n",
       "        vertical-align: top;\n",
       "    }\n",
       "\n",
       "    .dataframe thead th {\n",
       "        text-align: right;\n",
       "    }\n",
       "</style>\n",
       "<table border=\"1\" class=\"dataframe\">\n",
       "  <thead>\n",
       "    <tr style=\"text-align: right;\">\n",
       "      <th></th>\n",
       "      <th>nota_candidato</th>\n",
       "      <th>sexo</th>\n",
       "      <th>modalidade_concorrencia</th>\n",
       "      <th>sigla_uf_candidato</th>\n",
       "      <th>id_municipio_candidato</th>\n",
       "      <th>data_nascimento</th>\n",
       "      <th>status_aprovado</th>\n",
       "      <th>nome_curso</th>\n",
       "      <th>sigla_ies</th>\n",
       "      <th>campus</th>\n",
       "    </tr>\n",
       "  </thead>\n",
       "  <tbody>\n",
       "    <tr>\n",
       "      <th>836</th>\n",
       "      <td>699.48</td>\n",
       "      <td>M</td>\n",
       "      <td>Candidatos autodeclarados pretos. pardos ou in...</td>\n",
       "      <td>NaN</td>\n",
       "      <td>NaN</td>\n",
       "      <td>1999-07-09</td>\n",
       "      <td>True</td>\n",
       "      <td>CIÊNCIA DA COMPUTAÇÃO</td>\n",
       "      <td>UFPE</td>\n",
       "      <td>Campus Universitário Cidade do Recife</td>\n",
       "    </tr>\n",
       "  </tbody>\n",
       "</table>\n",
       "</div>"
      ],
      "text/plain": [
       "     nota_candidato sexo                            modalidade_concorrencia  \\\n",
       "836          699.48    M  Candidatos autodeclarados pretos. pardos ou in...   \n",
       "\n",
       "    sigla_uf_candidato  id_municipio_candidato data_nascimento  \\\n",
       "836                NaN                     NaN      1999-07-09   \n",
       "\n",
       "     status_aprovado             nome_curso sigla_ies  \\\n",
       "836             True  CIÊNCIA DA COMPUTAÇÃO      UFPE   \n",
       "\n",
       "                                    campus  \n",
       "836  Campus Universitário Cidade do Recife  "
      ]
     },
     "execution_count": 101,
     "metadata": {},
     "output_type": "execute_result"
    }
   ],
   "source": [
    "linhas_distintas_nulas"
   ]
  },
  {
   "cell_type": "markdown",
   "id": "dbb38a81",
   "metadata": {},
   "source": [
    "Neste caso, por se tratar de apenas uma linha, optei por remover a linha com valores nulos, uma vez que tal medida não afetaria de forma drástica os resultados."
   ]
  },
  {
   "cell_type": "code",
   "execution_count": 102,
   "id": "10c7e78d",
   "metadata": {},
   "outputs": [],
   "source": [
    "# Removendo linha 836\n",
    "df.drop(836, inplace=True)"
   ]
  },
  {
   "cell_type": "code",
   "execution_count": 103,
   "id": "caed84c6",
   "metadata": {},
   "outputs": [
    {
     "data": {
      "text/plain": [
       "nota_candidato             0\n",
       "sexo                       0\n",
       "modalidade_concorrencia    0\n",
       "sigla_uf_candidato         0\n",
       "id_municipio_candidato     0\n",
       "data_nascimento            0\n",
       "status_aprovado            0\n",
       "nome_curso                 0\n",
       "sigla_ies                  0\n",
       "campus                     0\n",
       "dtype: int64"
      ]
     },
     "execution_count": 103,
     "metadata": {},
     "output_type": "execute_result"
    }
   ],
   "source": [
    "# Verificando remoção\n",
    "df.isnull().sum()"
   ]
  },
  {
   "cell_type": "markdown",
   "id": "a6d99614",
   "metadata": {},
   "source": [
    "Valores nulos removidos com sucesso das colunas `'sigla_uf_candidato'` e `'id_municipio_candidato'`"
   ]
  },
  {
   "cell_type": "markdown",
   "id": "1677293a",
   "metadata": {},
   "source": [
    "### Normalizando colunas de texto:"
   ]
  },
  {
   "cell_type": "markdown",
   "id": "a9e0c1cf",
   "metadata": {},
   "source": [
    "Garanti que as colunas de texto, como `'campus'`, `'modalidade_concorrencia'` e `'nome_curso'`, estejam padronizadas (letras maiúsculas/minúsculas, sem espaços extras)."
   ]
  },
  {
   "cell_type": "code",
   "execution_count": 111,
   "id": "cfb52177",
   "metadata": {},
   "outputs": [],
   "source": [
    "df['campus'] = df['campus'].str.strip().str.title()"
   ]
  },
  {
   "cell_type": "code",
   "execution_count": 112,
   "id": "21e1d459",
   "metadata": {},
   "outputs": [],
   "source": [
    "df['modalidade_concorrencia'] = df['modalidade_concorrencia'].str.strip().str.title()"
   ]
  },
  {
   "cell_type": "code",
   "execution_count": 113,
   "id": "774d86d2",
   "metadata": {},
   "outputs": [],
   "source": [
    "df['nome_curso'] = df['nome_curso'].str.strip().str.title()"
   ]
  },
  {
   "cell_type": "code",
   "execution_count": 114,
   "id": "ce1fcec7",
   "metadata": {},
   "outputs": [],
   "source": [
    "df['sigla_ies'] = df['sigla_ies'].str.strip().str.upper()"
   ]
  },
  {
   "cell_type": "code",
   "execution_count": 115,
   "id": "c9ab95f5",
   "metadata": {},
   "outputs": [],
   "source": [
    "df['sigla_uf_candidato'] = df['sigla_uf_candidato'].str.strip().str.upper()"
   ]
  },
  {
   "cell_type": "markdown",
   "id": "7ef8bde5",
   "metadata": {},
   "source": [
    "#### Verificando resultados:"
   ]
  },
  {
   "cell_type": "code",
   "execution_count": 116,
   "id": "c3c56a08",
   "metadata": {},
   "outputs": [
    {
     "data": {
      "text/html": [
       "<div>\n",
       "<style scoped>\n",
       "    .dataframe tbody tr th:only-of-type {\n",
       "        vertical-align: middle;\n",
       "    }\n",
       "\n",
       "    .dataframe tbody tr th {\n",
       "        vertical-align: top;\n",
       "    }\n",
       "\n",
       "    .dataframe thead th {\n",
       "        text-align: right;\n",
       "    }\n",
       "</style>\n",
       "<table border=\"1\" class=\"dataframe\">\n",
       "  <thead>\n",
       "    <tr style=\"text-align: right;\">\n",
       "      <th></th>\n",
       "      <th>nota_candidato</th>\n",
       "      <th>sexo</th>\n",
       "      <th>modalidade_concorrencia</th>\n",
       "      <th>sigla_uf_candidato</th>\n",
       "      <th>id_municipio_candidato</th>\n",
       "      <th>data_nascimento</th>\n",
       "      <th>status_aprovado</th>\n",
       "      <th>nome_curso</th>\n",
       "      <th>sigla_ies</th>\n",
       "      <th>campus</th>\n",
       "    </tr>\n",
       "  </thead>\n",
       "  <tbody>\n",
       "    <tr>\n",
       "      <th>0</th>\n",
       "      <td>803.65</td>\n",
       "      <td>M</td>\n",
       "      <td>Ampla Concorrência</td>\n",
       "      <td>SE</td>\n",
       "      <td>2800308.00</td>\n",
       "      <td>2003-10-26</td>\n",
       "      <td>True</td>\n",
       "      <td>Ciência Da Computação</td>\n",
       "      <td>UFPE</td>\n",
       "      <td>Campus Universitário Cidade Do Recife</td>\n",
       "    </tr>\n",
       "    <tr>\n",
       "      <th>1</th>\n",
       "      <td>683.61</td>\n",
       "      <td>M</td>\n",
       "      <td>Candidatos Autodeclarados Pretos. Pardos Ou In...</td>\n",
       "      <td>SE</td>\n",
       "      <td>2800308.00</td>\n",
       "      <td>2002-01-15</td>\n",
       "      <td>True</td>\n",
       "      <td>Ciência Da Computação</td>\n",
       "      <td>UFPE</td>\n",
       "      <td>Campus Universitário Cidade Do Recife</td>\n",
       "    </tr>\n",
       "    <tr>\n",
       "      <th>2</th>\n",
       "      <td>712.40</td>\n",
       "      <td>M</td>\n",
       "      <td>Candidatos Autodeclarados Pretos. Pardos Ou In...</td>\n",
       "      <td>GO</td>\n",
       "      <td>5201405.00</td>\n",
       "      <td>2002-05-02</td>\n",
       "      <td>True</td>\n",
       "      <td>Ciência Da Computação</td>\n",
       "      <td>UFPE</td>\n",
       "      <td>Campus Universitário Cidade Do Recife</td>\n",
       "    </tr>\n",
       "    <tr>\n",
       "      <th>3</th>\n",
       "      <td>699.37</td>\n",
       "      <td>M</td>\n",
       "      <td>Candidatos Autodeclarados Pretos. Pardos Ou In...</td>\n",
       "      <td>PA</td>\n",
       "      <td>1501402.00</td>\n",
       "      <td>2000-01-10</td>\n",
       "      <td>True</td>\n",
       "      <td>Ciência Da Computação</td>\n",
       "      <td>UFPE</td>\n",
       "      <td>Campus Universitário Cidade Do Recife</td>\n",
       "    </tr>\n",
       "    <tr>\n",
       "      <th>4</th>\n",
       "      <td>652.58</td>\n",
       "      <td>M</td>\n",
       "      <td>Ampla Concorrência</td>\n",
       "      <td>PA</td>\n",
       "      <td>1500800.00</td>\n",
       "      <td>2000-11-16</td>\n",
       "      <td>True</td>\n",
       "      <td>Ciência Da Computação</td>\n",
       "      <td>UFPE</td>\n",
       "      <td>Campus Universitário Cidade Do Recife</td>\n",
       "    </tr>\n",
       "  </tbody>\n",
       "</table>\n",
       "</div>"
      ],
      "text/plain": [
       "   nota_candidato sexo                            modalidade_concorrencia  \\\n",
       "0          803.65    M                                 Ampla Concorrência   \n",
       "1          683.61    M  Candidatos Autodeclarados Pretos. Pardos Ou In...   \n",
       "2          712.40    M  Candidatos Autodeclarados Pretos. Pardos Ou In...   \n",
       "3          699.37    M  Candidatos Autodeclarados Pretos. Pardos Ou In...   \n",
       "4          652.58    M                                 Ampla Concorrência   \n",
       "\n",
       "  sigla_uf_candidato  id_municipio_candidato data_nascimento  status_aprovado  \\\n",
       "0                 SE              2800308.00      2003-10-26             True   \n",
       "1                 SE              2800308.00      2002-01-15             True   \n",
       "2                 GO              5201405.00      2002-05-02             True   \n",
       "3                 PA              1501402.00      2000-01-10             True   \n",
       "4                 PA              1500800.00      2000-11-16             True   \n",
       "\n",
       "              nome_curso sigla_ies                                 campus  \n",
       "0  Ciência Da Computação      UFPE  Campus Universitário Cidade Do Recife  \n",
       "1  Ciência Da Computação      UFPE  Campus Universitário Cidade Do Recife  \n",
       "2  Ciência Da Computação      UFPE  Campus Universitário Cidade Do Recife  \n",
       "3  Ciência Da Computação      UFPE  Campus Universitário Cidade Do Recife  \n",
       "4  Ciência Da Computação      UFPE  Campus Universitário Cidade Do Recife  "
      ]
     },
     "execution_count": 116,
     "metadata": {},
     "output_type": "execute_result"
    }
   ],
   "source": [
    "# Visualizando as primeiras 5 linhas do dataframe\n",
    "df.head(5)"
   ]
  },
  {
   "cell_type": "markdown",
   "id": "e960d4d6",
   "metadata": {},
   "source": [
    "### Convertendo tipos de dados:\n",
    "\n",
    "Podemos realizar a conversão dos tipos de dados necessários apenas após o tratamento dos valores ausentes. Isso ocorre porque, ao tentar converter esses valores para o tipo `int`, o Python lança um erro, já que o tipo inteiro não é capaz de representar valores indefinidos ou infinitos, o que resulta em falhas na conversão.  \n",
    "\n",
    "Dessa forma, identifiquei que a coluna `'id_municipio_candidato'` estava no tipo `float`. Para evitar possíveis inconsistências nos dados durante a futura substituição de valores, optei por converter a coluna de ID para o tipo inteiro."
   ]
  },
  {
   "cell_type": "code",
   "execution_count": 121,
   "id": "85bd335c",
   "metadata": {},
   "outputs": [],
   "source": [
    "# Convertendo coluna tipo de dados da 'id_municipio_candidato' de float para int\n",
    "df['id_municipio_candidato'] = df['id_municipio_candidato'].astype(int)"
   ]
  },
  {
   "cell_type": "markdown",
   "id": "10b23be0",
   "metadata": {},
   "source": [
    "#### Verificando resultados:"
   ]
  },
  {
   "cell_type": "code",
   "execution_count": 122,
   "id": "c0f53045",
   "metadata": {},
   "outputs": [
    {
     "name": "stdout",
     "output_type": "stream",
     "text": [
      "<class 'pandas.core.frame.DataFrame'>\n",
      "Int64Index: 1833 entries, 0 to 1833\n",
      "Data columns (total 10 columns):\n",
      " #   Column                   Non-Null Count  Dtype  \n",
      "---  ------                   --------------  -----  \n",
      " 0   nota_candidato           1833 non-null   float64\n",
      " 1   sexo                     1833 non-null   object \n",
      " 2   modalidade_concorrencia  1833 non-null   object \n",
      " 3   sigla_uf_candidato       1833 non-null   object \n",
      " 4   id_municipio_candidato   1833 non-null   int32  \n",
      " 5   data_nascimento          1833 non-null   object \n",
      " 6   status_aprovado          1833 non-null   bool   \n",
      " 7   nome_curso               1833 non-null   object \n",
      " 8   sigla_ies                1833 non-null   object \n",
      " 9   campus                   1833 non-null   object \n",
      "dtypes: bool(1), float64(1), int32(1), object(7)\n",
      "memory usage: 137.8+ KB\n"
     ]
    }
   ],
   "source": [
    "# Visualizando as primeiras 5 linhas do dataframe\n",
    "df.info()"
   ]
  },
  {
   "cell_type": "markdown",
   "id": "1779cb39",
   "metadata": {},
   "source": [
    "### Substituição de dados:\n",
    "Garanti a padronização dos dados categóricos, como `'sexo'` e `'status_aprovado'`, essenciais nos próximos passos das análises."
   ]
  },
  {
   "cell_type": "code",
   "execution_count": 129,
   "id": "4468a531",
   "metadata": {},
   "outputs": [],
   "source": [
    "# Substituindo o valor True por Aprovado na coluna 'status_aprovado'\n",
    "df['status_aprovado'] = df['status_aprovado'].replace(True, 'Aprovado')"
   ]
  },
  {
   "cell_type": "code",
   "execution_count": 130,
   "id": "78f261ae",
   "metadata": {},
   "outputs": [],
   "source": [
    "# Substituindo 'M' por 'Masculino' na coluna 'sexo'\n",
    "df['sexo'] = df['sexo'].replace('M', 'Masculino')"
   ]
  },
  {
   "cell_type": "code",
   "execution_count": 131,
   "id": "ef626c3d",
   "metadata": {},
   "outputs": [],
   "source": [
    "# Substituindo 'F' por 'Feminino' na coluna 'sexo'\n",
    "df['sexo'] = df['sexo'].replace('F', 'Feminino')"
   ]
  },
  {
   "cell_type": "markdown",
   "id": "3abeff95",
   "metadata": {},
   "source": [
    "#### Verificando resultados:"
   ]
  },
  {
   "cell_type": "code",
   "execution_count": 132,
   "id": "725c5d12",
   "metadata": {},
   "outputs": [
    {
     "data": {
      "text/html": [
       "<div>\n",
       "<style scoped>\n",
       "    .dataframe tbody tr th:only-of-type {\n",
       "        vertical-align: middle;\n",
       "    }\n",
       "\n",
       "    .dataframe tbody tr th {\n",
       "        vertical-align: top;\n",
       "    }\n",
       "\n",
       "    .dataframe thead th {\n",
       "        text-align: right;\n",
       "    }\n",
       "</style>\n",
       "<table border=\"1\" class=\"dataframe\">\n",
       "  <thead>\n",
       "    <tr style=\"text-align: right;\">\n",
       "      <th></th>\n",
       "      <th>nota_candidato</th>\n",
       "      <th>sexo</th>\n",
       "      <th>modalidade_concorrencia</th>\n",
       "      <th>sigla_uf_candidato</th>\n",
       "      <th>id_municipio_candidato</th>\n",
       "      <th>data_nascimento</th>\n",
       "      <th>status_aprovado</th>\n",
       "      <th>nome_curso</th>\n",
       "      <th>sigla_ies</th>\n",
       "      <th>campus</th>\n",
       "    </tr>\n",
       "  </thead>\n",
       "  <tbody>\n",
       "    <tr>\n",
       "      <th>0</th>\n",
       "      <td>803.65</td>\n",
       "      <td>Masculino</td>\n",
       "      <td>Ampla Concorrência</td>\n",
       "      <td>SE</td>\n",
       "      <td>2800308</td>\n",
       "      <td>2003-10-26</td>\n",
       "      <td>Aprovado</td>\n",
       "      <td>Ciência Da Computação</td>\n",
       "      <td>UFPE</td>\n",
       "      <td>Campus Universitário Cidade Do Recife</td>\n",
       "    </tr>\n",
       "    <tr>\n",
       "      <th>1</th>\n",
       "      <td>683.61</td>\n",
       "      <td>Masculino</td>\n",
       "      <td>Candidatos Autodeclarados Pretos. Pardos Ou In...</td>\n",
       "      <td>SE</td>\n",
       "      <td>2800308</td>\n",
       "      <td>2002-01-15</td>\n",
       "      <td>Aprovado</td>\n",
       "      <td>Ciência Da Computação</td>\n",
       "      <td>UFPE</td>\n",
       "      <td>Campus Universitário Cidade Do Recife</td>\n",
       "    </tr>\n",
       "    <tr>\n",
       "      <th>2</th>\n",
       "      <td>712.40</td>\n",
       "      <td>Masculino</td>\n",
       "      <td>Candidatos Autodeclarados Pretos. Pardos Ou In...</td>\n",
       "      <td>GO</td>\n",
       "      <td>5201405</td>\n",
       "      <td>2002-05-02</td>\n",
       "      <td>Aprovado</td>\n",
       "      <td>Ciência Da Computação</td>\n",
       "      <td>UFPE</td>\n",
       "      <td>Campus Universitário Cidade Do Recife</td>\n",
       "    </tr>\n",
       "    <tr>\n",
       "      <th>3</th>\n",
       "      <td>699.37</td>\n",
       "      <td>Masculino</td>\n",
       "      <td>Candidatos Autodeclarados Pretos. Pardos Ou In...</td>\n",
       "      <td>PA</td>\n",
       "      <td>1501402</td>\n",
       "      <td>2000-01-10</td>\n",
       "      <td>Aprovado</td>\n",
       "      <td>Ciência Da Computação</td>\n",
       "      <td>UFPE</td>\n",
       "      <td>Campus Universitário Cidade Do Recife</td>\n",
       "    </tr>\n",
       "    <tr>\n",
       "      <th>4</th>\n",
       "      <td>652.58</td>\n",
       "      <td>Masculino</td>\n",
       "      <td>Ampla Concorrência</td>\n",
       "      <td>PA</td>\n",
       "      <td>1500800</td>\n",
       "      <td>2000-11-16</td>\n",
       "      <td>Aprovado</td>\n",
       "      <td>Ciência Da Computação</td>\n",
       "      <td>UFPE</td>\n",
       "      <td>Campus Universitário Cidade Do Recife</td>\n",
       "    </tr>\n",
       "  </tbody>\n",
       "</table>\n",
       "</div>"
      ],
      "text/plain": [
       "   nota_candidato       sexo  \\\n",
       "0          803.65  Masculino   \n",
       "1          683.61  Masculino   \n",
       "2          712.40  Masculino   \n",
       "3          699.37  Masculino   \n",
       "4          652.58  Masculino   \n",
       "\n",
       "                             modalidade_concorrencia sigla_uf_candidato  \\\n",
       "0                                 Ampla Concorrência                 SE   \n",
       "1  Candidatos Autodeclarados Pretos. Pardos Ou In...                 SE   \n",
       "2  Candidatos Autodeclarados Pretos. Pardos Ou In...                 GO   \n",
       "3  Candidatos Autodeclarados Pretos. Pardos Ou In...                 PA   \n",
       "4                                 Ampla Concorrência                 PA   \n",
       "\n",
       "   id_municipio_candidato data_nascimento status_aprovado  \\\n",
       "0                 2800308      2003-10-26        Aprovado   \n",
       "1                 2800308      2002-01-15        Aprovado   \n",
       "2                 5201405      2002-05-02        Aprovado   \n",
       "3                 1501402      2000-01-10        Aprovado   \n",
       "4                 1500800      2000-11-16        Aprovado   \n",
       "\n",
       "              nome_curso sigla_ies                                 campus  \n",
       "0  Ciência Da Computação      UFPE  Campus Universitário Cidade Do Recife  \n",
       "1  Ciência Da Computação      UFPE  Campus Universitário Cidade Do Recife  \n",
       "2  Ciência Da Computação      UFPE  Campus Universitário Cidade Do Recife  \n",
       "3  Ciência Da Computação      UFPE  Campus Universitário Cidade Do Recife  \n",
       "4  Ciência Da Computação      UFPE  Campus Universitário Cidade Do Recife  "
      ]
     },
     "execution_count": 132,
     "metadata": {},
     "output_type": "execute_result"
    }
   ],
   "source": [
    "# Visualizando as primeiras 5 linhas do dataframe\n",
    "df.head(5)"
   ]
  },
  {
   "cell_type": "markdown",
   "id": "ebf43417",
   "metadata": {},
   "source": [
    "#### Importando tabela de códigos de município do IBGE:"
   ]
  },
  {
   "cell_type": "code",
   "execution_count": 133,
   "id": "fe437574",
   "metadata": {},
   "outputs": [],
   "source": [
    "# Carregando o DataFrame com os dados dos municípios do IBGE em Excel\n",
    "df_municipios = pd.read_excel('codigos_municipios_ibge.xlsx', usecols=['Código Município Completo', 'Nome_Município'])"
   ]
  },
  {
   "cell_type": "code",
   "execution_count": 136,
   "id": "ea28dc92",
   "metadata": {},
   "outputs": [
    {
     "data": {
      "text/html": [
       "<div>\n",
       "<style scoped>\n",
       "    .dataframe tbody tr th:only-of-type {\n",
       "        vertical-align: middle;\n",
       "    }\n",
       "\n",
       "    .dataframe tbody tr th {\n",
       "        vertical-align: top;\n",
       "    }\n",
       "\n",
       "    .dataframe thead th {\n",
       "        text-align: right;\n",
       "    }\n",
       "</style>\n",
       "<table border=\"1\" class=\"dataframe\">\n",
       "  <thead>\n",
       "    <tr style=\"text-align: right;\">\n",
       "      <th></th>\n",
       "      <th>Código Município Completo</th>\n",
       "      <th>Nome_Município</th>\n",
       "    </tr>\n",
       "  </thead>\n",
       "  <tbody>\n",
       "    <tr>\n",
       "      <th>0</th>\n",
       "      <td>1100015</td>\n",
       "      <td>Alta Floresta D'Oeste</td>\n",
       "    </tr>\n",
       "    <tr>\n",
       "      <th>1</th>\n",
       "      <td>1100379</td>\n",
       "      <td>Alto Alegre dos Parecis</td>\n",
       "    </tr>\n",
       "    <tr>\n",
       "      <th>2</th>\n",
       "      <td>1100403</td>\n",
       "      <td>Alto Paraíso</td>\n",
       "    </tr>\n",
       "    <tr>\n",
       "      <th>3</th>\n",
       "      <td>1100346</td>\n",
       "      <td>Alvorada D'Oeste</td>\n",
       "    </tr>\n",
       "    <tr>\n",
       "      <th>4</th>\n",
       "      <td>1100023</td>\n",
       "      <td>Ariquemes</td>\n",
       "    </tr>\n",
       "  </tbody>\n",
       "</table>\n",
       "</div>"
      ],
      "text/plain": [
       "   Código Município Completo           Nome_Município\n",
       "0                    1100015    Alta Floresta D'Oeste\n",
       "1                    1100379  Alto Alegre dos Parecis\n",
       "2                    1100403             Alto Paraíso\n",
       "3                    1100346         Alvorada D'Oeste\n",
       "4                    1100023                Ariquemes"
      ]
     },
     "execution_count": 136,
     "metadata": {},
     "output_type": "execute_result"
    }
   ],
   "source": [
    "# Visualizando as primeiras 5 linhas da tabela de municípios\n",
    "df_municipios.head(5)"
   ]
  },
  {
   "cell_type": "markdown",
   "id": "5cfb4a44",
   "metadata": {},
   "source": [
    "#### Substituindo ids do município dos candidatos pelo nome do município:"
   ]
  },
  {
   "cell_type": "code",
   "execution_count": 137,
   "id": "ab773cd3",
   "metadata": {},
   "outputs": [],
   "source": [
    "# Realizando a mesclagem dos DataFrames com base na coluna de IDs\n",
    "df_com_nomes = df.merge(df_municipios, left_on='id_municipio_candidato', right_on='Código Município Completo', how='left')"
   ]
  },
  {
   "cell_type": "code",
   "execution_count": 138,
   "id": "191938fd",
   "metadata": {},
   "outputs": [],
   "source": [
    "# Substituindo a coluna de ID pelo nome do município\n",
    "df_com_nomes['id_municipio_candidato'] = df_com_nomes['Nome_Município']"
   ]
  },
  {
   "cell_type": "code",
   "execution_count": 139,
   "id": "329df30c",
   "metadata": {},
   "outputs": [],
   "source": [
    "# Renomeando coluna 'id_municipio_candidato' para 'municipio_candidato'\n",
    "df_com_nomes = df_com_nomes.rename(columns={'id_municipio_candidato': 'municipio_candidato'})"
   ]
  },
  {
   "cell_type": "code",
   "execution_count": 149,
   "id": "60d944a8",
   "metadata": {},
   "outputs": [
    {
     "data": {
      "text/html": [
       "<div>\n",
       "<style scoped>\n",
       "    .dataframe tbody tr th:only-of-type {\n",
       "        vertical-align: middle;\n",
       "    }\n",
       "\n",
       "    .dataframe tbody tr th {\n",
       "        vertical-align: top;\n",
       "    }\n",
       "\n",
       "    .dataframe thead th {\n",
       "        text-align: right;\n",
       "    }\n",
       "</style>\n",
       "<table border=\"1\" class=\"dataframe\">\n",
       "  <thead>\n",
       "    <tr style=\"text-align: right;\">\n",
       "      <th></th>\n",
       "      <th>nota_candidato</th>\n",
       "      <th>sexo</th>\n",
       "      <th>modalidade_concorrencia</th>\n",
       "      <th>sigla_uf_candidato</th>\n",
       "      <th>municipio_candidato</th>\n",
       "      <th>data_nascimento</th>\n",
       "      <th>status_aprovado</th>\n",
       "      <th>nome_curso</th>\n",
       "      <th>sigla_ies</th>\n",
       "      <th>campus</th>\n",
       "      <th>Código Município Completo</th>\n",
       "      <th>Nome_Município</th>\n",
       "    </tr>\n",
       "  </thead>\n",
       "  <tbody>\n",
       "    <tr>\n",
       "      <th>0</th>\n",
       "      <td>803.65</td>\n",
       "      <td>Masculino</td>\n",
       "      <td>Ampla Concorrência</td>\n",
       "      <td>SE</td>\n",
       "      <td>Aracaju</td>\n",
       "      <td>2003-10-26</td>\n",
       "      <td>Aprovado</td>\n",
       "      <td>Ciência Da Computação</td>\n",
       "      <td>UFPE</td>\n",
       "      <td>Campus Universitário Cidade Do Recife</td>\n",
       "      <td>2800308</td>\n",
       "      <td>Aracaju</td>\n",
       "    </tr>\n",
       "    <tr>\n",
       "      <th>1</th>\n",
       "      <td>683.61</td>\n",
       "      <td>Masculino</td>\n",
       "      <td>Candidatos Autodeclarados Pretos. Pardos Ou In...</td>\n",
       "      <td>SE</td>\n",
       "      <td>Aracaju</td>\n",
       "      <td>2002-01-15</td>\n",
       "      <td>Aprovado</td>\n",
       "      <td>Ciência Da Computação</td>\n",
       "      <td>UFPE</td>\n",
       "      <td>Campus Universitário Cidade Do Recife</td>\n",
       "      <td>2800308</td>\n",
       "      <td>Aracaju</td>\n",
       "    </tr>\n",
       "    <tr>\n",
       "      <th>2</th>\n",
       "      <td>712.40</td>\n",
       "      <td>Masculino</td>\n",
       "      <td>Candidatos Autodeclarados Pretos. Pardos Ou In...</td>\n",
       "      <td>GO</td>\n",
       "      <td>Aparecida de Goiânia</td>\n",
       "      <td>2002-05-02</td>\n",
       "      <td>Aprovado</td>\n",
       "      <td>Ciência Da Computação</td>\n",
       "      <td>UFPE</td>\n",
       "      <td>Campus Universitário Cidade Do Recife</td>\n",
       "      <td>5201405</td>\n",
       "      <td>Aparecida de Goiânia</td>\n",
       "    </tr>\n",
       "    <tr>\n",
       "      <th>3</th>\n",
       "      <td>699.37</td>\n",
       "      <td>Masculino</td>\n",
       "      <td>Candidatos Autodeclarados Pretos. Pardos Ou In...</td>\n",
       "      <td>PA</td>\n",
       "      <td>Belém</td>\n",
       "      <td>2000-01-10</td>\n",
       "      <td>Aprovado</td>\n",
       "      <td>Ciência Da Computação</td>\n",
       "      <td>UFPE</td>\n",
       "      <td>Campus Universitário Cidade Do Recife</td>\n",
       "      <td>1501402</td>\n",
       "      <td>Belém</td>\n",
       "    </tr>\n",
       "    <tr>\n",
       "      <th>4</th>\n",
       "      <td>652.58</td>\n",
       "      <td>Masculino</td>\n",
       "      <td>Ampla Concorrência</td>\n",
       "      <td>PA</td>\n",
       "      <td>Ananindeua</td>\n",
       "      <td>2000-11-16</td>\n",
       "      <td>Aprovado</td>\n",
       "      <td>Ciência Da Computação</td>\n",
       "      <td>UFPE</td>\n",
       "      <td>Campus Universitário Cidade Do Recife</td>\n",
       "      <td>1500800</td>\n",
       "      <td>Ananindeua</td>\n",
       "    </tr>\n",
       "  </tbody>\n",
       "</table>\n",
       "</div>"
      ],
      "text/plain": [
       "   nota_candidato       sexo  \\\n",
       "0          803.65  Masculino   \n",
       "1          683.61  Masculino   \n",
       "2          712.40  Masculino   \n",
       "3          699.37  Masculino   \n",
       "4          652.58  Masculino   \n",
       "\n",
       "                             modalidade_concorrencia sigla_uf_candidato  \\\n",
       "0                                 Ampla Concorrência                 SE   \n",
       "1  Candidatos Autodeclarados Pretos. Pardos Ou In...                 SE   \n",
       "2  Candidatos Autodeclarados Pretos. Pardos Ou In...                 GO   \n",
       "3  Candidatos Autodeclarados Pretos. Pardos Ou In...                 PA   \n",
       "4                                 Ampla Concorrência                 PA   \n",
       "\n",
       "    municipio_candidato data_nascimento status_aprovado  \\\n",
       "0               Aracaju      2003-10-26        Aprovado   \n",
       "1               Aracaju      2002-01-15        Aprovado   \n",
       "2  Aparecida de Goiânia      2002-05-02        Aprovado   \n",
       "3                 Belém      2000-01-10        Aprovado   \n",
       "4            Ananindeua      2000-11-16        Aprovado   \n",
       "\n",
       "              nome_curso sigla_ies                                 campus  \\\n",
       "0  Ciência Da Computação      UFPE  Campus Universitário Cidade Do Recife   \n",
       "1  Ciência Da Computação      UFPE  Campus Universitário Cidade Do Recife   \n",
       "2  Ciência Da Computação      UFPE  Campus Universitário Cidade Do Recife   \n",
       "3  Ciência Da Computação      UFPE  Campus Universitário Cidade Do Recife   \n",
       "4  Ciência Da Computação      UFPE  Campus Universitário Cidade Do Recife   \n",
       "\n",
       "   Código Município Completo        Nome_Município  \n",
       "0                    2800308               Aracaju  \n",
       "1                    2800308               Aracaju  \n",
       "2                    5201405  Aparecida de Goiânia  \n",
       "3                    1501402                 Belém  \n",
       "4                    1500800            Ananindeua  "
      ]
     },
     "execution_count": 149,
     "metadata": {},
     "output_type": "execute_result"
    }
   ],
   "source": [
    "# Verificando resultados\n",
    "df_com_nomes.head()"
   ]
  },
  {
   "cell_type": "markdown",
   "id": "903f6a54",
   "metadata": {},
   "source": [
    "### Remoção de colunas:\n",
    "Removi as colunas `'Código Município Completo'` e `'Nome_Município'` obtidas através da mesclagem entre a tabela de municípios e o dataframe original."
   ]
  },
  {
   "cell_type": "code",
   "execution_count": 154,
   "id": "ee4adb07",
   "metadata": {
    "scrolled": false
   },
   "outputs": [],
   "source": [
    "# Removendo colunas 'Código Município Completo' e 'Nome_Município'\n",
    "df_limpo = df_com_nomes.drop(columns=['Código Município Completo', 'Nome_Município'])"
   ]
  },
  {
   "cell_type": "code",
   "execution_count": 155,
   "id": "3e11afea",
   "metadata": {},
   "outputs": [
    {
     "data": {
      "text/html": [
       "<div>\n",
       "<style scoped>\n",
       "    .dataframe tbody tr th:only-of-type {\n",
       "        vertical-align: middle;\n",
       "    }\n",
       "\n",
       "    .dataframe tbody tr th {\n",
       "        vertical-align: top;\n",
       "    }\n",
       "\n",
       "    .dataframe thead th {\n",
       "        text-align: right;\n",
       "    }\n",
       "</style>\n",
       "<table border=\"1\" class=\"dataframe\">\n",
       "  <thead>\n",
       "    <tr style=\"text-align: right;\">\n",
       "      <th></th>\n",
       "      <th>nota_candidato</th>\n",
       "      <th>sexo</th>\n",
       "      <th>modalidade_concorrencia</th>\n",
       "      <th>sigla_uf_candidato</th>\n",
       "      <th>municipio_candidato</th>\n",
       "      <th>data_nascimento</th>\n",
       "      <th>status_aprovado</th>\n",
       "      <th>nome_curso</th>\n",
       "      <th>sigla_ies</th>\n",
       "      <th>campus</th>\n",
       "    </tr>\n",
       "  </thead>\n",
       "  <tbody>\n",
       "    <tr>\n",
       "      <th>0</th>\n",
       "      <td>803.65</td>\n",
       "      <td>Masculino</td>\n",
       "      <td>Ampla Concorrência</td>\n",
       "      <td>SE</td>\n",
       "      <td>Aracaju</td>\n",
       "      <td>2003-10-26</td>\n",
       "      <td>Aprovado</td>\n",
       "      <td>Ciência Da Computação</td>\n",
       "      <td>UFPE</td>\n",
       "      <td>Campus Universitário Cidade Do Recife</td>\n",
       "    </tr>\n",
       "    <tr>\n",
       "      <th>1</th>\n",
       "      <td>683.61</td>\n",
       "      <td>Masculino</td>\n",
       "      <td>Candidatos Autodeclarados Pretos. Pardos Ou In...</td>\n",
       "      <td>SE</td>\n",
       "      <td>Aracaju</td>\n",
       "      <td>2002-01-15</td>\n",
       "      <td>Aprovado</td>\n",
       "      <td>Ciência Da Computação</td>\n",
       "      <td>UFPE</td>\n",
       "      <td>Campus Universitário Cidade Do Recife</td>\n",
       "    </tr>\n",
       "    <tr>\n",
       "      <th>2</th>\n",
       "      <td>712.40</td>\n",
       "      <td>Masculino</td>\n",
       "      <td>Candidatos Autodeclarados Pretos. Pardos Ou In...</td>\n",
       "      <td>GO</td>\n",
       "      <td>Aparecida de Goiânia</td>\n",
       "      <td>2002-05-02</td>\n",
       "      <td>Aprovado</td>\n",
       "      <td>Ciência Da Computação</td>\n",
       "      <td>UFPE</td>\n",
       "      <td>Campus Universitário Cidade Do Recife</td>\n",
       "    </tr>\n",
       "    <tr>\n",
       "      <th>3</th>\n",
       "      <td>699.37</td>\n",
       "      <td>Masculino</td>\n",
       "      <td>Candidatos Autodeclarados Pretos. Pardos Ou In...</td>\n",
       "      <td>PA</td>\n",
       "      <td>Belém</td>\n",
       "      <td>2000-01-10</td>\n",
       "      <td>Aprovado</td>\n",
       "      <td>Ciência Da Computação</td>\n",
       "      <td>UFPE</td>\n",
       "      <td>Campus Universitário Cidade Do Recife</td>\n",
       "    </tr>\n",
       "    <tr>\n",
       "      <th>4</th>\n",
       "      <td>652.58</td>\n",
       "      <td>Masculino</td>\n",
       "      <td>Ampla Concorrência</td>\n",
       "      <td>PA</td>\n",
       "      <td>Ananindeua</td>\n",
       "      <td>2000-11-16</td>\n",
       "      <td>Aprovado</td>\n",
       "      <td>Ciência Da Computação</td>\n",
       "      <td>UFPE</td>\n",
       "      <td>Campus Universitário Cidade Do Recife</td>\n",
       "    </tr>\n",
       "  </tbody>\n",
       "</table>\n",
       "</div>"
      ],
      "text/plain": [
       "   nota_candidato       sexo  \\\n",
       "0          803.65  Masculino   \n",
       "1          683.61  Masculino   \n",
       "2          712.40  Masculino   \n",
       "3          699.37  Masculino   \n",
       "4          652.58  Masculino   \n",
       "\n",
       "                             modalidade_concorrencia sigla_uf_candidato  \\\n",
       "0                                 Ampla Concorrência                 SE   \n",
       "1  Candidatos Autodeclarados Pretos. Pardos Ou In...                 SE   \n",
       "2  Candidatos Autodeclarados Pretos. Pardos Ou In...                 GO   \n",
       "3  Candidatos Autodeclarados Pretos. Pardos Ou In...                 PA   \n",
       "4                                 Ampla Concorrência                 PA   \n",
       "\n",
       "    municipio_candidato data_nascimento status_aprovado  \\\n",
       "0               Aracaju      2003-10-26        Aprovado   \n",
       "1               Aracaju      2002-01-15        Aprovado   \n",
       "2  Aparecida de Goiânia      2002-05-02        Aprovado   \n",
       "3                 Belém      2000-01-10        Aprovado   \n",
       "4            Ananindeua      2000-11-16        Aprovado   \n",
       "\n",
       "              nome_curso sigla_ies                                 campus  \n",
       "0  Ciência Da Computação      UFPE  Campus Universitário Cidade Do Recife  \n",
       "1  Ciência Da Computação      UFPE  Campus Universitário Cidade Do Recife  \n",
       "2  Ciência Da Computação      UFPE  Campus Universitário Cidade Do Recife  \n",
       "3  Ciência Da Computação      UFPE  Campus Universitário Cidade Do Recife  \n",
       "4  Ciência Da Computação      UFPE  Campus Universitário Cidade Do Recife  "
      ]
     },
     "execution_count": 155,
     "metadata": {},
     "output_type": "execute_result"
    }
   ],
   "source": [
    "# Visualizando as primeiras 5 linhas da tabela de municípios \n",
    "df_limpo.head(5)"
   ]
  },
  {
   "cell_type": "code",
   "execution_count": null,
   "id": "0e6faaf1",
   "metadata": {},
   "outputs": [],
   "source": []
  }
 ],
 "metadata": {
  "kernelspec": {
   "display_name": "Python 3 (ipykernel)",
   "language": "python",
   "name": "python3"
  },
  "language_info": {
   "codemirror_mode": {
    "name": "ipython",
    "version": 3
   },
   "file_extension": ".py",
   "mimetype": "text/x-python",
   "name": "python",
   "nbconvert_exporter": "python",
   "pygments_lexer": "ipython3",
   "version": "3.9.13"
  }
 },
 "nbformat": 4,
 "nbformat_minor": 5
}
